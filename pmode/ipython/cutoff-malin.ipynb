{
 "cells": [
  {
   "cell_type": "markdown",
   "metadata": {},
   "source": [
    "# Cutoff for the solar atmosphere using the VALIIIc Model\n",
    "\n",
    "##Background - the problem\n",
    "\n",
    "\n",
    "The cutoff frequency for the slow magnetoacoustic wave is derived in *Roberts (2006)* from equation (3.11) which is given below:\n",
    "\n",
    "$$\\frac{\\partial^2 Q}{\\partial t^2} - c_t^2(z) \\frac{\\partial^2 Q}{\\partial z^2} + \\Omega^2(z)Q = 0 \\qquad\\text{(1)}$$\n",
    "\n",
    "which by fourier analysing in time gives the following equation:\n",
    "\n",
    "$$\\frac{d^2 Q(z)}{d t^2} + \\left( \\frac{\\omega^2 - \\Omega^2(z)}{c_t^2(z)} \\right)Q(z) = 0 \\qquad\\text{(2)}$$\n",
    "\t\n",
    "\n",
    "Compute the atmospheric cut-off frequenccy (From Roberts 2004)\n",
    "\n",
    "$$ \\omega_{c}=\\frac{\\gamma g}{4\\pi c_{s}}\\sqrt{1+2\\frac{d}{dz}\\frac{P}{\\rho g}}$$\n",
    "\n",
    "The atmospheric scale parameter \n",
    "\n",
    "Read VAL IIc data from csv file\n",
    "\n",
    "column 1 height [m]\n",
    "Column 2 Temperature [K]\n",
    "Column 3 Density [kg/m^3]\n",
    "Column 4 Pressure [Pa]\n"
   ]
  },
  {
   "cell_type": "code",
   "execution_count": 2,
   "metadata": {
    "collapsed": false
   },
   "outputs": [
    {
     "name": "stdout",
     "output_type": "stream",
     "text": [
      "(2048L, 4L)\n",
      "[ 6.20960377  6.20920411  6.20880509 ...,  3.76641285  3.76641285\n",
      "  3.76641285]\n"
     ]
    },
    {
     "data": {
      "text/plain": [
       "[<matplotlib.lines.Line2D at 0xaa04240>]"
      ]
     },
     "execution_count": 2,
     "metadata": {},
     "output_type": "execute_result"
    },
    {
     "data": {
      "image/png": "[encoded data removed]",
      "text/plain": [
       "<matplotlib.figure.Figure at 0xa8922b0>"
      ]
     },
     "metadata": {},
     "output_type": "display_data"
    }
   ],
   "source": [
    "import numpy as numpy\n",
    "import matplotlib.pyplot as plt\n",
    "import math\n",
    "\n",
    "\n",
    "\n",
    "%matplotlib inline \n",
    "data=numpy.loadtxt(fname='..\\\\data\\\\atmos.csv', delimiter=',')\n",
    "#print data\n",
    "print data.shape\n",
    "#print data[1:10,2]\n",
    "height=data[0:2048,0]\n",
    "ltemp=numpy.log10(data[0:2048,1]) #notation to avoid http://stackoverflow.com/questions/21687581/typeerror-only-length-1-arrays-can-be-converted-to-python-scalars-while-trying\n",
    "\n",
    "print ltemp\n",
    "plt.plot(height/1.0e6,ltemp)"
   ]
  },
  {
   "cell_type": "markdown",
   "metadata": {},
   "source": [
    "## Function to compute the speed of sound"
   ]
  },
  {
   "cell_type": "code",
   "execution_count": 3,
   "metadata": {
    "collapsed": false
   },
   "outputs": [
    {
     "name": "stdout",
     "output_type": "stream",
     "text": [
      "8192\n",
      "2048\n",
      "2048\n"
     ]
    },
    {
     "data": {
      "text/plain": [
       "[<matplotlib.lines.Line2D at 0xaac55c0>]"
      ]
     },
     "execution_count": 3,
     "metadata": {},
     "output_type": "execute_result"
    },
    {
     "data": {
      "image/png": "[encoded data removed]",
      "text/plain": [
       "<matplotlib.figure.Figure at 0xabdef28>"
      ]
     },
     "metadata": {},
     "output_type": "display_data"
    }
   ],
   "source": [
    "from math import exp, sqrt, pi\n",
    "\n",
    "class vars:\n",
    "  \n",
    "    mu=0.6e0\n",
    "    R=8.31e3\n",
    "    fgamma=1.66666667e0\n",
    "    ggg=-274.0e0\n",
    "    mu=4*pi/1.0e7\n",
    "    \n",
    "\n",
    "def cs(var, p, rho):\n",
    "    vcs=sqrt(vars.fgamma*p/rho)\n",
    "    return vcs\n",
    "\n",
    "ptemp=numpy.float64(data[1:2048,3])\n",
    "rhotemp=numpy.float64(data[1:2048,2])\n",
    "\n",
    "asize=data.size\n",
    "print asize\n",
    "acs = numpy.zeros(asize/4)\n",
    "for i in range(0,(asize/4)-1):\n",
    "    acs[i]=cs(vars,ptemp[i],rhotemp[i]);\n",
    "    \n",
    "print acs.size\n",
    "print height.size\n",
    "plt.plot(height/1.0e6,acs/1000)"
   ]
  },
  {
   "cell_type": "markdown",
   "metadata": {},
   "source": [
    "##Functions to compute sound speed analog and gradient from best fits\n",
    "\n",
    "\n",
    "$$ \\frac{d}{dz}\\frac{P}{\\rho g}$$"
   ]
  },
  {
   "cell_type": "code",
   "execution_count": 4,
   "metadata": {
    "collapsed": true
   },
   "outputs": [],
   "source": [
    "from math import exp, sqrt, pi\n",
    "\n",
    "def p_over_rhog(vars, h):\n",
    "    poverrhog=0\n",
    "    \n",
    "    #region 1\n",
    "    if h>=2.0419e6 and h<=6e6:\n",
    "        poverrhog=177.4+1.349e-5*math.pow(h,1.886)\n",
    "    #region2\n",
    "    elif h>=1.802e6 and h<=2.039e6:\n",
    "        p1=-4.415e-34\n",
    "        p2=6.797e-27\n",
    "        p3=-4.576e-20\n",
    "        p4=1.76e-13\n",
    "        p5=-4.228e-7\n",
    "        p6=0.65\n",
    "        p7=-6.243e5\n",
    "        p8=3.426e11\n",
    "        p9=-8.22e16\n",
    "        poverrhog=p1*math.pow(h,8)+p2*math.pow(h,7)+p3*math.pow(h,6)+p4*math.pow(h,5)+p5*math.pow(h,4)+p6*math.pow(h,3)+p7*math.pow(h,2)+p8*h+p9            \n",
    "    #region3\n",
    "    elif h>=8.7e3 and h<1.7991e6:\n",
    "        p1=1.37e-42\n",
    "        p2=-9.683e-36\n",
    "        p3=2.732e-29\n",
    "        p4=-3.894e-23\n",
    "        p5=2.904e-17\n",
    "        p6=-1.067e-11\n",
    "        p7=1.973e-6\n",
    "        p8=-0.4078\n",
    "        p9=3.051e5\n",
    "        poverrhog=p1*math.pow(h,8)+p2*math.pow(h,7)+p3*math.pow(h,6)+p4*math.pow(h,5)+p5*math.pow(h,4)+p6*math.pow(h,3)+p7*math.pow(h,2)+p8*h+p9            \n",
    "                \n",
    "    return math.fabs(poverrhog)\n",
    "\n",
    "\n",
    "#compute derivative\n",
    "def dp_over_rhog(vars, h):\n",
    "    dpoverrhog=0\n",
    "    \n",
    "     #region 1\n",
    "    if h>=2.0419e6 and h<=6e6:\n",
    "        dpoverrhog=2.544214e-5*math.pow(h,0.886)\n",
    "    #region2\n",
    "    elif h>=1.802e6 and h<=2.039e6:\n",
    "        p1=-4.415e-34\n",
    "        p2=6.797e-27\n",
    "        p3=-4.576e-20\n",
    "        p4=1.76e-13\n",
    "        p5=-4.228e-7\n",
    "        p6=0.65\n",
    "        p7=-6.243e5\n",
    "        p8=3.426e11\n",
    "        p9=-8.22e16\n",
    "        #dpoverrhog=8*p1*math.pow(h,7)+7*p2*math.pow(h,6)+6*p3*math.pow(h,5)+5*p4*math.pow(h,4)+4*p5*math.pow(h,3)+3*p6*math.pow(h,2)+2*p7*h+p8                \n",
    "        dpoverrhog=2.544214e-5*math.pow(h,0.886)\n",
    "    #region3\n",
    "    elif h>=8.7e3 and h<1.7991e6:\n",
    "        p1=1.37e-42\n",
    "        p2=-9.683e-36\n",
    "        p3=2.732e-29\n",
    "        p4=-3.894e-23\n",
    "        p5=2.904e-17\n",
    "        p6=-1.067e-11\n",
    "        p7=1.973e-6\n",
    "        p8=-0.4078\n",
    "        p9=3.051e5\n",
    "        dpoverrhog=8*p1*math.pow(h,7)+7*p2*math.pow(h,6)+6*p3*math.pow(h,5)+5*p4*math.pow(h,4)+4*p5*math.pow(h,3)+3*p6*math.pow(h,2)+2*p7*h+p8                \n",
    "    return math.fabs(dpoverrhog)"
   ]
  },
  {
   "cell_type": "markdown",
   "metadata": {},
   "source": [
    "## Function to compute the atmospheric scale parameter"
   ]
  },
  {
   "cell_type": "code",
   "execution_count": 24,
   "metadata": {
    "collapsed": false
   },
   "outputs": [
    {
     "data": {
      "text/plain": [
       "[<matplotlib.lines.Line2D at 0xe81cfd0>]"
      ]
     },
     "execution_count": 24,
     "metadata": {},
     "output_type": "execute_result"
    },
    {
     "data": {
      "image/png": "[encoded data removed]",
      "text/plain": [
       "<matplotlib.figure.Figure at 0xa92d400>"
      ]
     },
     "metadata": {},
     "output_type": "display_data"
    }
   ],
   "source": [
    "from math import exp, sqrt, pi\n",
    "\n",
    "\n",
    "\n",
    "\n",
    "\n",
    "def lambda0(vars, P,rho):\n",
    "    vlam0=-P/(rho*vars.ggg)\n",
    "    return vlam0\n",
    "\n",
    "def lagrange_interp(xval,f,x,i): \n",
    "    t1=(xval-x[i])*(xval-x[i+1])/((x[i-1]-x[i])*(x[i-1]-x[i+1]))\n",
    "    t2=(xval-x[i-1])*(xval-x[i+1])/((x[i]-x[i-1])*(x[i]-x[i+1]))\n",
    "    t3=(xval-x[i-1])*(xval-x[i])/((x[i+1]-x[i-1])*(x[i+1]-x[i]))\n",
    "    y=t1*f[i-1]+t2*f[i]+t3*f[i+1]\n",
    "    return y\n",
    "\n",
    "def diff5p(y,i,h):\n",
    "    diff=(y[i-2]-8*y[i-1]+8*y[i+1]-y[i+2])/(12*h)\n",
    "    return diff\n",
    "\n",
    "def diff3p(y,i,h):\n",
    "    diff=(y[i+1]-y[i-1])/(2*h)    \n",
    "    return diff\n",
    "\n",
    "#compute lambda0\n",
    "alam0 = numpy.zeros(asize/4)\n",
    "alami0 = numpy.zeros(asize/4)\n",
    "\n",
    "for i in range(0,(asize/4)-1):\n",
    "    alam0[i]=lambda0(vars,ptemp[i],rhotemp[i])\n",
    "\n",
    "dh=height[0]-height[1]    \n",
    "for i in range(1,(asize/4)-2):\n",
    "    xval=height[0]-i*dh\n",
    "    alami0[i]=lagrange_interp(xval,alam0,height,i)    \n",
    "    \n",
    "    \n",
    "#print alam0  \n",
    "#compute cutoff\n",
    "atc0 = numpy.zeros(asize/4)\n",
    "lamdash0 = numpy.zeros(asize/4)\n",
    "for i in range(2,(asize/4)-4):\n",
    "    h=height[i]-height[i+1]\n",
    "    #lamdash0[i]=diff3p(alam0,i,h)\n",
    "    #lamdash0[i]=ptemp[i]/rhotemp[i]\n",
    "    lamdash0[i]=diff5p(alami0,i,h)\n",
    "    if lamdash0[i]<-200:\n",
    "        lamdash0[i]=-200\n",
    "    count=1\n",
    "    lamtot=0\n",
    "    for j in range(i,i+250):\n",
    "        if j<=(asize/4)-4:\n",
    "            lamtot=lamtot+lamdash0[j]\n",
    "            count=count+1\n",
    "    lamtot=lamtot/count\n",
    "    lamdash0[i]=lamtot   \n",
    "\n",
    "for i in range(2,(asize/4)-4):\n",
    "    h=height[i]-height[i+1]\n",
    "    #lamdash0[i]=diff3p(alam0,i,h)\n",
    "    #lamdash0[i]=ptemp[i]/rhotemp[i]\n",
    "    #lamdash0[i]=diff5p(alami0,i,h)\n",
    "    #if lamdash0[i]<-200:\n",
    "    #    lamdash0[i]=-200\n",
    "    #print h,alam0[i],lamdash0[i]\n",
    "    #print h,ptemp[i],rhotemp[i],lamdash0[i]\n",
    "    #atc0[i]=1.0/((vars.fgamma*vars.ggg/(4*pi*acs[i]))*math.sqrt(1+2*lamdash0[i]))\n",
    "    #atc0[i]=-1.0/((vars.fgamma*vars.ggg/(4*pi*acs[i])))*math.sqrt(1+2*dp_over_rhog(vars, height[i]))\n",
    "    #atc0[i]=math.sqrt(-1.0/((vars.fgamma*vars.ggg/(2*acs[i]*acs[i])))*(1-vars.fgamma*vars.ggg*dp_over_rhog(vars, height[i])))\n",
    "    #atc0[i]=math.sqrt(-1.0/((vars.fgamma*vars.ggg/(2*acs[i]*acs[i]))))\n",
    "    #print i,height[i]/1.0e6,atc0[i]\n",
    "    atc0[i]=-1.0/((vars.fgamma*vars.ggg/(4*pi*acs[i]))*math.sqrt(1-2*lamdash0[i]))\n",
    "    \n",
    "#print atc0\n",
    "plt.plot(height/1.0e6,atc0/(2*pi))\n",
    "#plt.plot(height/1.0e6,alam0)\n",
    "#plt.plot(height/1.0e6,lamdash0)\n"
   ]
  },
  {
   "cell_type": "markdown",
   "metadata": {},
   "source": [
    "##References\n",
    "Malins\n",
    "Direct Propagation of Photospheric Acoustic p Modes into Nonmagnetic Solar Atmosphere\n",
    "http://adsabs.harvard.edu/abs/2007SoPh..246...41M\n",
    "\n",
    "Fleck, B.; Schmitz, F.\n",
    "The 3-min oscillations of the solar chromosphere - A basic physical effect?\n",
    "http://adsabs.harvard.edu/abs/1991A%26A...250..235F\n",
    "\n",
    "Vernazza, J. E.; Avrett, E. H.; Loeser, R.\n",
    "Structure of the solar chromosphere. III - Models of the EUV brightness components of the quiet-sun\n",
    "http://adsabs.harvard.edu/abs/1981ApJS...45..635V\n",
    "\n",
    "Roberts, B.\n",
    "MHD Waves in the Solar Atmosphere\n",
    "http://adsabs.harvard.edu/abs/2004ESASP.547....1R"
   ]
  },
  {
   "cell_type": "code",
   "execution_count": null,
   "metadata": {
    "collapsed": false
   },
   "outputs": [],
   "source": []
  }
 ],
 "metadata": {
  "kernelspec": {
   "display_name": "Python 2",
   "language": "python",
   "name": "python2"
  },
  "language_info": {
   "codemirror_mode": {
    "name": "ipython",
    "version": 2
   },
   "file_extension": ".py",
   "mimetype": "text/x-python",
   "name": "python",
   "nbconvert_exporter": "python",
   "pygments_lexer": "ipython2",
   "version": "2.7.8"
  }
 },
 "nbformat": 4,
 "nbformat_minor": 0
}

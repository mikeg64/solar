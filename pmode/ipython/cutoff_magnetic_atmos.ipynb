{
 "metadata": {
  "name": "",
  "signature": "sha256:44c8cf3cf58d76e9783fe4b3d071d83653ce4b5cfce60b7b8ddfac70a999ee02"
 },
 "nbformat": 3,
 "nbformat_minor": 0,
 "worksheets": [
  {
   "cells": [
    {
     "cell_type": "heading",
     "level": 1,
     "metadata": {},
     "source": [
      "Calulating the Cutoff Frequency in the Background"
     ]
    },
    {
     "cell_type": "markdown",
     "metadata": {},
     "source": [
      "Stuart J. Mumford - The University of Sheffield - 2014"
     ]
    },
    {
     "cell_type": "code",
     "collapsed": false,
     "input": [
      "import sympy as sy\n",
      "sy.init_printing(use_latex=True, use_unicode=True)"
     ],
     "language": "python",
     "metadata": {},
     "outputs": [],
     "prompt_number": 1
    },
    {
     "cell_type": "markdown",
     "metadata": {},
     "source": [
      "The referee report for the first paper suggested we calculate the cuttoff frequency for the background, so here goes."
     ]
    },
    {
     "cell_type": "markdown",
     "metadata": {},
     "source": [
      "The cutoff frequency for the slow magnetoacoustic wave is derived in *Roberts (2006)* from equation (3.11) which is given below:\n",
      "\n",
      "$$\\frac{\\partial^2 Q}{\\partial t^2} - c_t^2(z) \\frac{\\partial^2 Q}{\\partial z^2} + \\Omega^2(z)Q = 0 \\qquad\\text{(1)}$$\n",
      "\n",
      "which by fourier analysing in time gives the following equation:\n",
      "\n",
      "$$\\frac{d^2 Q(z)}{d t^2} + \\left( \\frac{\\omega^2 - \\Omega^2(z)}{c_t^2(z)} \\right)Q(z) = 0 \\qquad\\text{(2)}$$\n",
      "\n",
      "which if we assume no local variation with $z$ we obtain the following simpler ODE:"
     ]
    },
    {
     "cell_type": "code",
     "collapsed": false,
     "input": [
      "z, A = sy.symbols('z, A', real=True)\n",
      "Q = sy.symbols('Q', cls=sy.Function)"
     ],
     "language": "python",
     "metadata": {},
     "outputs": [],
     "prompt_number": 2
    },
    {
     "cell_type": "code",
     "collapsed": false,
     "input": [
      "expr = Q(z).diff(z,z) + A*Q(z)\n",
      "sy.Eq(expr, 0)"
     ],
     "language": "python",
     "metadata": {},
     "outputs": [
      {
       "latex": [
        "$$A Q{\\left (z \\right )} + \\frac{d^{2}}{d z^{2}}  Q{\\left (z \\right )} = 0$$"
       ],
       "metadata": {},
       "output_type": "pyout",
       "png": "[encoded data removed]",
       "prompt_number": 3,
       "text": [
        "           2          \n",
        "          d           \n",
        "A\u22c5Q(z) + \u2500\u2500\u2500(Q(z)) = 0\n",
        "           2          \n",
        "         dz           "
       ]
      }
     ],
     "prompt_number": 3
    },
    {
     "cell_type": "markdown",
     "metadata": {},
     "source": [
      "This equation can be solved simply using the auxiliary equation:"
     ]
    },
    {
     "cell_type": "code",
     "collapsed": false,
     "input": [
      "a, b, c = sy.symbols('a, b, c', real=True)\n",
      "m = sy.symbols('m')"
     ],
     "language": "python",
     "metadata": {},
     "outputs": [],
     "prompt_number": 4
    },
    {
     "cell_type": "code",
     "collapsed": false,
     "input": [
      "aux = a*m**2 + b*m + A\n",
      "sy.Eq(aux)"
     ],
     "language": "python",
     "metadata": {},
     "outputs": [
      {
       "latex": [
        "$$A + a m^{2} + b m = 0$$"
       ],
       "metadata": {},
       "output_type": "pyout",
       "png": "[encoded data removed]",
       "prompt_number": 5,
       "text": [
        "       2          \n",
        "A + a\u22c5m  + b\u22c5m = 0"
       ]
      }
     ],
     "prompt_number": 5
    },
    {
     "cell_type": "markdown",
     "metadata": {},
     "source": [
      "We set the following constants for our equation:"
     ]
    },
    {
     "cell_type": "code",
     "collapsed": false,
     "input": [
      "a = 1\n",
      "b = 0"
     ],
     "language": "python",
     "metadata": {},
     "outputs": [],
     "prompt_number": 6
    },
    {
     "cell_type": "markdown",
     "metadata": {},
     "source": [
      "Which gives us:"
     ]
    },
    {
     "cell_type": "code",
     "collapsed": false,
     "input": [
      "aux = a*m**2 + b*m + A\n",
      "sy.Eq(aux)"
     ],
     "language": "python",
     "metadata": {},
     "outputs": [
      {
       "latex": [
        "$$A + m^{2} = 0$$"
       ],
       "metadata": {},
       "output_type": "pyout",
       "png": "[encoded data removed]",
       "prompt_number": 7,
       "text": [
        "     2    \n",
        "A + m  = 0"
       ]
      }
     ],
     "prompt_number": 7
    },
    {
     "cell_type": "markdown",
     "metadata": {},
     "source": [
      "Which has the following solution:"
     ]
    },
    {
     "cell_type": "code",
     "collapsed": false,
     "input": [
      "sy.solve(aux, m)"
     ],
     "language": "python",
     "metadata": {},
     "outputs": [
      {
       "latex": [
        "$$\\begin{bmatrix}- \\sqrt{- A}, & \\sqrt{- A}\\end{bmatrix}$$"
       ],
       "metadata": {},
       "output_type": "pyout",
       "png": "[encoded data removed]",
       "prompt_number": 8,
       "text": [
        "\u23a1   ____    ____\u23a4\n",
        "\u23a3-\u2572\u2571 -A , \u2572\u2571 -A \u23a6"
       ]
      }
     ],
     "prompt_number": 8
    },
    {
     "cell_type": "markdown",
     "metadata": {},
     "source": [
      "or:\n",
      "$m = \\pm i\\sqrt{A}$"
     ]
    },
    {
     "cell_type": "markdown",
     "metadata": {},
     "source": [
      "Putting this into the general soltion for 2nd order ODEs we get:\n",
      "\n",
      "$Q = C_1 e^{i \\sqrt{A}z} + C_2 e^{-i\\sqrt{A}z}$\n",
      "\n",
      "This will support oscillatory solutions, however this is because $A > 0$.\n",
      "\n",
      "We can therefore state that oscillatory solutions are only possible for equation 2 where:"
     ]
    },
    {
     "cell_type": "code",
     "collapsed": false,
     "input": [
      "omega, Omega, ct = sy.symbols('omega, Omega, c_t')\n",
      "A = (omega**2 - Omega**2) / ct**2\n",
      "Agt = sy.StrictGreaterThan(A, 0)\n",
      "Agt"
     ],
     "language": "python",
     "metadata": {},
     "outputs": [
      {
       "latex": [
        "$$\\frac{1}{c_{t}^{2}} \\left(- \\Omega^{2} + \\omega^{2}\\right) > 0$$"
       ],
       "metadata": {},
       "output_type": "pyout",
       "png": "[encoded data removed]",
       "prompt_number": 9,
       "text": [
        "   2    2    \n",
        "- \u03a9  + \u03c9     \n",
        "\u2500\u2500\u2500\u2500\u2500\u2500\u2500\u2500\u2500 > 0\n",
        "      2      \n",
        "   c_t       "
       ]
      }
     ],
     "prompt_number": 9
    },
    {
     "cell_type": "code",
     "collapsed": false,
     "input": [
      "Agt = sy.StrictGreaterThan(A * ct**2, 0)\n",
      "Agt"
     ],
     "language": "python",
     "metadata": {},
     "outputs": [
      {
       "latex": [
        "$$- \\Omega^{2} + \\omega^{2} > 0$$"
       ],
       "metadata": {},
       "output_type": "pyout",
       "png": "[encoded data removed]",
       "prompt_number": 10,
       "text": [
        "   2    2    \n",
        "- \u03a9  + \u03c9  > 0"
       ]
      }
     ],
     "prompt_number": 10
    },
    {
     "cell_type": "code",
     "collapsed": false,
     "input": [
      "sy.StrictGreaterThan(omega**2, Omega**2)"
     ],
     "language": "python",
     "metadata": {},
     "outputs": [
      {
       "latex": [
        "$$\\omega^{2} > \\Omega^{2}$$"
       ],
       "metadata": {},
       "output_type": "pyout",
       "png": "[encoded data removed]",
       "prompt_number": 11,
       "text": [
        " 2    2\n",
        "\u03c9  > \u03a9 "
       ]
      }
     ],
     "prompt_number": 11
    },
    {
     "cell_type": "markdown",
     "metadata": {},
     "source": [
      "Which gives:"
     ]
    },
    {
     "cell_type": "code",
     "collapsed": false,
     "input": [
      "sy.StrictGreaterThan(omega, Omega)"
     ],
     "language": "python",
     "metadata": {},
     "outputs": [
      {
       "latex": [
        "$$\\omega > \\Omega$$"
       ],
       "metadata": {},
       "output_type": "pyout",
       "png": "[encoded data removed]",
       "prompt_number": 12,
       "text": [
        "\u03c9 > \u03a9"
       ]
      }
     ],
     "prompt_number": 12
    },
    {
     "cell_type": "markdown",
     "metadata": {},
     "source": [
      "$\\Omega$ is therefore a *cutoff frequency* where waves will only propagate above this frequency."
     ]
    },
    {
     "cell_type": "heading",
     "level": 1,
     "metadata": {},
     "source": [
      "Simulation Calculation"
     ]
    },
    {
     "cell_type": "markdown",
     "metadata": {},
     "source": [
      "$\\Omega$ is given in *Roberts (2006)* as:\n",
      "\n",
      "$$\\Omega^2 = c_t^2 \\left\\{ \\frac{1}{4\\Lambda^2} \\left( \\frac{c_t}{c_S} \\right)^4 - \\frac{1}{2}\\gamma g \\left( \\frac{c_t^2}{c_S^4}\\right)^\\prime + \\frac{1}{c_A^2} \\left(\\omega_g^2 + \\frac{g}{\\Lambda}\\frac{c_t^2}{c_S^2} \\right)   \\right\\}$$\n",
      "\n",
      "where\n",
      "$$c_S = \\left(\\frac{\\gamma p_0}{\\rho_0}\\right)^{\\frac{1}{2}}$$\n",
      "$$c_A = \\left(\\frac{B_0^2}{\\mu_0\\rho_0}\\right)^{\\frac{1}{2}}$$\n",
      "$$c_t = \\left(\\frac{c_S^2 c_A^2}{c_S^2 + c_A^2}\\right)^{\\frac{1}{2}}$$\n",
      "$$\\Lambda = \\frac{p_0}{g \\rho_0}$$\n",
      "$$\\omega_g^2 = -g\\left( \\frac{g}{c_S^2} + \\frac{\\rho_0^\\prime}{\\rho_0} \\right)$$\n",
      "where $g$ is accelleration due to gravity, $p_0$ is plasma pressure, $\\rho_0$ is density and $B$ is magnetic field."
     ]
    },
    {
     "cell_type": "markdown",
     "metadata": {},
     "source": [
      "We are going to calculate all of this by using `yt's` derived fields:"
     ]
    },
    {
     "cell_type": "code",
     "collapsed": false,
     "input": [
      "import os\n",
      "import sys\n",
      "\n",
      "import numpy as np\n",
      "\n",
      "import yt.mods as ytm\n",
      "import pysac.io.yt_fields\n",
      "\n",
      "#Import this repos config\n",
      "sys.path.append(\"../..\")\n",
      "from scripts.sacconfig import SACConfig\n",
      "cfg = SACConfig()"
     ],
     "language": "python",
     "metadata": {},
     "outputs": [],
     "prompt_number": 13
    },
    {
     "cell_type": "code",
     "collapsed": false,
     "input": [
      "cfg.period = 30.\n",
      "cfg.amp = 'A20r2'"
     ],
     "language": "python",
     "metadata": {},
     "outputs": [],
     "prompt_number": 14
    },
    {
     "cell_type": "code",
     "collapsed": false,
     "input": [
      "ds = ytm.load(os.path.join(cfg.gdf_dir,\"*{}_00001*.gdf\".format(cfg.str_exp_fac)))[0]"
     ],
     "language": "python",
     "metadata": {},
     "outputs": [],
     "prompt_number": 15
    },
    {
     "cell_type": "code",
     "collapsed": false,
     "input": [
      "import h5py\n",
      "f = h5py.File(ds.parameter_filename, mode='r')\n",
      "gamma = f['simulation_parameters'].attrs['eqpar'][0]\n",
      "g = f['simulation_parameters'].attrs['eqpar'][3]\n",
      "x = f['x']"
     ],
     "language": "python",
     "metadata": {},
     "outputs": [],
     "prompt_number": 16
    },
    {
     "cell_type": "code",
     "collapsed": false,
     "input": [
      "x.shape"
     ],
     "language": "python",
     "metadata": {},
     "outputs": [
      {
       "latex": [
        "$$\\begin{pmatrix}3, & 128, & 128, & 128\\end{pmatrix}$$"
       ],
       "metadata": {},
       "output_type": "pyout",
       "png": "[encoded data removed]",
       "prompt_number": 17,
       "text": [
        "(3, 128, 128, 128)"
       ]
      }
     ],
     "prompt_number": 17
    },
    {
     "cell_type": "code",
     "collapsed": false,
     "input": [
      "gamma, g"
     ],
     "language": "python",
     "metadata": {},
     "outputs": [
      {
       "latex": [
        "$$\\begin{pmatrix}1.66666667, & -274.0\\end{pmatrix}$$"
       ],
       "metadata": {},
       "output_type": "pyout",
       "png": "[encoded data removed]",
       "prompt_number": 18,
       "text": [
        "(1.66666667, -274.0)"
       ]
      }
     ],
     "prompt_number": 18
    },
    {
     "cell_type": "code",
     "collapsed": false,
     "input": [
      "%load /home/stuart/BitBucket/pySAC/pysac/io/yt_fields.py"
     ],
     "language": "python",
     "metadata": {},
     "outputs": [],
     "prompt_number": 19
    },
    {
     "cell_type": "code",
     "collapsed": false,
     "input": [
      "\"\"\"\n",
      "A set of dervied fields for yt 2.x which combine pertubation and background components\n",
      "and define magnitudes, as well as calculate things like charaistic speeds.\n",
      "\n",
      "Note: These use yt 3.x like field naming conventions\n",
      "\"\"\"\n",
      "\n",
      "import yt.mods as yt\n",
      "import numpy as np\n",
      "\n",
      "__all__ = ['density', 'velocity_magnitude', 'internal_energy',\n",
      "           'mag_pressure', 'thermal_pressure', 'alfven_speed', 'sound_speed',\n",
      "           'plasma_beta', 'mag_field_x', 'mag_field_y', 'mag_field_z',\n",
      "           'mag_field_magnitude', 'mag_field_pert_magnitude']\n",
      "\n",
      "#mu0 = 1.25663706e-6\n",
      "mu0 = np.pi * 4\n",
      "gamma = 1.6666\n",
      "\n",
      "@yt.derived_field(take_log=False, units=r'g cm^{-3}')\n",
      "def density(field, data):\n",
      "    return data['density_pert'] + data['density_bg']\n",
      "\n",
      "@yt.derived_field(take_log=False, units=r'G')\n",
      "def mag_field_x(field, data):\n",
      "    return data['mag_field_x_pert'] + data['mag_field_x_bg']\n",
      "\n",
      "@yt.derived_field(take_log=False, units=r'G')\n",
      "def mag_field_y(field, data):\n",
      "    return data['mag_field_y_pert'] + data['mag_field_y_bg']\n",
      "\n",
      "@yt.derived_field(take_log=False, units=r'G')\n",
      "def mag_field_z(field, data):\n",
      "    return data['mag_field_z_pert'] + data['mag_field_z_bg']\n",
      "\n",
      "@yt.derived_field(take_log=False, units=r'G')\n",
      "def mag_field_magnitude(field, data):\n",
      "    return np.sqrt(data['mag_field_x']**2 + data['mag_field_y']**2 + data['mag_field_z']**2)\n",
      "\n",
      "@yt.derived_field(take_log=False, units=r'G')\n",
      "def mag_field_pert_magnitude(field, data):\n",
      "    return np.sqrt(data['mag_field_x_pert']**2 + data['mag_field_y_pert']**2 +\n",
      "                    data['mag_field_z_pert']**2)\n",
      "\n",
      "@yt.derived_field(take_log=False, units=r'cm s^{-1}')\n",
      "def velocity_magnitude(field, data):\n",
      "    return np.sqrt(data['velocity_x']**2 + data['velocity_y']**2 +\n",
      "                   data['velocity_z']**2)\n",
      "\n",
      "@yt.derived_field(take_log=False, units=r'Ba')\n",
      "def internal_energy(field, data):\n",
      "    return data['internal_energy_pert'] + data['internal_energy_bg']\n",
      "\n",
      "@yt.derived_field(take_log=False, units=r'Ba')\n",
      "def mag_pressure(field, data):\n",
      "    return (data['mag_field_x']**2 + data['mag_field_y']**2 + data['mag_field_z']**2) / (2. * mu0)\n",
      "\n",
      "@yt.derived_field(take_log=False, units=r'Ba')\n",
      "def thermal_pressure(field, data):\n",
      "    #p = (\\gamma -1) ( e - \\rho v^2/2 - B^2/2)\n",
      "    g1 = gamma -1 #(header['eqpar'][0]-1)\n",
      "    kp = (data['density'] * (data['velocity_x']**2 + data['velocity_y']**2 + data['velocity_z']**2))/2.\n",
      "    return g1 * (data['internal_energy'] - kp - data['mag_pressure'])\n",
      "\n",
      "@yt.derived_field(take_log=False, units=r'cm s^{-1}')\n",
      "def alfven_speed(field, data):\n",
      "    return np.sqrt(data['mag_field_x']**2 + data['mag_field_y']**2 + data['mag_field_z']**2) / np.sqrt( mu0 * data['density'])\n",
      "\n",
      "@yt.derived_field(take_log=False, units=r'cm s^{-1}')\n",
      "def sound_speed(field, data):\n",
      "    return np.sqrt((gamma * data['thermal_pressure']) / data['density'])\n",
      "\n",
      "@yt.derived_field(take_log=False, units=r'')\n",
      "def plasma_beta(field, data):\n",
      "    return data['mag_pressure'] / data['thermal_pressure']\n"
     ],
     "language": "python",
     "metadata": {},
     "outputs": []
    },
    {
     "cell_type": "code",
     "collapsed": false,
     "input": [
      "@ytm.derived_field(take_log=False, units=r'cm s^{-1}')\n",
      "def tube_speed(field, data):\n",
      "    return np.sqrt((data['sound_speed']**2 * data['alfven_speed']**2) / (data['sound_speed']**2 + data['alfven_speed']**2))"
     ],
     "language": "python",
     "metadata": {},
     "outputs": [],
     "prompt_number": 26
    },
    {
     "cell_type": "code",
     "collapsed": false,
     "input": [
      "@ytm.derived_field(take_log=False, units=r'cm s^{-1}')\n",
      "def Lambda(field, data):\n",
      "    return data['thermal_pressure'] / (g * data['density'])"
     ],
     "language": "python",
     "metadata": {},
     "outputs": [],
     "prompt_number": 27
    },
    {
     "cell_type": "code",
     "collapsed": false,
     "input": [
      "@ytm.derived_field(take_log=False, units=r'cm s^{-1}', validators=[ytm.ValidateSpatial(ghost_zones=1, fields=[\"density\"])])\n",
      "def rho_dz(field, data):\n",
      "    ds = 2.0 * data['dz'].flat[0]\n",
      "    sl_left = slice(None,-2,None)\n",
      "    sl_right = slice(2,None,None)\n",
      "    f = data[\"density\"][1:-1,1:-1,sl_right]/ds\n",
      "    f -= data[\"density\"][1:-1,1:-1,sl_left ]/ds\n",
      "\n",
      "    new_field = np.zeros(data[\"density\"].shape, dtype='float64')\n",
      "    new_field[1:-1,1:-1,1:-1] = f\n",
      "    return new_field"
     ],
     "language": "python",
     "metadata": {},
     "outputs": [],
     "prompt_number": 28
    },
    {
     "cell_type": "code",
     "collapsed": false,
     "input": [
      "cg = ds.h.grids[0]"
     ],
     "language": "python",
     "metadata": {},
     "outputs": [],
     "prompt_number": 29
    },
    {
     "cell_type": "code",
     "collapsed": false,
     "input": [
      "print cg['rho_dz'].shape"
     ],
     "language": "python",
     "metadata": {},
     "outputs": [
      {
       "output_type": "stream",
       "stream": "stdout",
       "text": [
        "(128, 128, 128)\n"
       ]
      }
     ],
     "prompt_number": 30
    },
    {
     "cell_type": "code",
     "collapsed": false,
     "input": [
      "%matplotlib inline\n",
      "import matplotlib.pyplot as plt"
     ],
     "language": "python",
     "metadata": {},
     "outputs": [],
     "prompt_number": 31
    },
    {
     "cell_type": "code",
     "collapsed": false,
     "input": [
      "plt.plot(cg['rho_dz'][0,0,1:-1])\n",
      "plt.twinx()\n",
      "plt.plot(cg['density'][0,0,1:-1], 'r')"
     ],
     "language": "python",
     "metadata": {},
     "outputs": [
      {
       "metadata": {},
       "output_type": "pyout",
       "prompt_number": 32,
       "text": [
        "[<matplotlib.lines.Line2D at 0x6a77c50>]"
       ]
      },
      {
       "metadata": {},
       "output_type": "display_data",
       "png": "[encoded data removed]",
       "text": [
        "<matplotlib.figure.Figure at 0x69c9810>"
       ]
      }
     ],
     "prompt_number": 32
    },
    {
     "cell_type": "code",
     "collapsed": false,
     "input": [
      "@ytm.derived_field(take_log=False, units=r'cm s^{-1}')\n",
      "def omega_g(field, data):\n",
      "    return -g * (g/data['sound_speed']**2 + data['rho_dz']/data['density'])"
     ],
     "language": "python",
     "metadata": {},
     "outputs": [],
     "prompt_number": 33
    },
    {
     "cell_type": "code",
     "collapsed": false,
     "input": [
      "#def z_deriv(dz, thefield):\n",
      "#    ds = 2.0 * dz\n",
      "#    sl_left = slice(None,-2,None)\n",
      "#    sl_right = slice(2,None,None)\n",
      "##    f = thefield[:,:,sl_right]/ds\n",
      "#    f -= thefield[:,:,sl_left ]/ds\n",
      "\n",
      "#    new_field = np.zeros(thefield.shape, dtype='float64')\n",
      "#    new_field[:,:,1:-1] = f\n",
      "#    return new_field"
     ],
     "language": "python",
     "metadata": {},
     "outputs": [],
     "prompt_number": 34
    },
    {
     "cell_type": "code",
     "collapsed": false,
     "input": [
      "def z_deriv(z, field):\n",
      "    new_field = np.zeros(field.shape, dtype='float64')\n",
      "    new_field[...,:-1] = np.diff(field)/np.diff(z)\n",
      "    return new_field"
     ],
     "language": "python",
     "metadata": {},
     "outputs": [],
     "prompt_number": 35
    },
    {
     "cell_type": "markdown",
     "metadata": {},
     "source": [
      "$$\\Omega^2 = c_t^2 \\left\\{ \\frac{1}{4\\Lambda^2} \\left( \\frac{c_t}{c_S} \\right)^4 - \\frac{1}{2}\\gamma g \\left( \\frac{c_t^2}{c_S^4}\\right)^\\prime + \\frac{1}{c_A^2} \\left(\\omega_g^2 + \\frac{g}{\\Lambda}\\frac{c_t^2}{c_S^2} \\right)   \\right\\}$$"
     ]
    },
    {
     "cell_type": "code",
     "collapsed": false,
     "input": [
      "g *= 100\n",
      "g"
     ],
     "language": "python",
     "metadata": {},
     "outputs": [
      {
       "latex": [
        "$$-27400.0$$"
       ],
       "metadata": {},
       "output_type": "pyout",
       "png": "[encoded data removed]",
       "prompt_number": 36,
       "text": [
        "-27400.0"
       ]
      }
     ],
     "prompt_number": 36
    },
    {
     "cell_type": "code",
     "collapsed": false,
     "input": [
      "@ytm.derived_field(take_log=False, units=r's^{-1}')\n",
      "def Omega2(field, data):\n",
      "    ct = data['tube_speed']\n",
      "    cs = data['sound_speed']\n",
      "    ca = data['alfven_speed']\n",
      "    L = data['Lambda']\n",
      "    wg = data['omega_g']\n",
      "    return np.sqrt(ct**2 * (1./(4*L**2) * (ct/cs)**4 - 0.5 * gamma * g *\n",
      "                    z_deriv(data['z'], ct**2/cs**4) + 1./ca**2 * (wg**2 + g/L * ct**2/cs**2)))"
     ],
     "language": "python",
     "metadata": {},
     "outputs": [],
     "prompt_number": 37
    },
    {
     "cell_type": "code",
     "collapsed": false,
     "input": [
      "@ytm.derived_field(take_log=False, units=r's^{-1}')\n",
      "def Omega(field, data):\n",
      "    cs = data['sound_speed']\n",
      "    L = data['Lambda']\n",
      "    \n",
      "    return np.sqrt((cs**2/(4*L**2)) * (1 + 2*z_deriv(data['z'], L)))"
     ],
     "language": "python",
     "metadata": {},
     "outputs": [],
     "prompt_number": 38
    },
    {
     "cell_type": "code",
     "collapsed": false,
     "input": [
      "z_deriv(cg['z'], cg['tube_speed']**2/cg['sound_speed']**4).shape"
     ],
     "language": "python",
     "metadata": {},
     "outputs": [
      {
       "latex": [
        "$$\\begin{pmatrix}128, & 128, & 128\\end{pmatrix}$$"
       ],
       "metadata": {},
       "output_type": "pyout",
       "png": "[encoded data removed]",
       "prompt_number": 39,
       "text": [
        "(128, 128, 128)"
       ]
      }
     ],
     "prompt_number": 39
    },
    {
     "cell_type": "code",
     "collapsed": false,
     "input": [
      "aslice = np.s_[0,0,6:-3]"
     ],
     "language": "python",
     "metadata": {},
     "outputs": [],
     "prompt_number": 40
    },
    {
     "cell_type": "code",
     "collapsed": false,
     "input": [
      "plt.plot(cg['z'][aslice]*1e-8, 1/cg['Omega'][aslice])\n",
      "plt.ylabel('Cutoff Frequency')\n",
      "plt.xlabel('$z$ [Mm]')\n",
      "#plt.semilogy()\n",
      "plt.title(\"edge of domain\")"
     ],
     "language": "python",
     "metadata": {},
     "outputs": [
      {
       "metadata": {},
       "output_type": "pyout",
       "prompt_number": 46,
       "text": [
        "<matplotlib.text.Text at 0xf85c190>"
       ]
      },
      {
       "metadata": {},
       "output_type": "display_data",
       "png": "[encoded data removed]",
       "text": [
        "<matplotlib.figure.Figure at 0xf72d490>"
       ]
      }
     ],
     "prompt_number": 46
    },
    {
     "cell_type": "code",
     "collapsed": false,
     "input": [
      "plt.plot(cg['z'][aslice]*1e-8, 1/cg['Omega2'][aslice])\n",
      "plt.ylabel('Cutoff Frequency')\n",
      "plt.xlabel('$z$ [Mm]')\n",
      "#plt.semilogy()\n",
      "plt.title(\"edge of domain\")"
     ],
     "language": "python",
     "metadata": {},
     "outputs": [
      {
       "metadata": {},
       "output_type": "pyout",
       "prompt_number": 47,
       "text": [
        "<matplotlib.text.Text at 0xfbe5850>"
       ]
      },
      {
       "metadata": {},
       "output_type": "display_data",
       "png": "[encoded data removed]",
       "text": [
        "<matplotlib.figure.Figure at 0xfbd3350>"
       ]
      }
     ],
     "prompt_number": 47
    },
    {
     "cell_type": "code",
     "collapsed": false,
     "input": [
      "plt.plot(cg['z'][aslice], (cg['tube_speed']**2/cg['sound_speed']**4)[aslice])"
     ],
     "language": "python",
     "metadata": {},
     "outputs": [
      {
       "metadata": {},
       "output_type": "pyout",
       "prompt_number": 43,
       "text": [
        "[<matplotlib.lines.Line2D at 0xe0e8810>]"
       ]
      },
      {
       "metadata": {},
       "output_type": "display_data",
       "png": "[encoded data removed]",
       "text": [
        "<matplotlib.figure.Figure at 0x9f29150>"
       ]
      }
     ],
     "prompt_number": 43
    },
    {
     "cell_type": "code",
     "collapsed": false,
     "input": [
      "plt.plot(cg['z'][aslice], z_deriv(cg['z'], cg['tube_speed']**2/cg['sound_speed']**4)[aslice])"
     ],
     "language": "python",
     "metadata": {},
     "outputs": [
      {
       "metadata": {},
       "output_type": "pyout",
       "prompt_number": 44,
       "text": [
        "[<matplotlib.lines.Line2D at 0xe1149d0>]"
       ]
      },
      {
       "metadata": {},
       "output_type": "display_data",
       "png": "[encoded data removed]",
       "text": [
        "<matplotlib.figure.Figure at 0x6a84f10>"
       ]
      }
     ],
     "prompt_number": 44
    },
    {
     "cell_type": "code",
     "collapsed": false,
     "input": [
      "plt.plot(cg['z'][aslice], cg['sound_speed'][0,0,2:-2])"
     ],
     "language": "python",
     "metadata": {},
     "outputs": [
      {
       "ename": "ValueError",
       "evalue": "x and y must have same first dimension",
       "output_type": "pyerr",
       "traceback": [
        "\u001b[1;31m---------------------------------------------------------------------------\u001b[0m\n\u001b[1;31mValueError\u001b[0m                                Traceback (most recent call last)",
        "\u001b[1;32m<ipython-input-45-c9bc2485596b>\u001b[0m in \u001b[0;36m<module>\u001b[1;34m()\u001b[0m\n\u001b[1;32m----> 1\u001b[1;33m \u001b[0mplt\u001b[0m\u001b[1;33m.\u001b[0m\u001b[0mplot\u001b[0m\u001b[1;33m(\u001b[0m\u001b[0mcg\u001b[0m\u001b[1;33m[\u001b[0m\u001b[1;34m'z'\u001b[0m\u001b[1;33m]\u001b[0m\u001b[1;33m[\u001b[0m\u001b[0maslice\u001b[0m\u001b[1;33m]\u001b[0m\u001b[1;33m,\u001b[0m \u001b[0mcg\u001b[0m\u001b[1;33m[\u001b[0m\u001b[1;34m'sound_speed'\u001b[0m\u001b[1;33m]\u001b[0m\u001b[1;33m[\u001b[0m\u001b[1;36m0\u001b[0m\u001b[1;33m,\u001b[0m\u001b[1;36m0\u001b[0m\u001b[1;33m,\u001b[0m\u001b[1;36m2\u001b[0m\u001b[1;33m:\u001b[0m\u001b[1;33m-\u001b[0m\u001b[1;36m2\u001b[0m\u001b[1;33m]\u001b[0m\u001b[1;33m)\u001b[0m\u001b[1;33m\u001b[0m\u001b[0m\n\u001b[0m",
        "\u001b[1;32m/home/stuart/.virtualenvs/period_paper_iso/lib/python2.7/site-packages/matplotlib/pyplot.pyc\u001b[0m in \u001b[0;36mplot\u001b[1;34m(*args, **kwargs)\u001b[0m\n\u001b[0;32m   2985\u001b[0m         \u001b[0max\u001b[0m\u001b[1;33m.\u001b[0m\u001b[0mhold\u001b[0m\u001b[1;33m(\u001b[0m\u001b[0mhold\u001b[0m\u001b[1;33m)\u001b[0m\u001b[1;33m\u001b[0m\u001b[0m\n\u001b[0;32m   2986\u001b[0m     \u001b[1;32mtry\u001b[0m\u001b[1;33m:\u001b[0m\u001b[1;33m\u001b[0m\u001b[0m\n\u001b[1;32m-> 2987\u001b[1;33m         \u001b[0mret\u001b[0m \u001b[1;33m=\u001b[0m \u001b[0max\u001b[0m\u001b[1;33m.\u001b[0m\u001b[0mplot\u001b[0m\u001b[1;33m(\u001b[0m\u001b[1;33m*\u001b[0m\u001b[0margs\u001b[0m\u001b[1;33m,\u001b[0m \u001b[1;33m**\u001b[0m\u001b[0mkwargs\u001b[0m\u001b[1;33m)\u001b[0m\u001b[1;33m\u001b[0m\u001b[0m\n\u001b[0m\u001b[0;32m   2988\u001b[0m         \u001b[0mdraw_if_interactive\u001b[0m\u001b[1;33m(\u001b[0m\u001b[1;33m)\u001b[0m\u001b[1;33m\u001b[0m\u001b[0m\n\u001b[0;32m   2989\u001b[0m     \u001b[1;32mfinally\u001b[0m\u001b[1;33m:\u001b[0m\u001b[1;33m\u001b[0m\u001b[0m\n",
        "\u001b[1;32m/home/stuart/.virtualenvs/period_paper_iso/lib/python2.7/site-packages/matplotlib/axes.pyc\u001b[0m in \u001b[0;36mplot\u001b[1;34m(self, *args, **kwargs)\u001b[0m\n\u001b[0;32m   4135\u001b[0m         \u001b[0mlines\u001b[0m \u001b[1;33m=\u001b[0m \u001b[1;33m[\u001b[0m\u001b[1;33m]\u001b[0m\u001b[1;33m\u001b[0m\u001b[0m\n\u001b[0;32m   4136\u001b[0m \u001b[1;33m\u001b[0m\u001b[0m\n\u001b[1;32m-> 4137\u001b[1;33m         \u001b[1;32mfor\u001b[0m \u001b[0mline\u001b[0m \u001b[1;32min\u001b[0m \u001b[0mself\u001b[0m\u001b[1;33m.\u001b[0m\u001b[0m_get_lines\u001b[0m\u001b[1;33m(\u001b[0m\u001b[1;33m*\u001b[0m\u001b[0margs\u001b[0m\u001b[1;33m,\u001b[0m \u001b[1;33m**\u001b[0m\u001b[0mkwargs\u001b[0m\u001b[1;33m)\u001b[0m\u001b[1;33m:\u001b[0m\u001b[1;33m\u001b[0m\u001b[0m\n\u001b[0m\u001b[0;32m   4138\u001b[0m             \u001b[0mself\u001b[0m\u001b[1;33m.\u001b[0m\u001b[0madd_line\u001b[0m\u001b[1;33m(\u001b[0m\u001b[0mline\u001b[0m\u001b[1;33m)\u001b[0m\u001b[1;33m\u001b[0m\u001b[0m\n\u001b[0;32m   4139\u001b[0m             \u001b[0mlines\u001b[0m\u001b[1;33m.\u001b[0m\u001b[0mappend\u001b[0m\u001b[1;33m(\u001b[0m\u001b[0mline\u001b[0m\u001b[1;33m)\u001b[0m\u001b[1;33m\u001b[0m\u001b[0m\n",
        "\u001b[1;32m/home/stuart/.virtualenvs/period_paper_iso/lib/python2.7/site-packages/matplotlib/axes.pyc\u001b[0m in \u001b[0;36m_grab_next_args\u001b[1;34m(self, *args, **kwargs)\u001b[0m\n\u001b[0;32m    315\u001b[0m                 \u001b[1;32mreturn\u001b[0m\u001b[1;33m\u001b[0m\u001b[0m\n\u001b[0;32m    316\u001b[0m             \u001b[1;32mif\u001b[0m \u001b[0mlen\u001b[0m\u001b[1;33m(\u001b[0m\u001b[0mremaining\u001b[0m\u001b[1;33m)\u001b[0m \u001b[1;33m<=\u001b[0m \u001b[1;36m3\u001b[0m\u001b[1;33m:\u001b[0m\u001b[1;33m\u001b[0m\u001b[0m\n\u001b[1;32m--> 317\u001b[1;33m                 \u001b[1;32mfor\u001b[0m \u001b[0mseg\u001b[0m \u001b[1;32min\u001b[0m \u001b[0mself\u001b[0m\u001b[1;33m.\u001b[0m\u001b[0m_plot_args\u001b[0m\u001b[1;33m(\u001b[0m\u001b[0mremaining\u001b[0m\u001b[1;33m,\u001b[0m \u001b[0mkwargs\u001b[0m\u001b[1;33m)\u001b[0m\u001b[1;33m:\u001b[0m\u001b[1;33m\u001b[0m\u001b[0m\n\u001b[0m\u001b[0;32m    318\u001b[0m                     \u001b[1;32myield\u001b[0m \u001b[0mseg\u001b[0m\u001b[1;33m\u001b[0m\u001b[0m\n\u001b[0;32m    319\u001b[0m                 \u001b[1;32mreturn\u001b[0m\u001b[1;33m\u001b[0m\u001b[0m\n",
        "\u001b[1;32m/home/stuart/.virtualenvs/period_paper_iso/lib/python2.7/site-packages/matplotlib/axes.pyc\u001b[0m in \u001b[0;36m_plot_args\u001b[1;34m(self, tup, kwargs)\u001b[0m\n\u001b[0;32m    293\u001b[0m             \u001b[0mx\u001b[0m \u001b[1;33m=\u001b[0m \u001b[0mnp\u001b[0m\u001b[1;33m.\u001b[0m\u001b[0marange\u001b[0m\u001b[1;33m(\u001b[0m\u001b[0my\u001b[0m\u001b[1;33m.\u001b[0m\u001b[0mshape\u001b[0m\u001b[1;33m[\u001b[0m\u001b[1;36m0\u001b[0m\u001b[1;33m]\u001b[0m\u001b[1;33m,\u001b[0m \u001b[0mdtype\u001b[0m\u001b[1;33m=\u001b[0m\u001b[0mfloat\u001b[0m\u001b[1;33m)\u001b[0m\u001b[1;33m\u001b[0m\u001b[0m\n\u001b[0;32m    294\u001b[0m \u001b[1;33m\u001b[0m\u001b[0m\n\u001b[1;32m--> 295\u001b[1;33m         \u001b[0mx\u001b[0m\u001b[1;33m,\u001b[0m \u001b[0my\u001b[0m \u001b[1;33m=\u001b[0m \u001b[0mself\u001b[0m\u001b[1;33m.\u001b[0m\u001b[0m_xy_from_xy\u001b[0m\u001b[1;33m(\u001b[0m\u001b[0mx\u001b[0m\u001b[1;33m,\u001b[0m \u001b[0my\u001b[0m\u001b[1;33m)\u001b[0m\u001b[1;33m\u001b[0m\u001b[0m\n\u001b[0m\u001b[0;32m    296\u001b[0m \u001b[1;33m\u001b[0m\u001b[0m\n\u001b[0;32m    297\u001b[0m         \u001b[1;32mif\u001b[0m \u001b[0mself\u001b[0m\u001b[1;33m.\u001b[0m\u001b[0mcommand\u001b[0m \u001b[1;33m==\u001b[0m \u001b[1;34m'plot'\u001b[0m\u001b[1;33m:\u001b[0m\u001b[1;33m\u001b[0m\u001b[0m\n",
        "\u001b[1;32m/home/stuart/.virtualenvs/period_paper_iso/lib/python2.7/site-packages/matplotlib/axes.pyc\u001b[0m in \u001b[0;36m_xy_from_xy\u001b[1;34m(self, x, y)\u001b[0m\n\u001b[0;32m    235\u001b[0m         \u001b[0my\u001b[0m \u001b[1;33m=\u001b[0m \u001b[0mnp\u001b[0m\u001b[1;33m.\u001b[0m\u001b[0matleast_1d\u001b[0m\u001b[1;33m(\u001b[0m\u001b[0my\u001b[0m\u001b[1;33m)\u001b[0m\u001b[1;33m\u001b[0m\u001b[0m\n\u001b[0;32m    236\u001b[0m         \u001b[1;32mif\u001b[0m \u001b[0mx\u001b[0m\u001b[1;33m.\u001b[0m\u001b[0mshape\u001b[0m\u001b[1;33m[\u001b[0m\u001b[1;36m0\u001b[0m\u001b[1;33m]\u001b[0m \u001b[1;33m!=\u001b[0m \u001b[0my\u001b[0m\u001b[1;33m.\u001b[0m\u001b[0mshape\u001b[0m\u001b[1;33m[\u001b[0m\u001b[1;36m0\u001b[0m\u001b[1;33m]\u001b[0m\u001b[1;33m:\u001b[0m\u001b[1;33m\u001b[0m\u001b[0m\n\u001b[1;32m--> 237\u001b[1;33m             \u001b[1;32mraise\u001b[0m \u001b[0mValueError\u001b[0m\u001b[1;33m(\u001b[0m\u001b[1;34m\"x and y must have same first dimension\"\u001b[0m\u001b[1;33m)\u001b[0m\u001b[1;33m\u001b[0m\u001b[0m\n\u001b[0m\u001b[0;32m    238\u001b[0m         \u001b[1;32mif\u001b[0m \u001b[0mx\u001b[0m\u001b[1;33m.\u001b[0m\u001b[0mndim\u001b[0m \u001b[1;33m>\u001b[0m \u001b[1;36m2\u001b[0m \u001b[1;32mor\u001b[0m \u001b[0my\u001b[0m\u001b[1;33m.\u001b[0m\u001b[0mndim\u001b[0m \u001b[1;33m>\u001b[0m \u001b[1;36m2\u001b[0m\u001b[1;33m:\u001b[0m\u001b[1;33m\u001b[0m\u001b[0m\n\u001b[0;32m    239\u001b[0m             \u001b[1;32mraise\u001b[0m \u001b[0mValueError\u001b[0m\u001b[1;33m(\u001b[0m\u001b[1;34m\"x and y can be no greater than 2-D\"\u001b[0m\u001b[1;33m)\u001b[0m\u001b[1;33m\u001b[0m\u001b[0m\n",
        "\u001b[1;31mValueError\u001b[0m: x and y must have same first dimension"
       ]
      },
      {
       "metadata": {},
       "output_type": "display_data",
       "png": "[encoded data removed]",
       "text": [
        "<matplotlib.figure.Figure at 0xf721ad0>"
       ]
      }
     ],
     "prompt_number": 45
    },
    {
     "cell_type": "code",
     "collapsed": false,
     "input": [
      "plt.plot(cg['z'][aslice], cg['alfven_speed'][0,0,2:-2])\n",
      "plt.twinx()\n",
      "plt.plot(cg['z'][aslice], cg['tube_speed'][0,0,2:-2],'y--')"
     ],
     "language": "python",
     "metadata": {},
     "outputs": []
    },
    {
     "cell_type": "code",
     "collapsed": false,
     "input": [
      "plt.plot(cg['z'][0,0,3:-2], cg['alfven_speed'][0,0,3:-2]/cg['sound_speed'][0,0,3:-2])"
     ],
     "language": "python",
     "metadata": {},
     "outputs": []
    },
    {
     "cell_type": "code",
     "collapsed": false,
     "input": [
      "plt.plot(cg['z'][aslice], cg['Lambda'][0,0,2:-2])"
     ],
     "language": "python",
     "metadata": {},
     "outputs": []
    },
    {
     "cell_type": "code",
     "collapsed": false,
     "input": [
      "plt.plot(cg['z'][aslice], cg['omega_g'][0,0,2:-2])"
     ],
     "language": "python",
     "metadata": {},
     "outputs": []
    },
    {
     "cell_type": "code",
     "collapsed": false,
     "input": [
      "plt.plot(np.sin(np.linspace(0,6*np.pi,100)))"
     ],
     "language": "python",
     "metadata": {},
     "outputs": []
    },
    {
     "cell_type": "code",
     "collapsed": false,
     "input": [
      "x = np.linspace(0,6*np.pi,100)\n",
      "dx = x[:-1] - x[1:]\n",
      "plt.plot(x, z_deriv(x[None,None], np.sin(np.linspace(0,6*np.pi,100))[None,None])[0,0,:])\n",
      "plt.plot(x, np.cos(x))\n",
      "#plt.plot(x[:-1], np.diff(np.sin(x))/np.diff(x))"
     ],
     "language": "python",
     "metadata": {},
     "outputs": []
    },
    {
     "cell_type": "code",
     "collapsed": false,
     "input": [],
     "language": "python",
     "metadata": {},
     "outputs": []
    }
   ],
   "metadata": {}
  }
 ]
}

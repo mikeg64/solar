{
 "metadata": {
  "name": "",
  "signature": "sha256:6c69121484a7653f750bae4ce73f7542c951a4be918fe9605d40d49f49d0ba1d"
 },
 "nbformat": 3,
 "nbformat_minor": 0,
 "worksheets": [
  {
   "cells": [
    {
     "cell_type": "markdown",
     "metadata": {},
     "source": [
      "# Cutoff for the solar atmosphere using the VALIIIc Model\n",
      "\n",
      "##Background - the problem\n",
      "\n",
      "\n",
      "\n",
      "\t\n",
      "\n",
      "Compute the atmospheric cut-off frequenccy (From Roberts 2004)\n",
      "\n",
      "$$ \\omega_{c}=\\frac{\\gamma g}{4\\pi c_{s}}\\sqrt{1+2\\frac{d}{dz}\\frac{P}{\\rho g}}$$\n",
      "\n",
      "The atmospheric scale parameter \n",
      "\n",
      "Read VAL IIc data from csv file\n",
      "\n",
      "column 1 height [m]\n",
      "Column 2 Temperature [K]\n",
      "Column 3 Density [kg/m^3]\n",
      "Column 4 Pressure [Pa]\n"
     ]
    },
    {
     "cell_type": "code",
     "collapsed": false,
     "input": [
      "import numpy\n",
      "import matplotlib.pyplot as plt\n",
      "import math\n",
      "\n",
      "\n",
      "\n",
      "%matplotlib inline \n",
      "data=numpy.loadtxt(fname='..\\\\data\\\\atmos.csv', delimiter=',')\n",
      "#print data\n",
      "print data.shape\n",
      "#print data[1:10,2]\n",
      "height=data[0:2048,0]\n",
      "ltemp=numpy.log10(data[0:2048,1]) #notation to avoid http://stackoverflow.com/questions/21687581/typeerror-only-length-1-arrays-can-be-converted-to-python-scalars-while-trying\n",
      "\n",
      "print ltemp\n",
      "plt.plot(height/1.0e6,ltemp)"
     ],
     "language": "python",
     "metadata": {},
     "outputs": [
      {
       "output_type": "stream",
       "stream": "stdout",
       "text": [
        "(2048L, 4L)\n",
        "[ 6.20960377  6.20920411  6.20880509 ...,  3.76641285  3.76641285\n",
        "  3.76641285]\n"
       ]
      },
      {
       "metadata": {},
       "output_type": "pyout",
       "prompt_number": 60,
       "text": [
        "[<matplotlib.lines.Line2D at 0xbcd92e8>]"
       ]
      },
      {
       "metadata": {},
       "output_type": "display_data",
       "png": "[encoded data removed]",
       "text": [
        "<matplotlib.figure.Figure at 0xb61e7b8>"
       ]
      }
     ],
     "prompt_number": 60
    },
    {
     "cell_type": "markdown",
     "metadata": {},
     "source": [
      "## Function to compute the speed of sound"
     ]
    },
    {
     "cell_type": "code",
     "collapsed": false,
     "input": [
      "from math import exp, sqrt, pi\n",
      "\n",
      "class vars:\n",
      "  \n",
      "    mu=0.6e0\n",
      "    R=8.31e3\n",
      "    fgamma=1.66666667e0\n",
      "    ggg=-274.0e0\n",
      "    mu=4*pi/1.0e7\n",
      "    \n",
      "\n",
      "def cs(var, p, rho):\n",
      "    vcs=sqrt(vars.fgamma*p/rho)\n",
      "    return vcs\n",
      "\n",
      "ptemp=numpy.float64(data[1:2048,3])\n",
      "rhotemp=numpy.float64(data[1:2048,2])\n",
      "\n",
      "asize=data.size\n",
      "print asize\n",
      "acs = numpy.zeros(asize/4)\n",
      "for i in range(0,(asize/4)-1):\n",
      "    acs[i]=cs(vars,ptemp[i],rhotemp[i]);\n",
      "    \n",
      "print acs.size\n",
      "print height.size\n",
      "plt.plot(height/1.0e6,acs/1000)"
     ],
     "language": "python",
     "metadata": {},
     "outputs": [
      {
       "output_type": "stream",
       "stream": "stdout",
       "text": [
        "8192\n",
        "2048\n",
        "2048\n"
       ]
      },
      {
       "metadata": {},
       "output_type": "pyout",
       "prompt_number": 73,
       "text": [
        "[<matplotlib.lines.Line2D at 0xc90d630>]"
       ]
      },
      {
       "metadata": {},
       "output_type": "display_data",
       "png": "[encoded data removed]",
       "text": [
        "<matplotlib.figure.Figure at 0xc41ae10>"
       ]
      }
     ],
     "prompt_number": 73
    },
    {
     "cell_type": "markdown",
     "metadata": {},
     "source": [
      "## Function to compute the atmospheric scale parameter"
     ]
    },
    {
     "cell_type": "code",
     "collapsed": false,
     "input": [
      "from math import exp, sqrt, pi\n",
      "\n",
      "def lambda0(vars, P,rho):\n",
      "    vlam0=P/(rho*vars.ggg)\n",
      "    return vlam0\n",
      "\n",
      "def lagrange_interp(xval,f,x,i): \n",
      "    t1=(xval-x[i])*(xval-x[i+1])/((x[i-1]-x[i])*(x[i-1]-x[i+1]))\n",
      "    t2=(xval-x[i-1])*(xval-x[i+1])/((x[i]-x[i-1])*(x[i]-x[i+1]))\n",
      "    t3=(xval-x[i-1])*(xval-x[i])/((x[i+1]-x[i-1])*(x[i+1]-x[i]))\n",
      "    y=t1*f[i-1]+t2*f[i]+t3*f[i+1]\n",
      "    return y\n",
      "\n",
      "def diff5p(y,i,h):\n",
      "    diff=(y[i-2]-8*y[i-1]+8*y[i+1]-y[i+2])/(12*h)\n",
      "    return diff\n",
      "\n",
      "#compute lambda0\n",
      "alam0 = numpy.zeros(asize/4)\n",
      "\n",
      "for i in range(0,(asize/4)-1):\n",
      "    alam0[i]=lambda0(vars,ptemp[i],rhotemp[i])\n",
      "    \n",
      "#print alam0  \n",
      "#compute cutoff\n",
      "atc0 = numpy.zeros(asize/4)\n",
      "lamdash0 = numpy.zeros(asize/4)\n",
      "for i in range(2,(asize/4)-3):\n",
      "    h=data[i][0]-data[i+1][0]\n",
      "    lamdash0[i]=diff5p(alam0,i,h)\n",
      "    atc0[i]=1.0/((vars.fgamma*vars.ggg/(4*pi*acs[i]))*math.sqrt(1+2*lamdash0[i]))\n",
      "    #atc0[i]=1.0/((vars.fgamma*vars.ggg/(4*pi*acs[i])))\n",
      "    #atc0[i]=math.sqrt(1+2*lamdash0[i])\n",
      "print atc0\n",
      "plt.plot(height/1.0e6,atc0)\n"
     ],
     "language": "python",
     "metadata": {},
     "outputs": [
      {
       "output_type": "stream",
       "stream": "stdout",
       "text": [
        "[   0.            0.         -548.90346844 ...,    0.            0.            0.        ]\n"
       ]
      },
      {
       "metadata": {},
       "output_type": "pyout",
       "prompt_number": 75,
       "text": [
        "[<matplotlib.lines.Line2D at 0xd23f9b0>]"
       ]
      },
      {
       "metadata": {},
       "output_type": "display_data",
       "png": "[encoded data removed]",
       "text": [
        "<matplotlib.figure.Figure at 0xbe8b978>"
       ]
      }
     ],
     "prompt_number": 75
    },
    {
     "cell_type": "markdown",
     "metadata": {},
     "source": [
      "##References\n",
      "Malins\n",
      "Direct Propagation of Photospheric Acoustic p Modes into Nonmagnetic Solar Atmosphere\n",
      "http://adsabs.harvard.edu/abs/2007SoPh..246...41M\n",
      "\n",
      "Fleck, B.; Schmitz, F.\n",
      "The 3-min oscillations of the solar chromosphere - A basic physical effect?\n",
      "http://adsabs.harvard.edu/abs/1991A%26A...250..235F\n",
      "\n",
      "Vernazza, J. E.; Avrett, E. H.; Loeser, R.\n",
      "Structure of the solar chromosphere. III - Models of the EUV brightness components of the quiet-sun\n",
      "http://adsabs.harvard.edu/abs/1981ApJS...45..635V\n",
      "\n",
      "Roberts, B.\n",
      "MHD Waves in the Solar Atmosphere\n",
      "http://adsabs.harvard.edu/abs/2004ESASP.547....1R"
     ]
    },
    {
     "cell_type": "code",
     "collapsed": false,
     "input": [],
     "language": "python",
     "metadata": {},
     "outputs": []
    }
   ],
   "metadata": {}
  }
 ]
}
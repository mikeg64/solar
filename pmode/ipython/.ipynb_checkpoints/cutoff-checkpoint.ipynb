{
 "metadata": {
  "name": "",
  "signature": "sha256:66884f38caea8a26c6b48422b8e9f6b3adf822c48d42ce75f6c0c36a9cda42c6"
 },
 "nbformat": 3,
 "nbformat_minor": 0,
 "worksheets": [
  {
   "cells": [
    {
     "cell_type": "markdown",
     "metadata": {},
     "source": [
      "# Cutoff for the solar atmosphere using the VALIIc Model\n",
      "\n",
      "##Background - the problem\n",
      "\n",
      "\n",
      "\n",
      "\t\n",
      "\n",
      "Compute the atmospheric cut-off frequenccy (From Roberts 2004)\n",
      "\n",
      "$$ \\omega_{c}=\\frac{\\gamma g}{4\\pi c_{s}}\\sqrt{1+2\\frac{d}{dz}\\frac{P}{\\rho g}}$$\n",
      "\n",
      "The atmospheric scale parameter \n",
      "\n",
      "Read VAL IIc data from csv file\n",
      "\n",
      "column 1 height [m]\n",
      "Column 2 Temperature [K]\n",
      "Column 3 Density [kg/m^3]\n",
      "Column 4 Pressure [Pa]\n"
     ]
    },
    {
     "cell_type": "code",
     "collapsed": false,
     "input": [
      "import numpy\n",
      "data=numpy.loadtxt(fname='..\\\\data\\\\atmos.csv', delimiter=',')\n",
      "print data\n",
      "print data.shape\n",
      "print data[1:10,1]\n",
      "height=data[1:2048,1]\n",
      "print height[1:10]"
     ],
     "language": "python",
     "metadata": {},
     "outputs": [
      {
       "output_type": "stream",
       "stream": "stdout",
       "text": [
        "[[  5.99707460e+06   1.62033110e+06   5.48000000e-12   1.22981640e-01]\n",
        " [  5.99414920e+06   1.61884070e+06   5.48000000e-12   1.22908510e-01]\n",
        " [  5.99122380e+06   1.61735400e+06   5.48000000e-12   1.22835770e-01]\n",
        " ..., \n",
        " [  1.46270110e+04   5.84000000e+03   2.15200000e-04   1.74062360e+04]\n",
        " [  1.17016090e+04   5.84000000e+03   2.15200000e-04   1.74062360e+04]\n",
        " [  8.77620670e+03   5.84000000e+03   2.15200000e-04   1.74062360e+04]]\n",
        "(2048L, 4L)\n",
        "[ 1618840.7  1617354.   1615864.9  1614376.4  1612888.6  1611401.4\n",
        "  1609914.9  1608429.   1606943.8]\n",
        "[ 1617354.   1615864.9  1614376.4  1612888.6  1611401.4  1609914.9\n",
        "  1608429.   1606943.8  1605459.2]\n"
       ]
      }
     ],
     "prompt_number": 22
    },
    {
     "cell_type": "markdown",
     "metadata": {},
     "source": [
      "## Function to compute the speed of sound"
     ]
    },
    {
     "cell_type": "code",
     "collapsed": false,
     "input": [
      "from math import exp, sqrt, pi\n",
      "\n",
      "class vars:\n",
      "  \n",
      "    mu=0.6e0\n",
      "    R=8.31e3\n",
      "    fgamma=1.66666667e0\n",
      "    ggg=-274.0e0\n",
      "    mu=4*pi/1.0e7\n",
      "    \n",
      "\n",
      "def cs(var, p, rho):\n",
      "    vcs=sqrt(vars.fgamma*p/rho)\n",
      "    return vcs\n",
      "\n",
      "def cs(var, p, rho):\n",
      "    vcs=sqrt(vars.fgamma*p/rho)\n",
      "    return vcs\n",
      "\n",
      "print cs(vars,data[4,1],data[3,1])"
     ],
     "language": "python",
     "metadata": {},
     "outputs": [
      {
       "output_type": "stream",
       "stream": "stdout",
       "text": [
        "1.29039969486\n"
       ]
      }
     ],
     "prompt_number": 19
    },
    {
     "cell_type": "markdown",
     "metadata": {},
     "source": [
      "## Function to compute the atmospheric scale parameter"
     ]
    },
    {
     "cell_type": "code",
     "collapsed": false,
     "input": [
      "from math import exp, sqrt, pi\n",
      "\n",
      "def lambda0(vars, P,rho):\n",
      "    vlam0=P/(rho*vars.ggg)\n",
      "    return vlam0\n",
      "\n",
      "def lagrange_interp(xval,f,x,i): \n",
      "    t1=(xval-x[i])*(xval-x[i+1])/((x[i-1]-x[i])*(x[i-1]-x[i+1]))\n",
      "    t2=(xval-x[i-1])*(xval-x[i+1])/((x[i]-x[i-1])*(x[i]-x[i+1]))\n",
      "    t3=(xval-x[i-1])*(xval-x[i])/((x[i+1]-x[i-1])*(x[i+1]-x[i]))\n",
      "    y=t1*f[i-1]+t2*f[i]+t3*f[i+1]\n",
      "    return y"
     ],
     "language": "python",
     "metadata": {},
     "outputs": [],
     "prompt_number": 21
    },
    {
     "cell_type": "code",
     "collapsed": false,
     "input": [
      "import random\n",
      "from math import exp, sqrt, pi\n",
      "\n",
      "def f(u):\n",
      "    return(exp(-u**2/2)/sqrt(2*pi))\n",
      "\n",
      "def loopy_monte(N):\n",
      "    hits = 0\n",
      "    for count in range(N):\n",
      "        x = random.uniform(-5,5)\n",
      "        y = random.uniform(0,0.5)\n",
      "        hits = hits + (y < f(x))\n",
      "        \n",
      "    estimate = hits / N * (0.5*10)\n",
      "    return(estimate)"
     ],
     "language": "python",
     "metadata": {},
     "outputs": [],
     "prompt_number": 17
    },
    {
     "cell_type": "markdown",
     "metadata": {},
     "source": [
      "##References\n",
      "Malins\n",
      "Direct Propagation of Photospheric Acoustic p Modes into Nonmagnetic Solar Atmosphere\n",
      "http://adsabs.harvard.edu/abs/2007SoPh..246...41M\n",
      "\n",
      "Fleck, B.; Schmitz, F.\n",
      "The 3-min oscillations of the solar chromosphere - A basic physical effect?\n",
      "http://adsabs.harvard.edu/abs/1991A%26A...250..235F\n",
      "\n",
      "Vernazza, J. E.; Avrett, E. H.; Loeser, R.\n",
      "Structure of the solar chromosphere. III - Models of the EUV brightness components of the quiet-sun\n",
      "http://adsabs.harvard.edu/abs/1981ApJS...45..635V\n",
      "\n",
      "Roberts, B.\n",
      "MHD Waves in the Solar Atmosphere\n",
      "http://adsabs.harvard.edu/abs/2004ESASP.547....1R"
     ]
    },
    {
     "cell_type": "code",
     "collapsed": false,
     "input": [],
     "language": "python",
     "metadata": {},
     "outputs": []
    }
   ],
   "metadata": {}
  }
 ]
}
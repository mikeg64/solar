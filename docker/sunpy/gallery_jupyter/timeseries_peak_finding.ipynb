{
  "nbformat_minor": 0,
  "metadata": {
    "language_info": {
      "codemirror_mode": {
        "name": "ipython",
        "version": 3
      },
      "name": "python",
      "nbconvert_exporter": "python",
      "version": "3.5.2",
      "pygments_lexer": "ipython3",
      "file_extension": ".py",
      "mimetype": "text/x-python"
    },
    "kernelspec": {
      "display_name": "Python 3",
      "name": "python3",
      "language": "python"
    }
  },
  "cells": [
    {
      "outputs": [],
      "metadata": {
        "collapsed": false
      },
      "cell_type": "code",
      "execution_count": null,
      "source": [
        "%matplotlib inline"
      ]
    },
    {
      "source": [
        "\n# Find Peaks in SunPy TimeSeries\n\n\nThis example illustrates how to find minimum or maximum peaks in a TimeSeries.\nNote: Peak finding is a complex problem that has many potential solutions and\nthis example is just one method of many.\n\n"
      ],
      "metadata": {},
      "cell_type": "markdown"
    },
    {
      "source": [
        "Start by importing the necessary modules.\n\n"
      ],
      "metadata": {},
      "cell_type": "markdown"
    },
    {
      "outputs": [],
      "metadata": {
        "collapsed": false
      },
      "cell_type": "code",
      "execution_count": null,
      "source": [
        "import numpy as np\nimport matplotlib.pyplot as plt\n\nfrom sunpy.timeseries import TimeSeries\nfrom sunpy.data.sample import NOAAINDICES_TIMESERIES as noaa_ind"
      ]
    },
    {
      "source": [
        "We will now create a TimeSeries object from an observational data source,\nAlso, we will truncate it to do analysis on a smaller time duration of 10\nyears.\n\n"
      ],
      "metadata": {},
      "cell_type": "markdown"
    },
    {
      "outputs": [],
      "metadata": {
        "collapsed": false
      },
      "cell_type": "code",
      "execution_count": null,
      "source": [
        "ts_noaa_ind = TimeSeries(noaa_ind, source='NOAAIndices')\nmy_timeseries = ts_noaa_ind.truncate('1991/01/01', '2001/01/01')\nmy_timeseries.peek()"
      ]
    },
    {
      "source": [
        "To find extrema in any TimeSeries, we first define a function findpeaks that\ntakes in input an iterable data series and a DELTA value. The DELTA value\ncontrols how much difference between values in the TimeSeries defines an\nextremum point. Inside the function, we iterate over the data values of\nTimeSeries and consider a point to be a local maxima if it has the maximal\nvalue, and was preceded (to the left) by a value lower by DELTA. Similar\nlogic applies to find a local minima.\n\n"
      ],
      "metadata": {},
      "cell_type": "markdown"
    },
    {
      "outputs": [],
      "metadata": {
        "collapsed": false
      },
      "cell_type": "code",
      "execution_count": null,
      "source": [
        "def findpeaks(series, DELTA):\n    \"\"\"\n    Finds extrema in a pandas series data.\n\n    Parameters\n    ----------\n    series : `pandas.Series`\n        The data series from which we need to find extrema.\n\n    DELTA : `float`\n        The minimum difference between data values that defines a peak.\n\n    Returns\n    -------\n    minpeaks, maxpeaks : `list`\n        Lists consisting of pos, val pairs for both local minima points and\n        local maxima points.\n    \"\"\"\n    # Set inital values\n    mn, mx = np.Inf, -np.Inf\n    minpeaks = []\n    maxpeaks = []\n    lookformax = True\n    start = True\n    # Iterate over items in series\n    for time_pos, value in series.iteritems():\n        if value > mx:\n            mx = value\n            mxpos = time_pos\n        if value < mn:\n            mn = value\n            mnpos = time_pos\n        if lookformax:\n            if value < mx-DELTA:\n                # a local maxima\n                maxpeaks.append((mxpos, mx))\n                mn = value\n                mnpos = time_pos\n                lookformax = False\n            elif start:\n                # a local minima at beginning\n                minpeaks.append((mnpos, mn))\n                mx = value\n                mxpos = time_pos\n                start = False\n        else:\n            if value > mn+DELTA:\n                # a local minima\n                minpeaks.append((mnpos, mn))\n                mx = value\n                mxpos = time_pos\n                lookformax = True\n    # check for extrema at end\n    if value > mn+DELTA:\n        maxpeaks.append((mxpos, mx))\n    elif value < mx-DELTA:\n        minpeaks.append((mnpos, mn))\n    return minpeaks, maxpeaks"
      ]
    },
    {
      "source": [
        "Now we take the column 'sunspot SWO' of this TimeSeries and try to find it's\nextrema using the function findpeaks. We take the value of DELTA to be\napproximately the length of smallest peak that we wish to detect.\n\n"
      ],
      "metadata": {},
      "cell_type": "markdown"
    },
    {
      "outputs": [],
      "metadata": {
        "collapsed": false
      },
      "cell_type": "code",
      "execution_count": null,
      "source": [
        "series = my_timeseries.data['sunspot SWO']\nminpeaks, maxpeaks = findpeaks(series, DELTA=10.)\n# Plotting the figure and extremum points\nplt.figure()\nplt.ylabel('Sunspot Number')\nplt.xlabel('Time')\nplt.title('Peaks in TimeSeries')\nseries.plot()\nplt.scatter(*zip(*minpeaks), color='red', label='min')\nplt.scatter(*zip(*maxpeaks), color='green', label='max')\nplt.legend()\nplt.grid(True)\nplt.show()"
      ]
    }
  ],
  "nbformat": 4
}
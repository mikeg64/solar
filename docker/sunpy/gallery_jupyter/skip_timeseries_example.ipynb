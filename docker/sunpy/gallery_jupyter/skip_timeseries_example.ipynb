{
  "nbformat_minor": 0,
  "metadata": {
    "language_info": {
      "codemirror_mode": {
        "name": "ipython",
        "version": 3
      },
      "name": "python",
      "nbconvert_exporter": "python",
      "version": "3.5.2",
      "pygments_lexer": "ipython3",
      "file_extension": ".py",
      "mimetype": "text/x-python"
    },
    "kernelspec": {
      "display_name": "Python 3",
      "name": "python3",
      "language": "python"
    }
  },
  "cells": [
    {
      "outputs": [],
      "metadata": {
        "collapsed": false
      },
      "cell_type": "code",
      "execution_count": null,
      "source": [
        "%matplotlib inline"
      ]
    },
    {
      "source": [
        "\n# Interacting with Data Using SunPy TimeSeries\n\n\nThis is an early run-through of the basic functionality of the SunPy TimeSeries\nclass.\nThis is intended primarily to demonstrate the current interface for discussion\nof the final implementation. Much of the code will be changes as the class is\ndeveloped.\n\n"
      ],
      "metadata": {},
      "cell_type": "markdown"
    },
    {
      "outputs": [],
      "metadata": {
        "collapsed": false
      },
      "cell_type": "code",
      "execution_count": null,
      "source": [
        "from __future__ import print_function, division\n\nimport datetime\nimport copy\nfrom collections import OrderedDict\n\nimport numpy as np\nfrom pandas import DataFrame\n\nimport astropy.units as u\nfrom astropy.time import Time\nfrom astropy.table import Table\n\nimport sunpy.data.sample\nimport sunpy.timeseries\nfrom sunpy.util.metadata import MetaDict\nfrom sunpy.time import TimeRange, parse_time\nfrom sunpy.net import Fido, attrs as a"
      ]
    },
    {
      "source": [
        "Creating a TimeSeries from a file can be done using the factory.\n\n"
      ],
      "metadata": {},
      "cell_type": "markdown"
    },
    {
      "outputs": [],
      "metadata": {
        "collapsed": false
      },
      "cell_type": "code",
      "execution_count": null,
      "source": [
        "ts_eve = sunpy.timeseries.TimeSeries(sunpy.data.sample.EVE_TIMESERIES, source='EVE')\nts_goes = sunpy.timeseries.TimeSeries(sunpy.data.sample.GOES_XRS_TIMESERIES, source='XRS')\nts_lyra = sunpy.timeseries.TimeSeries(sunpy.data.sample.LYRA_LEVEL3_TIMESERIES, source='LYRA')\nts_noaa_ind = sunpy.timeseries.TimeSeries(\n    sunpy.data.sample.NOAAINDICES_TIMESERIES, source='NOAAIndices')\nts_noaa_pre = sunpy.timeseries.TimeSeries(\n    sunpy.data.sample.NOAAPREDICT_TIMESERIES, source='NOAAPredictIndices')\nts_norh = sunpy.timeseries.TimeSeries(sunpy.data.sample.NORH_TIMESERIES, source='NoRH')\nts_rhessi = sunpy.timeseries.TimeSeries(sunpy.data.sample.RHESSI_TIMESERIES, source='RHESSI')\nts_gbm = sunpy.timeseries.TimeSeries(sunpy.data.sample.GBM_TIMESERIES, source='GBMSummary')\n# Note: for some FITS files a source can be determined implicitly, however it\n# is good practice to delcare it explicitly when possible."
      ]
    },
    {
      "source": [
        "You can create a list of TimeSeries objects by using multiple files. First\nhowever, we shall download these files using `Fido`.\n\n"
      ],
      "metadata": {},
      "cell_type": "markdown"
    },
    {
      "outputs": [],
      "metadata": {
        "collapsed": false
      },
      "cell_type": "code",
      "execution_count": null,
      "source": [
        "goes = Fido.search(a.Time(\"2012/06/01\", \"2012/06/04\"), a.Instrument(\"XRS\"))\ngoes_files = Fido.fetch(goes)\n\n# Using these new files you get a list:\nlis_goes_ts = sunpy.timeseries.TimeSeries(goes_files[:2], source='XRS')\nlis_goes_ts = sunpy.timeseries.TimeSeries(goes_files, source='XRS')\n# Using concatenate=True kwarg you can merge the files into one TimeSeries:\ncombined_goes_ts = sunpy.timeseries.TimeSeries(goes_files, source='XRS', concatenate=True)\ncombined_goes_ts.peek()\n# Note: ATM we only accept TimeSeries of a single class being created together\n# with the factory. The issue is that several source filetypes don't contain\n# metadata that enables us to reliably implicitly gather the source and ATM the\n# source is given as a single keyword argument for simplicity. But you can merge\n# different TimeSeries classes using concatenate.\n# Debate: are we OK for one source at a time?"
      ]
    },
    {
      "source": [
        "You can concatenate manually:\n\n"
      ],
      "metadata": {},
      "cell_type": "markdown"
    },
    {
      "outputs": [],
      "metadata": {
        "collapsed": false
      },
      "cell_type": "code",
      "execution_count": null,
      "source": [
        "combined_goes_ts = lis_goes_ts[0].concatenate(lis_goes_ts[1])\nfig = combined_goes_ts.peek()\n# Note: peek returns a matplotlib figure object, which can be saved to a file using:\nfig.savefig('figure.png')"
      ]
    },
    {
      "source": [
        "The TimeSeries object has 3 primary data storage components:\ndata (pandas.DataFrame): stores the data.\nmeta (OrderedDict): stores the metadata (like the Map)\nunits (OrderedDict): stores the units for each column, with keys that match\nthe name of each column.\nThese can be accessed like on the map:\n\n"
      ],
      "metadata": {},
      "cell_type": "markdown"
    },
    {
      "outputs": [],
      "metadata": {
        "collapsed": false
      },
      "cell_type": "code",
      "execution_count": null,
      "source": [
        "ts_lyra.data\nts_lyra.meta\nts_lyra.units\n# There are a couple of other useful properties you can quickly get:\nts_lyra.time_range\nts_lyra.index\nts_lyra.columns\n# Further data is available from within the metadata, you can filter out for a\n# key using the TimeSeriesMetaData.get() method:\ncombined_goes_ts.meta.get('telescop')\n# Note: this returns a TimeSeriesMetaData object, to get a list of just the\n# values for this key use the values property of the metadata:\ncombined_goes_ts.meta.get('telescop').values()\n# Note: this always returns a list because there may be one or more results."
      ]
    },
    {
      "source": [
        "The ID used in the data Pandas DataFrame object will be a datetime, as can\nbe seen using ts_lyra.index.\nYou can access a specific value within the TimeSeries data DataFrame using\nall the normal Pandas methods.\nFor example, the row with the index of 2015-01-01 00:02:00.008000:\n\n"
      ],
      "metadata": {},
      "cell_type": "markdown"
    },
    {
      "outputs": [],
      "metadata": {
        "collapsed": false
      },
      "cell_type": "code",
      "execution_count": null,
      "source": [
        "ts_lyra.data.loc[parse_time('2011-06-07 00:02:00.010')]\n# Pandas will actually parse a string to a datetime automatically if it can:\nts_lyra.data.loc['2011-06-07 00:02:00.010']\n# Pandas includes methods to find the indexes of the max/min values in a dataframe:\nlyra_ch1_max_index = ts_lyra.data['CHANNEL1'].idxmax()\nlyra_ch1_min_index = ts_lyra.data['CHANNEL1'].idxmin()"
      ]
    },
    {
      "source": [
        "The TimeSeriesMetaData can be summarised:\n\n"
      ],
      "metadata": {},
      "cell_type": "markdown"
    },
    {
      "outputs": [],
      "metadata": {
        "collapsed": false
      },
      "cell_type": "code",
      "execution_count": null,
      "source": [
        "combined_goes_ts.meta\nprint(combined_goes_ts.meta)\nprint(combined_goes_ts.meta.to_string(2))"
      ]
    },
    {
      "source": [
        "The TimeSeries objects can be visualised using peek():\n\n"
      ],
      "metadata": {},
      "cell_type": "markdown"
    },
    {
      "outputs": [],
      "metadata": {
        "collapsed": false
      },
      "cell_type": "code",
      "execution_count": null,
      "source": [
        "ts_goes.peek()\n# And you can use subplots:\nts_eve.peek(subplots=True)"
      ]
    },
    {
      "source": [
        "An individual column can be extracted from a TimeSeries:\n\n"
      ],
      "metadata": {},
      "cell_type": "markdown"
    },
    {
      "outputs": [],
      "metadata": {
        "collapsed": false
      },
      "cell_type": "code",
      "execution_count": null,
      "source": [
        "ts_eve_extract = ts_eve.extract('CMLon')\n# Note: no matter the source type of the original TimeSeries, the extracted\n# TimeSeries is always generic."
      ]
    },
    {
      "source": [
        "You can truncate a TimeSeries using the truncate() method.\nThis can use string datetime arguments, a SunPy TimeRange or integer value\narguments (similar to slicing, but using function notation).\nUsing integers we can get every other entry using:\n\n"
      ],
      "metadata": {},
      "cell_type": "markdown"
    },
    {
      "outputs": [],
      "metadata": {
        "collapsed": false
      },
      "cell_type": "code",
      "execution_count": null,
      "source": [
        "ts_goes_trunc = ts_goes.truncate(0, 100000, 2)\n# Or using a TimeRange:\ntr = TimeRange('2011-06-07 05:00', '2011-06-07 06:30')\nts_goes_trunc = ts_goes.truncate(tr)\n# Or using strings:\nts_goes_trunc = ts_goes.truncate('2011-06-07 05:00', '2011-06-07 06:30')\nts_goes_trunc.peek()\n# Note: the strings are parsed using SunPy's string parser.\n# Debate: how should we deal with metadata when truncating."
      ]
    },
    {
      "source": [
        "You can use Pandas resample method, for example to downsample:\n\n"
      ],
      "metadata": {},
      "cell_type": "markdown"
    },
    {
      "outputs": [],
      "metadata": {
        "collapsed": false
      },
      "cell_type": "code",
      "execution_count": null,
      "source": [
        "df_downsampled = ts_goes_trunc.data.resample('10T', 'mean')\n# To get this into a similar TimeSeries we can copy the original:\nts_downsampled = copy.deepcopy(ts_goes_trunc)\nts_downsampled.data = df_downsampled\nts_downsampled.peek()\n# You can use 'mean', 'sum' and 'std' methods and any other methods in Pandas.\n# Note: changing values within the datframe directly will often affect the units\n# involved, but these won't be picked up by the TimeSeries object. Take care\n# when doing this to ensure dimensional consistancy."
      ]
    },
    {
      "source": [
        "Similarly, to upsample:\n\n"
      ],
      "metadata": {},
      "cell_type": "markdown"
    },
    {
      "outputs": [],
      "metadata": {
        "collapsed": false
      },
      "cell_type": "code",
      "execution_count": null,
      "source": [
        "df_upsampled = ts_downsampled.data.resample('1T', 'ffill')\n# And this can be made into a TimeSeries using:\nts_upsampled = copy.deepcopy(ts_downsampled)\nts_upsampled.data = df_upsampled\nts_upsampled.peek()\n# Note: 'ffill', 'bfill' and 'pad' methods work, and as before others should also."
      ]
    },
    {
      "source": [
        "The data from the TimeSeries can be retrieved in a number of formats:\n\n"
      ],
      "metadata": {},
      "cell_type": "markdown"
    },
    {
      "outputs": [],
      "metadata": {
        "collapsed": false
      },
      "cell_type": "code",
      "execution_count": null,
      "source": [
        "ts_goes.to_dataframe()\nts_goes.to_table()\nts_goes.to_array()\n# Note: the array doesn't include the datetime index column."
      ]
    },
    {
      "source": [
        "Creating a TimeSeries from scratch can be done in a lot of ways, much like a\nMap.\nInput data can be in the form of a Pandas DataFrame (preferred), an astropy\nTable or a Numpy Array.\nTo generate some data and the corresponding dates\n\n"
      ],
      "metadata": {},
      "cell_type": "markdown"
    },
    {
      "outputs": [],
      "metadata": {
        "collapsed": false
      },
      "cell_type": "code",
      "execution_count": null,
      "source": [
        "base = datetime.datetime.today()\ndates = [base - datetime.timedelta(minutes=x) for x in range(0, 24 * 60)]\nintensity = np.sin(np.arange(0, 12 * np.pi, ((12 * np.pi) / (24 * 60))))\n# Create the data DataFrame, header MetaDict and units OrderedDict\ndata = DataFrame(intensity, index=dates, columns=['intensity'])\nunits = OrderedDict([('intensity', u.W / u.m**2)])\nmeta = MetaDict({'key': 'value'})\n# Create the time series\nts_custom = sunpy.timeseries.TimeSeries(data, meta, units)\n\n# A more manual dataset would be a numpy array, which we can creat using:\ntm = Time(['2000:002', '2001:345', '2002:345'])\na = [1, 4, 5]\nb = [2.0, 5.0, 8.2]\nc = ['x', 'y', 'z']\narr = np.stack([tm, a, b, c], axis=1)\n# Note: this array needs to have the times in the first column, this can be in\n# any form that can be converted using astropy.time.Time().\n\n# We can use the array directly:\nts_from_arr = sunpy.timeseries.TimeSeries(arr, {})\n\n# We can use this to create a table and even include units:\nt = Table([tm, a, b, c], names=('time', 'a', 'b', 'c'), meta={'name': 'table'})\nt['b'].unit = 's'  # Adding units\nts_from_table = sunpy.timeseries.TimeSeries(t, {})\n\n# If you wanted to make a dataframe from this array then you could use:\ndf = DataFrame(data=arr[:, 1:])\ndf.index = tm\nts_from_df = sunpy.timeseries.TimeSeries(df, {})"
      ]
    },
    {
      "source": [
        "You can optionally add units data, a dictionary matching column heading keys\nto an astropy unit.\n\n"
      ],
      "metadata": {},
      "cell_type": "markdown"
    },
    {
      "outputs": [],
      "metadata": {
        "collapsed": false
      },
      "cell_type": "code",
      "execution_count": null,
      "source": [
        "units = OrderedDict([('a', u.Unit(\"ct\")), ('b', u.Unit(\"ct\")), ('c', u.Unit(\"ct\"))])\nts_from_table = sunpy.timeseries.TimeSeries(t, {}, units)\nts_from_df = sunpy.timeseries.TimeSeries(df, {}, units)"
      ]
    },
    {
      "source": [
        "Changing the units for a column simply requires changing the value:\n\n"
      ],
      "metadata": {},
      "cell_type": "markdown"
    },
    {
      "outputs": [],
      "metadata": {
        "collapsed": false
      },
      "cell_type": "code",
      "execution_count": null,
      "source": [
        "ts_from_table.units['a'] = u.m"
      ]
    },
    {
      "source": [
        "Quantities can be extracted from a column using the quantity(col_name) method:\n\n"
      ],
      "metadata": {},
      "cell_type": "markdown"
    },
    {
      "outputs": [],
      "metadata": {
        "collapsed": false
      },
      "cell_type": "code",
      "execution_count": null,
      "source": [
        "colname = 'CMLat'\nqua = ts_eve.quantity(colname)\nprint(qua)"
      ]
    },
    {
      "source": [
        "You can add or overwrite a column using the add_column method.\nThis method ascepts an astropy quantity and will convert to the intended units\nif necessary.\n\n"
      ],
      "metadata": {},
      "cell_type": "markdown"
    },
    {
      "outputs": [],
      "metadata": {
        "collapsed": false
      },
      "cell_type": "code",
      "execution_count": null,
      "source": [
        "qua_new = u.Quantity(qua.value * 0.01, ts_eve.units[colname])\nprint(qua_new)\nts_eve = ts_eve.add_column(colname, qua_new, overwrite=True)\n# Otherwise you can also use a numpy array and it assume you're using the original\n# units:\narr_new = u.Quantity(qua.value * 0.1, ts_eve.units[colname]).value\nts_eve = ts_eve.add_column(colname, qua_new, overwrite=True)\n# Finally, if you want to change the units used, you can specify a new unit for\n# the column using the unit keyword:\nqua_new = u.Quantity(qua.value * 0.00001, ts_eve.units[colname])\nunit = u.W / (u.km**2)\nts_eve = ts_eve.add_column(colname, qua_new, unit=unit, overwrite=True)"
      ]
    }
  ],
  "nbformat": 4
}
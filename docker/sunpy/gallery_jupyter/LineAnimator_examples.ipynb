{
  "nbformat_minor": 0,
  "metadata": {
    "language_info": {
      "codemirror_mode": {
        "name": "ipython",
        "version": 3
      },
      "name": "python",
      "nbconvert_exporter": "python",
      "version": "3.5.2",
      "pygments_lexer": "ipython3",
      "file_extension": ".py",
      "mimetype": "text/x-python"
    },
    "kernelspec": {
      "display_name": "Python 3",
      "name": "python3",
      "language": "python"
    }
  },
  "cells": [
    {
      "outputs": [],
      "metadata": {
        "collapsed": false
      },
      "cell_type": "code",
      "execution_count": null,
      "source": [
        "%matplotlib inline"
      ]
    },
    {
      "source": [
        "\n# LineAnimator\n\n\nThis example shows off some ways in which you can use the\nLineAnimator object to animate line plots.\n\n"
      ],
      "metadata": {},
      "cell_type": "markdown"
    },
    {
      "outputs": [],
      "metadata": {
        "collapsed": false
      },
      "cell_type": "code",
      "execution_count": null,
      "source": [
        "import numpy as np\nimport matplotlib.pyplot as plt\n\nfrom sunpy.visualization.imageanimator import LineAnimator"
      ]
    },
    {
      "source": [
        "Animate a 2D cube of random data as a line plot along an\naxis where the x-axis drifts with time.\n\n"
      ],
      "metadata": {},
      "cell_type": "markdown"
    },
    {
      "outputs": [],
      "metadata": {
        "collapsed": false
      },
      "cell_type": "code",
      "execution_count": null,
      "source": [
        "# Define some random data\ndata_shape0 = (10, 20)\ndata0 = np.random.rand(*data_shape0)"
      ]
    },
    {
      "source": [
        "Define the axis that will make up the line plot\n\n"
      ],
      "metadata": {},
      "cell_type": "markdown"
    },
    {
      "outputs": [],
      "metadata": {
        "collapsed": false
      },
      "cell_type": "code",
      "execution_count": null,
      "source": [
        "plot_axis0 = 1\nslider_axis0 = 0"
      ]
    },
    {
      "source": [
        "Define value along x axis which drift with time.  To do this, define\nxdata to be the same shape as the data where each row/column\n(depending on axis to be animated) represents the x-axis values for\na single frame of the animations.\n\n"
      ],
      "metadata": {},
      "cell_type": "markdown"
    },
    {
      "outputs": [],
      "metadata": {
        "collapsed": false
      },
      "cell_type": "code",
      "execution_count": null,
      "source": [
        "xdata = np.tile(np.linspace(0, 100, data_shape0[plot_axis0]), (data_shape0[slider_axis0], 1))"
      ]
    },
    {
      "source": [
        "Generate animation object with variable x-axis data.\n\n"
      ],
      "metadata": {},
      "cell_type": "markdown"
    },
    {
      "outputs": [],
      "metadata": {
        "collapsed": false
      },
      "cell_type": "code",
      "execution_count": null,
      "source": [
        "ani = LineAnimator(data0, plot_axis_index=plot_axis0, axis_ranges=[None, xdata])"
      ]
    },
    {
      "source": [
        "Show plot\n\n"
      ],
      "metadata": {},
      "cell_type": "markdown"
    },
    {
      "outputs": [],
      "metadata": {
        "collapsed": false
      },
      "cell_type": "code",
      "execution_count": null,
      "source": [
        "plt.show()"
      ]
    }
  ],
  "nbformat": 4
}
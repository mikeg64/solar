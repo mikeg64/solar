{
  "nbformat_minor": 0,
  "metadata": {
    "language_info": {
      "codemirror_mode": {
        "name": "ipython",
        "version": 3
      },
      "name": "python",
      "nbconvert_exporter": "python",
      "version": "3.5.2",
      "pygments_lexer": "ipython3",
      "file_extension": ".py",
      "mimetype": "text/x-python"
    },
    "kernelspec": {
      "display_name": "Python 3",
      "name": "python3",
      "language": "python"
    }
  },
  "cells": [
    {
      "outputs": [],
      "metadata": {
        "collapsed": false
      },
      "cell_type": "code",
      "execution_count": null,
      "source": [
        "%matplotlib inline"
      ]
    },
    {
      "source": [
        "\n============================================\nHelioprojective/AltAz Coordinate Conversions\n============================================\n\nThis is a very simple example to show how to convert\nHelioprojective Coordiantes to Altitude/Azimuth Coordinates.\nIn this example, we use balloons observations to include\nelevation as a factor.\n\n"
      ],
      "metadata": {},
      "cell_type": "markdown"
    },
    {
      "outputs": [],
      "metadata": {
        "collapsed": false
      },
      "cell_type": "code",
      "execution_count": null,
      "source": [
        "from astropy.coordinates import EarthLocation, AltAz, SkyCoord\nfrom astropy.time import Time\nfrom sunpy.coordinates import frames, get_sunearth_distance\nimport astropy.units as u"
      ]
    },
    {
      "source": [
        "We use `~astropy.coordinates.SkyCoord` to define the center of the Sun\n\n"
      ],
      "metadata": {},
      "cell_type": "markdown"
    },
    {
      "outputs": [],
      "metadata": {
        "collapsed": false
      },
      "cell_type": "code",
      "execution_count": null,
      "source": [
        "obstime = \"2013-09-21 16:00:00\"\nc = SkyCoord(0 * u.arcsec, 0 * u.arcsec, obstime=obstime, frame=frames.Helioprojective)"
      ]
    },
    {
      "source": [
        "Now we establish our location on the Earth, in this case Fort Sumner, NM.\nWe use the balloon's observational altitude as 'height'. Accuracy of 'height' is\nfar less of a concern than Lon/Lat accuracy.\n\n"
      ],
      "metadata": {},
      "cell_type": "markdown"
    },
    {
      "outputs": [],
      "metadata": {
        "collapsed": false
      },
      "cell_type": "code",
      "execution_count": null,
      "source": [
        "Fort_Sumner = EarthLocation(lat=34.4900*u.deg, lon=-104.221800*u.deg, height=40*u.km)"
      ]
    },
    {
      "source": [
        "Now lets convert this to a local measurement of Altitude and Azimuth.\n\n"
      ],
      "metadata": {},
      "cell_type": "markdown"
    },
    {
      "outputs": [],
      "metadata": {
        "collapsed": false
      },
      "cell_type": "code",
      "execution_count": null,
      "source": [
        "frame_altaz = AltAz(obstime=Time(obstime), location=Fort_Sumner)\nsun_altaz = c.transform_to(frame_altaz)\nprint('Altitude is {0} and Azimuth is {1}'.format(sun_altaz.T.alt, sun_altaz.T.az))"
      ]
    },
    {
      "source": [
        "Next let's check this calculation by converting it back to helioprojective.\nWe should get our original input which was the center of the Sun.\nTo go from Altitude/Azimuth to Helioprojective, you will need the distance to the Sun.\nsolar distance. Define distance with SunPy's almanac.\n\n"
      ],
      "metadata": {},
      "cell_type": "markdown"
    },
    {
      "outputs": [],
      "metadata": {
        "collapsed": false
      },
      "cell_type": "code",
      "execution_count": null,
      "source": [
        "distance = get_sunearth_distance(obstime)\nb = SkyCoord(az=sun_altaz.T.az, alt=sun_altaz.T.alt, distance=distance, frame=frame_altaz)\nsun_helio = b.transform_to(frames.Helioprojective)\nprint('The helioprojective point is {0}, {1}'.format(sun_helio.T.Tx, sun_helio.T.Ty))"
      ]
    },
    {
      "source": [
        "The output is within a radius of 0.02 arcseccs.\n\n"
      ],
      "metadata": {},
      "cell_type": "markdown"
    }
  ],
  "nbformat": 4
}
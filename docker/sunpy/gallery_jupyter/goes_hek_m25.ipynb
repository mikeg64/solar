{
  "nbformat_minor": 0,
  "metadata": {
    "language_info": {
      "codemirror_mode": {
        "name": "ipython",
        "version": 3
      },
      "name": "python",
      "nbconvert_exporter": "python",
      "version": "3.5.2",
      "pygments_lexer": "ipython3",
      "file_extension": ".py",
      "mimetype": "text/x-python"
    },
    "kernelspec": {
      "display_name": "Python 3",
      "name": "python3",
      "language": "python"
    }
  },
  "cells": [
    {
      "outputs": [],
      "metadata": {
        "collapsed": false
      },
      "cell_type": "code",
      "execution_count": null,
      "source": [
        "%matplotlib inline"
      ]
    },
    {
      "source": [
        "\n# GOES Flare and HEK Plot Example\n\n\nAn example showing how to combine GOES and HEK data\n\n"
      ],
      "metadata": {},
      "cell_type": "markdown"
    },
    {
      "outputs": [],
      "metadata": {
        "collapsed": false
      },
      "cell_type": "code",
      "execution_count": null,
      "source": [
        "from __future__ import print_function, division\n\nimport matplotlib.pyplot as plt\n\nfrom sunpy.timeseries import TimeSeries\nfrom sunpy.time import TimeRange, parse_time\nfrom sunpy.net import hek, Fido, attrs as a"
      ]
    },
    {
      "source": [
        "Let's first grab GOES XRS data for a particular time of interest\n\n"
      ],
      "metadata": {},
      "cell_type": "markdown"
    },
    {
      "outputs": [],
      "metadata": {
        "collapsed": false
      },
      "cell_type": "code",
      "execution_count": null,
      "source": [
        "tr = TimeRange(['2011-06-07 04:00', '2011-06-07 12:00'])\nresults = Fido.search(a.Time(tr), a.Instrument('XRS'))\nresults"
      ]
    },
    {
      "source": [
        "Then download the data and load it into a TimeSeries\n\n"
      ],
      "metadata": {},
      "cell_type": "markdown"
    },
    {
      "outputs": [],
      "metadata": {
        "collapsed": false
      },
      "cell_type": "code",
      "execution_count": null,
      "source": [
        "files = Fido.fetch(results)\ngoes = TimeSeries(files)"
      ]
    },
    {
      "source": [
        "Next lets grab the HEK data for this time from the NOAA Space Weather\nPrediction Center (SWPC)\n\n"
      ],
      "metadata": {},
      "cell_type": "markdown"
    },
    {
      "outputs": [],
      "metadata": {
        "collapsed": false
      },
      "cell_type": "code",
      "execution_count": null,
      "source": [
        "client = hek.HEKClient()\nflares_hek = client.search(hek.attrs.Time(tr.start, tr.end),\n                           hek.attrs.FL, hek.attrs.FRM.Name == 'SWPC')"
      ]
    },
    {
      "source": [
        "Finally lets plot everything together\n\n"
      ],
      "metadata": {},
      "cell_type": "markdown"
    },
    {
      "outputs": [],
      "metadata": {
        "collapsed": false
      },
      "cell_type": "code",
      "execution_count": null,
      "source": [
        "goes.peek()\nplt.axvline(parse_time(flares_hek[0].get('event_peaktime')))\nplt.axvspan(parse_time(flares_hek[0].get('event_starttime')),\n            parse_time(flares_hek[0].get('event_endtime')),\n            alpha=0.2, label=flares_hek[0].get('fl_goescls'))\nplt.legend(loc=2)\nplt.show()"
      ]
    }
  ],
  "nbformat": 4
}
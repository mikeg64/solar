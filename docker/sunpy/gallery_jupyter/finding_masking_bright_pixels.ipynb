{
  "nbformat_minor": 0,
  "metadata": {
    "language_info": {
      "codemirror_mode": {
        "name": "ipython",
        "version": 3
      },
      "name": "python",
      "nbconvert_exporter": "python",
      "version": "3.5.2",
      "pygments_lexer": "ipython3",
      "file_extension": ".py",
      "mimetype": "text/x-python"
    },
    "kernelspec": {
      "display_name": "Python 3",
      "name": "python3",
      "language": "python"
    }
  },
  "cells": [
    {
      "outputs": [],
      "metadata": {
        "collapsed": false
      },
      "cell_type": "code",
      "execution_count": null,
      "source": [
        "%matplotlib inline"
      ]
    },
    {
      "source": [
        "\n# Finding and masking bright pixels\n\n\nHow to find and overplot the location of the brightest\npixel and then mask any pixels out the area around this region.\n\n"
      ],
      "metadata": {},
      "cell_type": "markdown"
    },
    {
      "outputs": [],
      "metadata": {
        "collapsed": false
      },
      "cell_type": "code",
      "execution_count": null,
      "source": [
        "from __future__ import print_function, division\n\nimport numpy as np\nimport numpy.ma as ma\nimport matplotlib.pyplot as plt\n\nimport astropy.units as u\n\nimport sunpy.map\nfrom sunpy.data.sample import AIA_171_IMAGE"
      ]
    },
    {
      "source": [
        "We first create the Map using the sample data and import the coordinate\nfunctionality.\n\n"
      ],
      "metadata": {},
      "cell_type": "markdown"
    },
    {
      "outputs": [],
      "metadata": {
        "collapsed": false
      },
      "cell_type": "code",
      "execution_count": null,
      "source": [
        "aia = sunpy.map.Map(AIA_171_IMAGE)"
      ]
    },
    {
      "source": [
        "Now to find the single brightest pixel, we will maximium of the AIA image.\nNote that we transform from pixel space to the world corodiate system.\n\n"
      ],
      "metadata": {},
      "cell_type": "markdown"
    },
    {
      "outputs": [],
      "metadata": {
        "collapsed": false
      },
      "cell_type": "code",
      "execution_count": null,
      "source": [
        "pixel_pos = np.argwhere(aia.data == aia.data.max())*u.pixel\nhpc_max = aia.pixel_to_world(pixel_pos[:, 1], pixel_pos[:, 0])"
      ]
    },
    {
      "source": [
        "Let's now plot the results. We will overlay the SunPy lon/lat grid.\n\n"
      ],
      "metadata": {},
      "cell_type": "markdown"
    },
    {
      "outputs": [],
      "metadata": {
        "collapsed": false
      },
      "cell_type": "code",
      "execution_count": null,
      "source": [
        "fig = plt.figure()\nax = plt.subplot(projection=aia)\naia.plot()\nax.plot_coord(hpc_max, 'bx', color='white', marker='x', markersize=15)\nplt.show()"
      ]
    },
    {
      "source": [
        "Now we create a new custom AIAMap with a mask around the brightest pixel.\nWe have to build two arrays which include all of the x and y pixel indices.\nThese indices are for the entire image.\nWe must not forget to add the correct units because we will next pass\ninto a SunPy function which all require them.\n\n"
      ],
      "metadata": {},
      "cell_type": "markdown"
    },
    {
      "outputs": [],
      "metadata": {
        "collapsed": false
      },
      "cell_type": "code",
      "execution_count": null,
      "source": [
        "x, y = np.meshgrid(*[np.arange(v.value) for v in aia.dimensions]) * u.pixel"
      ]
    },
    {
      "source": [
        "Now we can convert this to helioprojective coordinates and create a new\narray which contains the normalized radial position for each pixel adjusted\nfor the position of the brightest pixel (using `hpc_max`).\n\n"
      ],
      "metadata": {},
      "cell_type": "markdown"
    },
    {
      "outputs": [],
      "metadata": {
        "collapsed": false
      },
      "cell_type": "code",
      "execution_count": null,
      "source": [
        "hpc_mask = aia.pixel_to_world(x, y)\nr_mask = np.sqrt((hpc_mask.Tx-hpc_max.Tx) ** 2 + (hpc_mask.Ty-hpc_max.Ty) ** 2) / aia.rsun_obs\nmask = ma.masked_less_equal(r_mask, 0.1)\nscaled_map = sunpy.map.Map(aia.data, aia.meta, mask=mask.mask)"
      ]
    },
    {
      "source": [
        "Let's now plot the new Map!\n\n"
      ],
      "metadata": {},
      "cell_type": "markdown"
    },
    {
      "outputs": [],
      "metadata": {
        "collapsed": false
      },
      "cell_type": "code",
      "execution_count": null,
      "source": [
        "fig = plt.figure()\nax = plt.subplot(projection=scaled_map)\nscaled_map.plot()\nplt.show()"
      ]
    }
  ],
  "nbformat": 4
}
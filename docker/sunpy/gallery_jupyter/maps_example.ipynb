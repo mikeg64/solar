{
  "nbformat_minor": 0,
  "metadata": {
    "language_info": {
      "codemirror_mode": {
        "name": "ipython",
        "version": 3
      },
      "name": "python",
      "nbconvert_exporter": "python",
      "version": "3.5.2",
      "pygments_lexer": "ipython3",
      "file_extension": ".py",
      "mimetype": "text/x-python"
    },
    "kernelspec": {
      "display_name": "Python 3",
      "name": "python3",
      "language": "python"
    }
  },
  "cells": [
    {
      "outputs": [],
      "metadata": {
        "collapsed": false
      },
      "cell_type": "code",
      "execution_count": null,
      "source": [
        "%matplotlib inline"
      ]
    },
    {
      "source": [
        "\n# Interacting with Data Using SunPy Maps\n\n\nIn this example you will be learning how to create and modify SunPy Map objects.\n\n"
      ],
      "metadata": {},
      "cell_type": "markdown"
    },
    {
      "source": [
        "Start by importing the necessary modules.\n\n"
      ],
      "metadata": {},
      "cell_type": "markdown"
    },
    {
      "outputs": [],
      "metadata": {
        "collapsed": false
      },
      "cell_type": "code",
      "execution_count": null,
      "source": [
        "from __future__ import print_function, division\n\nimport numpy as np\nimport matplotlib.pyplot as plt\n\nimport astropy.units as u\nfrom astropy.coordinates import SkyCoord\n\nimport sunpy.map\nimport sunpy.data.sample"
      ]
    },
    {
      "source": [
        "SunPy Maps store 2D data in a numpy array and additional data in a metadata\ndictionary giving information relating to the data and instrument.\nYou can create a Map in a number of ways, including loading a FITS file or URL:\n``mymap = sunpy.map.Map('file1.fits')``\n``mymap = sunpy.map.Map(url_str)``\nOr using creating manually by using tuple with the data/header within:\n\n"
      ],
      "metadata": {},
      "cell_type": "markdown"
    },
    {
      "outputs": [],
      "metadata": {
        "collapsed": false
      },
      "cell_type": "code",
      "execution_count": null,
      "source": [
        "data = np.random.rand(20, 15)\nheader = {}\nmanual_map = sunpy.map.Map((data, header))"
      ]
    },
    {
      "source": [
        "The data numpy array and metadata dictionary can easily be accessed:\n\n"
      ],
      "metadata": {},
      "cell_type": "markdown"
    },
    {
      "outputs": [],
      "metadata": {
        "collapsed": false
      },
      "cell_type": "code",
      "execution_count": null,
      "source": [
        "print(manual_map.data)\nprint(manual_map.meta)\n\n# In this case notice that the metadata has been populated by default with the\n# naxis details that correspond to the array used for the data."
      ]
    },
    {
      "source": [
        "You can quickly plot a map using the peek method:\n\n"
      ],
      "metadata": {},
      "cell_type": "markdown"
    },
    {
      "outputs": [],
      "metadata": {
        "collapsed": false
      },
      "cell_type": "code",
      "execution_count": null,
      "source": [
        "manual_map.peek()"
      ]
    },
    {
      "source": [
        "SunPy Maps have a number of attributes that can be accessed easily, such as\nthe x and y ranges:\n\n"
      ],
      "metadata": {},
      "cell_type": "markdown"
    },
    {
      "outputs": [],
      "metadata": {
        "collapsed": false
      },
      "cell_type": "code",
      "execution_count": null,
      "source": [
        "print(manual_map.xrange)\nprint(manual_map.yrange)\n\n# These return astropy Quantity objects.\n# In general the attributes are populated using details in the metadata and in\n# this case there is no centre pixel or pixel size information given so SunPy\n# is defaulting to assuming each pixel is 1 arcsec.\n# This is in Helioprojective tangent projection in both longitude and latitude:\nprint(manual_map.coordinate_system)"
      ]
    },
    {
      "source": [
        "A real map example is given in the sample data, where the sunpy.data.sample.NAME\nreturns the location of the given FITS file.\n\n"
      ],
      "metadata": {},
      "cell_type": "markdown"
    },
    {
      "outputs": [],
      "metadata": {
        "collapsed": false
      },
      "cell_type": "code",
      "execution_count": null,
      "source": [
        "aia_map = sunpy.map.Map(sunpy.data.sample.AIA_171_IMAGE)\naia_map.peek(draw_limb=True)"
      ]
    },
    {
      "source": [
        "This has comprehensive metadata:\n\n"
      ],
      "metadata": {},
      "cell_type": "markdown"
    },
    {
      "outputs": [],
      "metadata": {
        "collapsed": false
      },
      "cell_type": "code",
      "execution_count": null,
      "source": [
        "print(aia_map.meta)"
      ]
    },
    {
      "source": [
        "And find out information about the observation device and date:\n\n"
      ],
      "metadata": {},
      "cell_type": "markdown"
    },
    {
      "outputs": [],
      "metadata": {
        "collapsed": false
      },
      "cell_type": "code",
      "execution_count": null,
      "source": [
        "print(aia_map.date)\nprint(aia_map.observatory)\nprint(aia_map.detector)\nprint(aia_map.exposure_time)\nprint(aia_map.coordinate_system)\nprint(aia_map.measurement)"
      ]
    },
    {
      "source": [
        "Maps also hold coordinate objects for the coordinate system they are in.\n\n"
      ],
      "metadata": {},
      "cell_type": "markdown"
    },
    {
      "outputs": [],
      "metadata": {
        "collapsed": false
      },
      "cell_type": "code",
      "execution_count": null,
      "source": [
        "print(aia_map.coordinate_frame)"
      ]
    },
    {
      "source": [
        "To see only a part of the image you create a submap, by specifying the top\nleft and bottom right corners of the rectangle as either `SkyCoord` or\n`Quantity` objects.\n\n"
      ],
      "metadata": {},
      "cell_type": "markdown"
    },
    {
      "outputs": [],
      "metadata": {
        "collapsed": false
      },
      "cell_type": "code",
      "execution_count": null,
      "source": [
        "bottom_left = aia_map.bottom_left_coord\ntop_right = SkyCoord(0 * u.arcsec, 0 * u.arcsec, frame=aia_map.coordinate_frame)\naia_submap = aia_map.submap(bottom_left, top_right)\naia_submap.peek(draw_limb=True)"
      ]
    },
    {
      "source": [
        "Similarly, if you want to reduce the angular resolution of the map you can use\nthe `~sunpy.map.GenericMap.resample` method, specifying the dimensions as an\nAstropy Quantity in pixels:\n\n"
      ],
      "metadata": {},
      "cell_type": "markdown"
    },
    {
      "outputs": [],
      "metadata": {
        "collapsed": false
      },
      "cell_type": "code",
      "execution_count": null,
      "source": [
        "dimensions = u.Quantity([50, 50], u.pixel)\naia_resampled_map = aia_map.resample(dimensions)\naia_resampled_map.peek(draw_limb=True, draw_grid=True)"
      ]
    },
    {
      "source": [
        "Similar to resampling you can use the `~sunpy.map.GenericMap.superpixel`\nmethod, this will reduce the resolution of the image by combining the number\nof pixels (in each dimension) in the dimensions argument into one single\npixel. This can be used to increase the signal to noise ratio. For this the\nnew dimensions must divide original image size exactly.\n\n"
      ],
      "metadata": {},
      "cell_type": "markdown"
    },
    {
      "outputs": [],
      "metadata": {
        "collapsed": false
      },
      "cell_type": "code",
      "execution_count": null,
      "source": [
        "dimensions = u.Quantity(aia_map.dimensions) / 16\naia_superpixel_map = aia_map.superpixel(dimensions)\naia_superpixel_map.peek(draw_limb=True)"
      ]
    },
    {
      "source": [
        "Maps can also be rotated using the `~sunpy.map.GenericMap.rotate` method:\n\n"
      ],
      "metadata": {},
      "cell_type": "markdown"
    },
    {
      "outputs": [],
      "metadata": {
        "collapsed": false
      },
      "cell_type": "code",
      "execution_count": null,
      "source": [
        "aia_rotated_submap = aia_submap.rotate(angle=10 * u.deg)\naia_rotated_submap.peek(draw_limb=True, draw_grid=True)\n\n# Note: the data array is expanded so that none of the original data is lost\n# through clipping.\nplt.show()"
      ]
    }
  ],
  "nbformat": 4
}
{
  "nbformat_minor": 0,
  "metadata": {
    "language_info": {
      "codemirror_mode": {
        "name": "ipython",
        "version": 3
      },
      "name": "python",
      "nbconvert_exporter": "python",
      "version": "3.5.2",
      "pygments_lexer": "ipython3",
      "file_extension": ".py",
      "mimetype": "text/x-python"
    },
    "kernelspec": {
      "display_name": "Python 3",
      "name": "python3",
      "language": "python"
    }
  },
  "cells": [
    {
      "outputs": [],
      "metadata": {
        "collapsed": false
      },
      "cell_type": "code",
      "execution_count": null,
      "source": [
        "%matplotlib inline"
      ]
    },
    {
      "source": [
        "\n# Base and Running Difference in Mapcubes\n\n\nThis example illustrates how to do base and running differencing with a MapCube.\nBase differencing uses a fixed map when compared to running difference.\n\n"
      ],
      "metadata": {},
      "cell_type": "markdown"
    },
    {
      "outputs": [],
      "metadata": {
        "collapsed": false
      },
      "cell_type": "code",
      "execution_count": null,
      "source": [
        "import matplotlib.pyplot as plt\nimport matplotlib.colors as colors\nimport matplotlib.cm as cm\n\nimport sunpy.map\nimport sunpy.physics.differential_rotation as diffrot\nfrom sunpy.data.sample import AIA_193_CUTOUT01_IMAGE, AIA_193_CUTOUT02_IMAGE, AIA_193_CUTOUT03_IMAGE"
      ]
    },
    {
      "source": [
        "We create the MapCube using the AIA_193_CUTOUT sample data.\nTo create a MapCube, we can call Map directly and add in a keyword to output a MapCube instead.\n\n"
      ],
      "metadata": {},
      "cell_type": "markdown"
    },
    {
      "outputs": [],
      "metadata": {
        "collapsed": false
      },
      "cell_type": "code",
      "execution_count": null,
      "source": [
        "aiamapcube = sunpy.map.Map(AIA_193_CUTOUT01_IMAGE, AIA_193_CUTOUT02_IMAGE,\n                           AIA_193_CUTOUT03_IMAGE, cube=True)"
      ]
    },
    {
      "source": [
        "In case of running difference, we loop through all the maps in the\naiamapcube and differentially rotate each map in the mapcube\nwith respect to the previous map\nwhile in case of base difference we differentially\nrotate each map in the mapcube to the time of the base map.\nWe then store all the difference maps in a list.\n\n"
      ],
      "metadata": {},
      "cell_type": "markdown"
    },
    {
      "outputs": [],
      "metadata": {
        "collapsed": false
      },
      "cell_type": "code",
      "execution_count": null,
      "source": [
        "base_diffmap = []\nrunning_diffmap = []\nfor i, map_i in enumerate(aiamapcube[1:]):\n    aiamap_rot = diffrot.diffrot_map(map_i, time=aiamapcube[0].date)\n    aiamapcube_rot = diffrot.diffrot_map(aiamapcube[i+1], time=aiamapcube[i].date)\n    diffdata = map_i.data - aiamap_rot.data\n    smap_base = sunpy.map.Map(diffdata, map_i.meta)\n    diffdata = aiamapcube_rot.data - map_i.data\n    smap_run = sunpy.map.Map(diffdata, map_i.meta)\n    smap_base.plot_settings['cmap'] = plt.get_cmap('Greys_r')\n    smap_base.plot_settings['norm'] = colors.LogNorm(100, smap_base.max())\n    smap_run.plot_settings['cmap'] = plt.get_cmap('Greys_r')\n    smap_run.plot_settings['norm'] = colors.LogNorm(100, smap_run.max())\n    base_diffmap.append(smap_base)\n    running_diffmap.append(smap_run)"
      ]
    },
    {
      "source": [
        "This plots the original mapcube\n\n"
      ],
      "metadata": {},
      "cell_type": "markdown"
    },
    {
      "outputs": [],
      "metadata": {
        "collapsed": false
      },
      "cell_type": "code",
      "execution_count": null,
      "source": [
        "aiamapcube.peek()"
      ]
    },
    {
      "source": [
        "This plots the final mapcube obtained after implementing the base difference\n\n"
      ],
      "metadata": {},
      "cell_type": "markdown"
    },
    {
      "outputs": [],
      "metadata": {
        "collapsed": false
      },
      "cell_type": "code",
      "execution_count": null,
      "source": [
        "result_mapcube = sunpy.map.MapCube(base_diffmap)\nresult_mapcube.peek()"
      ]
    },
    {
      "source": [
        "This plots the final mapcube after implementing the running difference\n\n"
      ],
      "metadata": {},
      "cell_type": "markdown"
    },
    {
      "outputs": [],
      "metadata": {
        "collapsed": false
      },
      "cell_type": "code",
      "execution_count": null,
      "source": [
        "result_mapcube = sunpy.map.MapCube(running_diffmap)\nresult_mapcube.peek()\nplt.show()"
      ]
    }
  ],
  "nbformat": 4
}
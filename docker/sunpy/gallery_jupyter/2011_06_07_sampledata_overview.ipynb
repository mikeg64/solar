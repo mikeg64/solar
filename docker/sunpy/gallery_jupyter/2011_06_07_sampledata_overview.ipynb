{
  "nbformat_minor": 0,
  "metadata": {
    "language_info": {
      "codemirror_mode": {
        "name": "ipython",
        "version": 3
      },
      "name": "python",
      "nbconvert_exporter": "python",
      "version": "3.5.2",
      "pygments_lexer": "ipython3",
      "file_extension": ".py",
      "mimetype": "text/x-python"
    },
    "kernelspec": {
      "display_name": "Python 3",
      "name": "python3",
      "language": "python"
    }
  },
  "cells": [
    {
      "outputs": [],
      "metadata": {
        "collapsed": false
      },
      "cell_type": "code",
      "execution_count": null,
      "source": [
        "%matplotlib inline"
      ]
    },
    {
      "source": [
        "\n# Sample Data Set Overview\n\n\nAn overview of the coordinated sample data set for the SOL-2011-06-07 event.\n\n"
      ],
      "metadata": {},
      "cell_type": "markdown"
    },
    {
      "outputs": [],
      "metadata": {
        "collapsed": false
      },
      "cell_type": "code",
      "execution_count": null,
      "source": [
        "from __future__ import print_function, division\n\nimport matplotlib.pyplot as plt\n\nimport sunpy.map\nimport sunpy.timeseries\nimport sunpy.data.sample as sample_data"
      ]
    },
    {
      "source": [
        "On 2011 June 7, various solar instruments observed a spectacular solar\neruptive event coming from NOAA AR 11226. The event included an M2.5 flare, a\nfilament eruption, a CME, and a global coronal EUV wave (IAU standard:\nSOL2011-06-07T06:24:00L045C112). This event was spectacular because it\nfeatures the ejection of a large amount of prominence material, much of which\nfails to escape and falls back to the solar surface.\nThis example shows off our coordinated sample data set.\nThis event got a little bit of press coverage (e.g. `National Geographics\n<https://news.nationalgeographic.com/news/2011/06/110608-solar-flare-sun-science-space/>`_,\n`Discover Magazine <http://blogs.discovermagazine.com/badastronomy/2011/06/07/the-sun-lets-loose-a-huge-explosion/>`_)\nand the literature contains a number of a papers about it (e.g. `Li et al.\n<http://iopscience.iop.org/article/10.1088/0004-637X/746/1/13/meta>`_,\n`Inglis et al. <http://iopscience.iop.org/article/10.1088/0004-637X/777/1/30/meta>`_)\n\n"
      ],
      "metadata": {},
      "cell_type": "markdown"
    },
    {
      "source": [
        "The following image of the flare is now fairly iconic.\n\n"
      ],
      "metadata": {},
      "cell_type": "markdown"
    },
    {
      "outputs": [],
      "metadata": {
        "collapsed": false
      },
      "cell_type": "code",
      "execution_count": null,
      "source": [
        "aia_cutout03_map = sunpy.map.Map(sample_data.AIA_193_CUTOUT03_IMAGE)\nfig = plt.figure()\naia_cutout03_map.plot()\nplt.show()"
      ]
    },
    {
      "source": [
        "Let's take a look at the GOES XRS data.\n\n"
      ],
      "metadata": {},
      "cell_type": "markdown"
    },
    {
      "outputs": [],
      "metadata": {
        "collapsed": false
      },
      "cell_type": "code",
      "execution_count": null,
      "source": [
        "goes = sunpy.timeseries.TimeSeries(sample_data.GOES_XRS_TIMESERIES)\ngoes.peek()\nplt.show()"
      ]
    },
    {
      "source": [
        "Next let's investigate the AIA full disk images that are available. Please\nnote that these images are not at the full AIA resolution.\n\n"
      ],
      "metadata": {},
      "cell_type": "markdown"
    },
    {
      "outputs": [],
      "metadata": {
        "collapsed": false
      },
      "cell_type": "code",
      "execution_count": null,
      "source": [
        "aia_131_map = sunpy.map.Map(sample_data.AIA_131_IMAGE)\naia_171_map = sunpy.map.Map(sample_data.AIA_171_IMAGE)\naia_211_map = sunpy.map.Map(sample_data.AIA_211_IMAGE)\naia_335_map = sunpy.map.Map(sample_data.AIA_335_IMAGE)\naia_094_map = sunpy.map.Map(sample_data.AIA_094_IMAGE)\naia_1600_map = sunpy.map.Map(sample_data.AIA_1600_IMAGE)\n\nfig = plt.figure(figsize=(6, 28))\nax = fig.add_subplot(611, projection=aia_131_map)\naia_131_map.plot()\naia_131_map.draw_grid()\nax = fig.add_subplot(612, projection=aia_171_map)\naia_171_map.plot()\naia_171_map.draw_grid()\nax = fig.add_subplot(613, projection=aia_211_map)\naia_211_map.plot()\naia_211_map.draw_grid()\nax = fig.add_subplot(614, projection=aia_335_map)\naia_335_map.plot()\naia_335_map.draw_grid()\nax = fig.add_subplot(615, projection=aia_094_map)\naia_094_map.plot()\naia_094_map.draw_grid()\nax = fig.add_subplot(616, projection=aia_1600_map)\naia_1600_map.plot()\naia_1600_map.draw_grid()\nplt.tight_layout(pad=6.50)\nplt.show()"
      ]
    },
    {
      "source": [
        "We also provide a series of AIA cutouts so that you can get a sense of the\ndynamics of the in-falling material.\n\n"
      ],
      "metadata": {},
      "cell_type": "markdown"
    },
    {
      "outputs": [],
      "metadata": {
        "collapsed": false
      },
      "cell_type": "code",
      "execution_count": null,
      "source": [
        "aia_cutout01_map = sunpy.map.Map(sample_data.AIA_193_CUTOUT01_IMAGE)\naia_cutout02_map = sunpy.map.Map(sample_data.AIA_193_CUTOUT02_IMAGE)\naia_cutout03_map = sunpy.map.Map(sample_data.AIA_193_CUTOUT03_IMAGE)\naia_cutout04_map = sunpy.map.Map(sample_data.AIA_193_CUTOUT04_IMAGE)\naia_cutout05_map = sunpy.map.Map(sample_data.AIA_193_CUTOUT05_IMAGE)\n\nfig = plt.figure(figsize=(6, 28))\nax = fig.add_subplot(511, projection=aia_cutout01_map)\naia_cutout01_map.plot()\nax = fig.add_subplot(512, projection=aia_cutout02_map)\naia_cutout02_map.plot()\nax = fig.add_subplot(513, projection=aia_cutout03_map)\naia_cutout03_map.plot()\nax = fig.add_subplot(514, projection=aia_cutout04_map)\naia_cutout04_map.plot()\nax = fig.add_subplot(515, projection=aia_cutout05_map)\naia_cutout05_map.plot()\nplt.tight_layout(pad=5.50)\nplt.show()"
      ]
    },
    {
      "source": [
        "There are a number of other data sources, such as SWAP.\n\n"
      ],
      "metadata": {},
      "cell_type": "markdown"
    },
    {
      "outputs": [],
      "metadata": {
        "collapsed": false
      },
      "cell_type": "code",
      "execution_count": null,
      "source": [
        "swap_map = sunpy.map.Map(sample_data.SWAP_LEVEL1_IMAGE)\nfig = plt.figure()\nax = plt.subplot(projection=swap_map)\nswap_map.plot()\nplt.show()"
      ]
    },
    {
      "source": [
        "As well as RHESSI.\n\n"
      ],
      "metadata": {},
      "cell_type": "markdown"
    },
    {
      "outputs": [],
      "metadata": {
        "collapsed": false
      },
      "cell_type": "code",
      "execution_count": null,
      "source": [
        "rhessi_map = sunpy.map.Map(sample_data.RHESSI_IMAGE)\nfig = plt.figure()\n#ax = plt.subplot(projection=rhessi_map)\nax = plt.subplot()\nrhessi_map.plot()\nplt.show()"
      ]
    }
  ],
  "nbformat": 4
}
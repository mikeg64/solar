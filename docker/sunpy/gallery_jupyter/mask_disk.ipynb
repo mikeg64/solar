{
  "nbformat_minor": 0,
  "metadata": {
    "language_info": {
      "codemirror_mode": {
        "name": "ipython",
        "version": 3
      },
      "name": "python",
      "nbconvert_exporter": "python",
      "version": "3.5.2",
      "pygments_lexer": "ipython3",
      "file_extension": ".py",
      "mimetype": "text/x-python"
    },
    "kernelspec": {
      "display_name": "Python 3",
      "name": "python3",
      "language": "python"
    }
  },
  "cells": [
    {
      "outputs": [],
      "metadata": {
        "collapsed": false
      },
      "cell_type": "code",
      "execution_count": null,
      "source": [
        "%matplotlib inline"
      ]
    },
    {
      "source": [
        "\n# Masking the solar disk\n\n\nThis example shows how to mask off emission from the disk.\n\n"
      ],
      "metadata": {},
      "cell_type": "markdown"
    },
    {
      "outputs": [],
      "metadata": {
        "collapsed": false
      },
      "cell_type": "code",
      "execution_count": null,
      "source": [
        "from __future__ import print_function, division\n\nimport numpy as np\nimport numpy.ma as ma\nimport matplotlib.pyplot as plt\n\nimport astropy.units as u\n\nimport sunpy.map\nfrom sunpy.data.sample import AIA_171_IMAGE"
      ]
    },
    {
      "source": [
        "We first create the Map using the sample data.\n\n"
      ],
      "metadata": {},
      "cell_type": "markdown"
    },
    {
      "outputs": [],
      "metadata": {
        "collapsed": false
      },
      "cell_type": "code",
      "execution_count": null,
      "source": [
        "aia = sunpy.map.Map(AIA_171_IMAGE)"
      ]
    },
    {
      "source": [
        "Next we build two arrays which include all of the x and y pixel indices.\nWe must not forget to add the correct units because we will next pass\ninto a SunPy function which all require them.\n\n"
      ],
      "metadata": {},
      "cell_type": "markdown"
    },
    {
      "outputs": [],
      "metadata": {
        "collapsed": false
      },
      "cell_type": "code",
      "execution_count": null,
      "source": [
        "x, y = np.meshgrid(*[np.arange(v.value) for v in aia.dimensions]) * u.pixel"
      ]
    },
    {
      "source": [
        "Now we can convert this to helioprojective coordinates and create a new\narray which contains the normalized radial position for each pixel\n\n"
      ],
      "metadata": {},
      "cell_type": "markdown"
    },
    {
      "outputs": [],
      "metadata": {
        "collapsed": false
      },
      "cell_type": "code",
      "execution_count": null,
      "source": [
        "hpc_coords = aia.pixel_to_data(x, y)\nr = np.sqrt(hpc_coords.Tx ** 2 + hpc_coords.Ty ** 2) / aia.rsun_obs"
      ]
    },
    {
      "source": [
        "Finally, we create a mask where all values which are less then Rsun are\nmasked. We also make a slight change to the colormap so that masked values\nare shown as black instead of the default white.\n\n"
      ],
      "metadata": {},
      "cell_type": "markdown"
    },
    {
      "outputs": [],
      "metadata": {
        "collapsed": false
      },
      "cell_type": "code",
      "execution_count": null,
      "source": [
        "mask = ma.masked_less_equal(r, 1)\npalette = aia.plot_settings['cmap']\npalette.set_bad('black')"
      ]
    },
    {
      "source": [
        "Now we create a new custom aia with our new mask and\nplot the result using our modified colormap\n\n"
      ],
      "metadata": {},
      "cell_type": "markdown"
    },
    {
      "outputs": [],
      "metadata": {
        "collapsed": false
      },
      "cell_type": "code",
      "execution_count": null,
      "source": [
        "scaled_map = sunpy.map.Map(aia.data, aia.meta, mask=mask.mask)\n\nfig = plt.figure()\nplt.subplot(projection=scaled_map)\nscaled_map.plot(cmap=palette)\nscaled_map.draw_limb()\nplt.show()"
      ]
    }
  ],
  "nbformat": 4
}
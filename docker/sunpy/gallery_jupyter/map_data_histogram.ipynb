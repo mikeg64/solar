{
  "nbformat_minor": 0,
  "metadata": {
    "language_info": {
      "codemirror_mode": {
        "name": "ipython",
        "version": 3
      },
      "name": "python",
      "nbconvert_exporter": "python",
      "version": "3.5.2",
      "pygments_lexer": "ipython3",
      "file_extension": ".py",
      "mimetype": "text/x-python"
    },
    "kernelspec": {
      "display_name": "Python 3",
      "name": "python3",
      "language": "python"
    }
  },
  "cells": [
    {
      "outputs": [],
      "metadata": {
        "collapsed": false
      },
      "cell_type": "code",
      "execution_count": null,
      "source": [
        "%matplotlib inline"
      ]
    },
    {
      "source": [
        "\n# Map Histogram\n\n\nHow to inspect the histogram of the data of a map.\n\n"
      ],
      "metadata": {},
      "cell_type": "markdown"
    },
    {
      "outputs": [],
      "metadata": {
        "collapsed": false
      },
      "cell_type": "code",
      "execution_count": null,
      "source": [
        "from __future__ import print_function, division\n\nimport numpy as np\nimport matplotlib.pyplot as plt\n\nimport astropy.units as u\n\nimport sunpy.map\nfrom astropy.coordinates import SkyCoord\nfrom sunpy.data.sample import AIA_171_IMAGE"
      ]
    },
    {
      "source": [
        "We first create the Map using the sample data and we will create a submap\nof a quiet region.\n\n"
      ],
      "metadata": {},
      "cell_type": "markdown"
    },
    {
      "outputs": [],
      "metadata": {
        "collapsed": false
      },
      "cell_type": "code",
      "execution_count": null,
      "source": [
        "aia = sunpy.map.Map(AIA_171_IMAGE)\nbl = SkyCoord(-400 * u.arcsec, 0 * u.arcsec, frame=aia.coordinate_frame)\ntr = SkyCoord(0 * u.arcsec, 400 * u.arcsec, frame=aia.coordinate_frame)\naia_smap = aia.submap(bl, tr)"
      ]
    },
    {
      "source": [
        "We now create a histogram of the data in this region.\n\n"
      ],
      "metadata": {},
      "cell_type": "markdown"
    },
    {
      "outputs": [],
      "metadata": {
        "collapsed": false
      },
      "cell_type": "code",
      "execution_count": null,
      "source": [
        "dmin = aia_smap.min()\ndmax = aia_smap.max()\nnum_bins = 50\nhist, bins = np.histogram(aia_smap.data, bins=np.linspace(dmin, dmax, num_bins))\nwidth = 0.7 * (bins[1] - bins[0])\nx = (bins[:-1] + bins[1:]) / 2"
      ]
    },
    {
      "source": [
        "Let's plot the histogram as well as some standard values such as mean\nupper, and lower value and the one-sigma range.\n\n"
      ],
      "metadata": {},
      "cell_type": "markdown"
    },
    {
      "outputs": [],
      "metadata": {
        "collapsed": false
      },
      "cell_type": "code",
      "execution_count": null,
      "source": [
        "plt.figure()\nplt.bar(x, hist, align='center', width=width, label='Histogram')\nplt.xlabel('Intensity')\nplt.axvline(dmin, label='Data min={:.2f}'.format(dmin), color='black')\nplt.axvline(dmax, label='Data max={:.2f}'.format(dmax), color='black')\nplt.axvline(aia_smap.data.mean(),\n            label='mean={:.2f}'.format(aia_smap.data.mean()), color='green')\none_sigma = np.array([aia_smap.data.mean() - aia_smap.data.std(),\n                      aia_smap.data.mean() + aia_smap.data.std()])\nplt.axvspan(one_sigma[0], one_sigma[1], alpha=0.3, color='green',\n            label='mean +/- std = [{0:.2f}, {1:.2f}]'.format(\n            one_sigma[0], one_sigma[1]))\nplt.axvline(one_sigma[0], color='green')\nplt.axvline(one_sigma[1], color='red')\nplt.legend()\nplt.show()"
      ]
    },
    {
      "source": [
        "Finally let's overplot what the one-sigma range means on the map\n\n"
      ],
      "metadata": {},
      "cell_type": "markdown"
    },
    {
      "outputs": [],
      "metadata": {
        "collapsed": false
      },
      "cell_type": "code",
      "execution_count": null,
      "source": [
        "fig = plt.figure()\nfig.add_subplot(projection=aia_smap)\naia_smap.plot()\nlevels = one_sigma / dmax * u.percent * 100\naia_smap.draw_contours(levels=levels, colors=['red', 'green'])\nplt.show()"
      ]
    }
  ],
  "nbformat": 4
}
{
  "nbformat_minor": 0,
  "metadata": {
    "language_info": {
      "codemirror_mode": {
        "name": "ipython",
        "version": 3
      },
      "name": "python",
      "nbconvert_exporter": "python",
      "version": "3.5.2",
      "pygments_lexer": "ipython3",
      "file_extension": ".py",
      "mimetype": "text/x-python"
    },
    "kernelspec": {
      "display_name": "Python 3",
      "name": "python3",
      "language": "python"
    }
  },
  "cells": [
    {
      "outputs": [],
      "metadata": {
        "collapsed": false
      },
      "cell_type": "code",
      "execution_count": null,
      "source": [
        "%matplotlib inline"
      ]
    },
    {
      "source": [
        "\n# Editing Map Colormaps and Normalization\n\n\nA simple example to show how to edit the display of a map\n\n"
      ],
      "metadata": {},
      "cell_type": "markdown"
    },
    {
      "outputs": [],
      "metadata": {
        "collapsed": false
      },
      "cell_type": "code",
      "execution_count": null,
      "source": [
        "from __future__ import print_function, division\n\nimport matplotlib.cm as cm\nimport matplotlib.pyplot as plt\nimport matplotlib.colors as colors\n\nimport sunpy.map\nfrom sunpy.data.sample import AIA_171_IMAGE"
      ]
    },
    {
      "source": [
        "We first create the Map using the sample data.\n\n"
      ],
      "metadata": {},
      "cell_type": "markdown"
    },
    {
      "outputs": [],
      "metadata": {
        "collapsed": false
      },
      "cell_type": "code",
      "execution_count": null,
      "source": [
        "aiamap = sunpy.map.Map(AIA_171_IMAGE)"
      ]
    },
    {
      "source": [
        "Now lets replace the colormap which sets the colors as well as the\nnormalization which sets how data values are translated to colors\n\n"
      ],
      "metadata": {},
      "cell_type": "markdown"
    },
    {
      "outputs": [],
      "metadata": {
        "collapsed": false
      },
      "cell_type": "code",
      "execution_count": null,
      "source": [
        "aiamap.plot_settings['cmap'] = plt.get_cmap('Greys_r')\naiamap.plot_settings['norm'] = colors.LogNorm(100, aiamap.max())"
      ]
    },
    {
      "source": [
        "You can find more colormaps in matplotlib\n(https://matplotlib.org/examples/color/colormaps_reference.html) or look at\nthe sunpy colormaps in `sunpy.cm` For more normalizations check out\n`matplotlib.colors.Normalize` or astropy provides additional norms in\n`astropy.visualization`\n\n"
      ],
      "metadata": {},
      "cell_type": "markdown"
    },
    {
      "outputs": [],
      "metadata": {
        "collapsed": false
      },
      "cell_type": "code",
      "execution_count": null,
      "source": [
        "aiamap.plot()\nplt.colorbar()\nplt.show()"
      ]
    }
  ],
  "nbformat": 4
}
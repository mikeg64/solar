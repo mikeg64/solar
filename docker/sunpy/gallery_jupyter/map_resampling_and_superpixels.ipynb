{
  "nbformat_minor": 0,
  "metadata": {
    "language_info": {
      "codemirror_mode": {
        "name": "ipython",
        "version": 3
      },
      "name": "python",
      "nbconvert_exporter": "python",
      "version": "3.5.2",
      "pygments_lexer": "ipython3",
      "file_extension": ".py",
      "mimetype": "text/x-python"
    },
    "kernelspec": {
      "display_name": "Python 3",
      "name": "python3",
      "language": "python"
    }
  },
  "cells": [
    {
      "outputs": [],
      "metadata": {
        "collapsed": false
      },
      "cell_type": "code",
      "execution_count": null,
      "source": [
        "%matplotlib inline"
      ]
    },
    {
      "source": [
        "\n# Map Resampling and Superpixels\n\n\nIn this example you will see how to resample a map using the resample method\n(which implements interpolation) and superpixels.\n\n"
      ],
      "metadata": {},
      "cell_type": "markdown"
    },
    {
      "source": [
        "Start by importing the necessary modules.\n\n"
      ],
      "metadata": {},
      "cell_type": "markdown"
    },
    {
      "outputs": [],
      "metadata": {
        "collapsed": false
      },
      "cell_type": "code",
      "execution_count": null,
      "source": [
        "from __future__ import print_function, division\n\nimport astropy.units as u\n\nimport matplotlib.pyplot as plt\n\nimport sunpy.map\nimport sunpy.data.sample"
      ]
    },
    {
      "source": [
        "Sunpy sample data contains a number of suitable maps, where the sunpy.data.sample.NAME\nreturns the location of the given FITS file.\n\n"
      ],
      "metadata": {},
      "cell_type": "markdown"
    },
    {
      "outputs": [],
      "metadata": {
        "collapsed": false
      },
      "cell_type": "code",
      "execution_count": null,
      "source": [
        "aia_map = sunpy.map.Map(sunpy.data.sample.AIA_171_IMAGE)"
      ]
    },
    {
      "source": [
        "This has a resolution of:\n\n"
      ],
      "metadata": {},
      "cell_type": "markdown"
    },
    {
      "outputs": [],
      "metadata": {
        "collapsed": false
      },
      "cell_type": "code",
      "execution_count": null,
      "source": [
        "print(aia_map.dimensions)"
      ]
    },
    {
      "source": [
        "To find out more specifics about this map and the instrument used, check it's\nmetatdata:\n\n"
      ],
      "metadata": {},
      "cell_type": "markdown"
    },
    {
      "outputs": [],
      "metadata": {
        "collapsed": false
      },
      "cell_type": "code",
      "execution_count": null,
      "source": [
        "print(aia_map.meta)"
      ]
    },
    {
      "source": [
        "To reduce the angular resolution of the map you can use the `~sunpy.map.GenericMap.resample` method,\nspecifying the dimensions as an Astropy Quantity in pixels:\n\n"
      ],
      "metadata": {},
      "cell_type": "markdown"
    },
    {
      "outputs": [],
      "metadata": {
        "collapsed": false
      },
      "cell_type": "code",
      "execution_count": null,
      "source": [
        "dimensions = u.Quantity([40, 40], u.pixel)\naia_resampled_map = aia_map.resample(dimensions)\naia_resampled_map.peek(draw_limb=True, draw_grid=True)\n# Note that this uses linear interpolation, you can change this using the method\n# (\u2018neighbor\u2019, \u2018nearest\u2019, \u2018linear\u2019 or \u2018spline\u2019) keyword argument option."
      ]
    },
    {
      "source": [
        "Similar to resampling you can use the `~sunpy.map.GenericMap.superpixel` method, this will reduce the\nresolution of the image by combining the number of pixels (in each dimension)\nin the dimensions argument into one single pixel.\nThis can be used to increase the signal to noise ratio.\nFor this the new dimensions must divide original image size exactly, for\nexample you can reduce the AIA map resolution by a factor of 16 using:\n\n"
      ],
      "metadata": {},
      "cell_type": "markdown"
    },
    {
      "outputs": [],
      "metadata": {
        "collapsed": false
      },
      "cell_type": "code",
      "execution_count": null,
      "source": [
        "dimensions = u.Quantity(aia_map.dimensions) / 16\naia_superpixel_map = aia_map.superpixel(dimensions)\naia_superpixel_map.peek(draw_limb=True, draw_grid=True)\nplt.show()"
      ]
    }
  ],
  "nbformat": 4
}
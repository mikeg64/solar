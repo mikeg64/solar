{
  "nbformat_minor": 0,
  "metadata": {
    "language_info": {
      "codemirror_mode": {
        "name": "ipython",
        "version": 3
      },
      "name": "python",
      "nbconvert_exporter": "python",
      "version": "3.5.2",
      "pygments_lexer": "ipython3",
      "file_extension": ".py",
      "mimetype": "text/x-python"
    },
    "kernelspec": {
      "display_name": "Python 3",
      "name": "python3",
      "language": "python"
    }
  },
  "cells": [
    {
      "outputs": [],
      "metadata": {
        "collapsed": false
      },
      "cell_type": "code",
      "execution_count": null,
      "source": [
        "%matplotlib inline"
      ]
    },
    {
      "source": [
        "\n# Map Rotation\n\n\nIn this example we rotate a map.\n\n"
      ],
      "metadata": {},
      "cell_type": "markdown"
    },
    {
      "source": [
        "Start by importing the necessary modules.\n\n"
      ],
      "metadata": {},
      "cell_type": "markdown"
    },
    {
      "outputs": [],
      "metadata": {
        "collapsed": false
      },
      "cell_type": "code",
      "execution_count": null,
      "source": [
        "from __future__ import print_function, division\n\nimport astropy.units as u\n\nimport matplotlib.pyplot as plt\n\nimport sunpy.map\nimport sunpy.data.sample"
      ]
    },
    {
      "source": [
        "Sunpy sample data contains a number of suitable maps, where the sunpy.data.sample.NAME\nreturns the location of the given FITS file.\n\n"
      ],
      "metadata": {},
      "cell_type": "markdown"
    },
    {
      "outputs": [],
      "metadata": {
        "collapsed": false
      },
      "cell_type": "code",
      "execution_count": null,
      "source": [
        "aia_map = sunpy.map.Map(sunpy.data.sample.AIA_171_IMAGE)"
      ]
    },
    {
      "source": [
        "This has a resolution of:\n\n"
      ],
      "metadata": {},
      "cell_type": "markdown"
    },
    {
      "outputs": [],
      "metadata": {
        "collapsed": false
      },
      "cell_type": "code",
      "execution_count": null,
      "source": [
        "print(aia_map.dimensions)"
      ]
    },
    {
      "source": [
        "To find out more specifics about this map and the instrument used, check it's\nmetatdata:\n\n"
      ],
      "metadata": {},
      "cell_type": "markdown"
    },
    {
      "outputs": [],
      "metadata": {
        "collapsed": false
      },
      "cell_type": "code",
      "execution_count": null,
      "source": [
        "print(aia_map.meta)"
      ]
    },
    {
      "source": [
        "Maps can also be rotated by using the `~sunpy.map.GenericMap.rotate` method\nwith a specified angle, supplied as an Astropy Quantity with angular units:\n\n"
      ],
      "metadata": {},
      "cell_type": "markdown"
    },
    {
      "outputs": [],
      "metadata": {
        "collapsed": false
      },
      "cell_type": "code",
      "execution_count": null,
      "source": [
        "aia_rotated = aia_map.rotate(angle = 30 * u.deg)\naia_rotated.peek(draw_limb=True, draw_grid=True)\n# Or using Radians\naia_rotated = aia_map.rotate(angle = 0.5 * u.rad)\n# Note: the data array is expanded so that none of the original data is lost\n# through clipping.\n# Also note that subsequent rotations are not compunded, the map is only rotated\n# by the specified amount from the original maps orientation.\nplt.show()"
      ]
    }
  ],
  "nbformat": 4
}
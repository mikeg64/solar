{
  "nbformat_minor": 0,
  "metadata": {
    "language_info": {
      "codemirror_mode": {
        "name": "ipython",
        "version": 3
      },
      "name": "python",
      "nbconvert_exporter": "python",
      "version": "3.5.2",
      "pygments_lexer": "ipython3",
      "file_extension": ".py",
      "mimetype": "text/x-python"
    },
    "kernelspec": {
      "display_name": "Python 3",
      "name": "python3",
      "language": "python"
    }
  },
  "cells": [
    {
      "outputs": [],
      "metadata": {
        "collapsed": false
      },
      "cell_type": "code",
      "execution_count": null,
      "source": [
        "%matplotlib inline"
      ]
    },
    {
      "source": [
        "\n# Generating a Map From Data\n\n\nA simple demonstration of creating a map from a numpy array of data.\n\n"
      ],
      "metadata": {},
      "cell_type": "markdown"
    },
    {
      "source": [
        "Start by importing the necessary modules.\n\n"
      ],
      "metadata": {},
      "cell_type": "markdown"
    },
    {
      "outputs": [],
      "metadata": {
        "collapsed": false
      },
      "cell_type": "code",
      "execution_count": null,
      "source": [
        "from __future__ import print_function, division\n\nimport numpy as np\nimport matplotlib.pyplot as plt\n\nimport sunpy.map\nimport sunpy.data.sample"
      ]
    },
    {
      "source": [
        "SunPy Maps store 2D data in a numpy array and additional data in a metadata\ndictionary giving information relating to the data and instrument.\n\n"
      ],
      "metadata": {},
      "cell_type": "markdown"
    },
    {
      "outputs": [],
      "metadata": {
        "collapsed": false
      },
      "cell_type": "code",
      "execution_count": null,
      "source": [
        "data = np.random.rand(20,15)\nheader = {}\nmanual_map = sunpy.map.Map((data, header))"
      ]
    },
    {
      "source": [
        "In general the attributes are populated using details in the metadata and in\nthis case there is no centre pixel or pixel size information given so SunPy\nis defaulting to assuming each pixel is 1 arcsec.\n\n"
      ],
      "metadata": {},
      "cell_type": "markdown"
    },
    {
      "outputs": [],
      "metadata": {
        "collapsed": false
      },
      "cell_type": "code",
      "execution_count": null,
      "source": [
        "print(manual_map.xrange)\nprint(manual_map.yrange)\n# This is in Helioprojective tangent projection in both longitude and latitude:\nprint(manual_map.coordinate_system)"
      ]
    },
    {
      "source": [
        "You can quickly plot a map using the peek method:\n\n"
      ],
      "metadata": {},
      "cell_type": "markdown"
    },
    {
      "outputs": [],
      "metadata": {
        "collapsed": false
      },
      "cell_type": "code",
      "execution_count": null,
      "source": [
        "manual_map.peek()\nplt.show()"
      ]
    }
  ],
  "nbformat": 4
}
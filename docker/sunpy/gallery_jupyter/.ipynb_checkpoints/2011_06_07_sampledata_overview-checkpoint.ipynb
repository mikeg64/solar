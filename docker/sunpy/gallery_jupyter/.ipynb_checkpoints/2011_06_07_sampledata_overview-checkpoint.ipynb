{
 "cells": [
  {
   "cell_type": "code",
   "execution_count": null,
   "metadata": {},
   "outputs": [],
   "source": [
    "%matplotlib inline"
   ]
  },
  {
   "cell_type": "markdown",
   "metadata": {},
   "source": [
    "\n",
    "# Sample Data Set Overview\n",
    "\n",
    "\n",
    "An overview of the coordinated sample data set for the SOL-2011-06-07 event.\n",
    "\n"
   ]
  },
  {
   "cell_type": "code",
   "execution_count": null,
   "metadata": {},
   "outputs": [],
   "source": [
    "from __future__ import print_function, division\n",
    "\n",
    "import matplotlib.pyplot as plt\n",
    "\n",
    "import sunpy.map\n",
    "import sunpy.timeseries\n",
    "import sunpy.data.sample as sample_data"
   ]
  },
  {
   "cell_type": "markdown",
   "metadata": {},
   "source": [
    "On 2011 June 7, various solar instruments observed a spectacular solar\n",
    "eruptive event coming from NOAA AR 11226. The event included an M2.5 flare, a\n",
    "filament eruption, a CME, and a global coronal EUV wave (IAU standard:\n",
    "SOL2011-06-07T06:24:00L045C112). This event was spectacular because it\n",
    "features the ejection of a large amount of prominence material, much of which\n",
    "fails to escape and falls back to the solar surface.\n",
    "This example shows off our coordinated sample data set.\n",
    "This event got a little bit of press coverage (e.g. `National Geographics\n",
    "<https://news.nationalgeographic.com/news/2011/06/110608-solar-flare-sun-science-space/>`_,\n",
    "`Discover Magazine <http://blogs.discovermagazine.com/badastronomy/2011/06/07/the-sun-lets-loose-a-huge-explosion/>`_)\n",
    "and the literature contains a number of a papers about it (e.g. `Li et al.\n",
    "<http://iopscience.iop.org/article/10.1088/0004-637X/746/1/13/meta>`_,\n",
    "`Inglis et al. <http://iopscience.iop.org/article/10.1088/0004-637X/777/1/30/meta>`_)\n",
    "\n"
   ]
  },
  {
   "cell_type": "markdown",
   "metadata": {},
   "source": [
    "The following image of the flare is now fairly iconic.\n",
    "\n"
   ]
  },
  {
   "cell_type": "code",
   "execution_count": null,
   "metadata": {},
   "outputs": [],
   "source": [
    "aia_cutout03_map = sunpy.map.Map(sample_data.AIA_193_CUTOUT03_IMAGE)\n",
    "fig = plt.figure()\n",
    "aia_cutout03_map.plot()\n",
    "plt.show()"
   ]
  },
  {
   "cell_type": "markdown",
   "metadata": {},
   "source": [
    "Let's take a look at the GOES XRS data.\n",
    "\n"
   ]
  },
  {
   "cell_type": "code",
   "execution_count": null,
   "metadata": {},
   "outputs": [],
   "source": [
    "goes = sunpy.timeseries.TimeSeries(sample_data.GOES_XRS_TIMESERIES)\n",
    "goes.peek()\n",
    "plt.show()"
   ]
  },
  {
   "cell_type": "markdown",
   "metadata": {},
   "source": [
    "Next let's investigate the AIA full disk images that are available. Please\n",
    "note that these images are not at the full AIA resolution.\n",
    "\n"
   ]
  },
  {
   "cell_type": "code",
   "execution_count": null,
   "metadata": {},
   "outputs": [],
   "source": [
    "aia_131_map = sunpy.map.Map(sample_data.AIA_131_IMAGE)\n",
    "aia_171_map = sunpy.map.Map(sample_data.AIA_171_IMAGE)\n",
    "aia_211_map = sunpy.map.Map(sample_data.AIA_211_IMAGE)\n",
    "aia_335_map = sunpy.map.Map(sample_data.AIA_335_IMAGE)\n",
    "aia_094_map = sunpy.map.Map(sample_data.AIA_094_IMAGE)\n",
    "aia_1600_map = sunpy.map.Map(sample_data.AIA_1600_IMAGE)\n",
    "\n",
    "fig = plt.figure(figsize=(6, 28))\n",
    "ax = fig.add_subplot(611, projection=aia_131_map)\n",
    "aia_131_map.plot()\n",
    "aia_131_map.draw_grid()\n",
    "ax = fig.add_subplot(612, projection=aia_171_map)\n",
    "aia_171_map.plot()\n",
    "aia_171_map.draw_grid()\n",
    "ax = fig.add_subplot(613, projection=aia_211_map)\n",
    "aia_211_map.plot()\n",
    "aia_211_map.draw_grid()\n",
    "ax = fig.add_subplot(614, projection=aia_335_map)\n",
    "aia_335_map.plot()\n",
    "aia_335_map.draw_grid()\n",
    "ax = fig.add_subplot(615, projection=aia_094_map)\n",
    "aia_094_map.plot()\n",
    "aia_094_map.draw_grid()\n",
    "ax = fig.add_subplot(616, projection=aia_1600_map)\n",
    "aia_1600_map.plot()\n",
    "aia_1600_map.draw_grid()\n",
    "plt.tight_layout(pad=6.50)\n",
    "plt.show()"
   ]
  },
  {
   "cell_type": "markdown",
   "metadata": {},
   "source": [
    "We also provide a series of AIA cutouts so that you can get a sense of the\n",
    "dynamics of the in-falling material.\n",
    "\n"
   ]
  },
  {
   "cell_type": "code",
   "execution_count": null,
   "metadata": {},
   "outputs": [],
   "source": [
    "aia_cutout01_map = sunpy.map.Map(sample_data.AIA_193_CUTOUT01_IMAGE)\n",
    "aia_cutout02_map = sunpy.map.Map(sample_data.AIA_193_CUTOUT02_IMAGE)\n",
    "aia_cutout03_map = sunpy.map.Map(sample_data.AIA_193_CUTOUT03_IMAGE)\n",
    "aia_cutout04_map = sunpy.map.Map(sample_data.AIA_193_CUTOUT04_IMAGE)\n",
    "aia_cutout05_map = sunpy.map.Map(sample_data.AIA_193_CUTOUT05_IMAGE)\n",
    "\n",
    "fig = plt.figure(figsize=(6, 28))\n",
    "ax = fig.add_subplot(511, projection=aia_cutout01_map)\n",
    "aia_cutout01_map.plot()\n",
    "ax = fig.add_subplot(512, projection=aia_cutout02_map)\n",
    "aia_cutout02_map.plot()\n",
    "ax = fig.add_subplot(513, projection=aia_cutout03_map)\n",
    "aia_cutout03_map.plot()\n",
    "ax = fig.add_subplot(514, projection=aia_cutout04_map)\n",
    "aia_cutout04_map.plot()\n",
    "ax = fig.add_subplot(515, projection=aia_cutout05_map)\n",
    "aia_cutout05_map.plot()\n",
    "plt.tight_layout(pad=5.50)\n",
    "plt.show()"
   ]
  },
  {
   "cell_type": "markdown",
   "metadata": {},
   "source": [
    "There are a number of other data sources, such as SWAP.\n",
    "\n"
   ]
  },
  {
   "cell_type": "code",
   "execution_count": null,
   "metadata": {},
   "outputs": [],
   "source": [
    "swap_map = sunpy.map.Map(sample_data.SWAP_LEVEL1_IMAGE)\n",
    "fig = plt.figure()\n",
    "ax = plt.subplot(projection=swap_map)\n",
    "swap_map.plot()\n",
    "plt.show()"
   ]
  },
  {
   "cell_type": "markdown",
   "metadata": {},
   "source": [
    "As well as RHESSI.\n",
    "\n"
   ]
  },
  {
   "cell_type": "code",
   "execution_count": null,
   "metadata": {},
   "outputs": [],
   "source": [
    "rhessi_map = sunpy.map.Map(sample_data.RHESSI_IMAGE)\n",
    "fig = plt.figure()\n",
    "#ax = plt.subplot(projection=rhessi_map)\n",
    "ax = plt.subplot()\n",
    "rhessi_map.plot()\n",
    "plt.show()"
   ]
  }
 ],
 "metadata": {
  "kernelspec": {
   "display_name": "Python [conda env:Anaconda3]",
   "language": "python",
   "name": "conda-env-Anaconda3-py"
  },
  "language_info": {
   "codemirror_mode": {
    "name": "ipython",
    "version": 3
   },
   "file_extension": ".py",
   "mimetype": "text/x-python",
   "name": "python",
   "nbconvert_exporter": "python",
   "pygments_lexer": "ipython3",
   "version": "3.6.4"
  }
 },
 "nbformat": 4,
 "nbformat_minor": 1
}

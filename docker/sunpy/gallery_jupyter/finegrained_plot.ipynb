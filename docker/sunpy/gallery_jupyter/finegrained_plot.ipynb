{
  "nbformat_minor": 0,
  "metadata": {
    "language_info": {
      "codemirror_mode": {
        "name": "ipython",
        "version": 3
      },
      "name": "python",
      "nbconvert_exporter": "python",
      "version": "3.5.2",
      "pygments_lexer": "ipython3",
      "file_extension": ".py",
      "mimetype": "text/x-python"
    },
    "kernelspec": {
      "display_name": "Python 3",
      "name": "python3",
      "language": "python"
    }
  },
  "cells": [
    {
      "outputs": [],
      "metadata": {
        "collapsed": false
      },
      "cell_type": "code",
      "execution_count": null,
      "source": [
        "%matplotlib inline"
      ]
    },
    {
      "source": [
        "\n# Fine grained Plotting Features\n\n\nAn example to show control over various plotting features.\n\n"
      ],
      "metadata": {},
      "cell_type": "markdown"
    },
    {
      "source": [
        "Import the necessary modules for plotting.\n\n"
      ],
      "metadata": {},
      "cell_type": "markdown"
    },
    {
      "outputs": [],
      "metadata": {
        "collapsed": false
      },
      "cell_type": "code",
      "execution_count": null,
      "source": [
        "import astropy.units as u\nfrom astropy.coordinates import SkyCoord\nimport matplotlib.pyplot as plt\nfrom matplotlib.colors import LogNorm\n\nimport sunpy.map\nfrom sunpy.data.sample import AIA_171_IMAGE"
      ]
    },
    {
      "source": [
        "SkyCoord module provides flexible celestial coordinate representation and a\ndraw_limb method draws an edge as seen against the dark sky background. Date of the\nimage taken can also be displayed in the plot.\n\n"
      ],
      "metadata": {},
      "cell_type": "markdown"
    },
    {
      "outputs": [],
      "metadata": {
        "collapsed": false
      },
      "cell_type": "code",
      "execution_count": null,
      "source": [
        "aiamap = sunpy.map.Map(AIA_171_IMAGE)\n\nbottom_left = SkyCoord(-400*u.arcsec, -900*u.arcsec, frame=aiamap.coordinate_frame)\ntop_right = SkyCoord(800*u.arcsec, 700*u.arcsec, frame=aiamap.coordinate_frame)\naiamap_sub = aiamap.submap(bottom_left, top_right)\n\ntitle_obsdate = '{:%Y-%b-%d %H:%M:%S}'.format(aiamap_sub.date)"
      ]
    },
    {
      "source": [
        "The SunPy map peek method shows a helioprojective  grid by default.\nThis is sometimes not desired, and instead a heliographic Stonyhurst grid might\nbe required. Although maps offer a simple way to include a Stonyhurst grid, often\ntimes we want more control over the Stonyhurst type. The example below illustrates\nsome aspects of how a map plot can be altered as desired. For more information\nregarding the axis and grid settings, go to `Ticks, tick labels and grid lines\n<http://docs.astropy.org/en/stable/visualization/wcsaxes/ticks_labels_grid.html>`_ in astropy.\n\n"
      ],
      "metadata": {},
      "cell_type": "markdown"
    },
    {
      "outputs": [],
      "metadata": {
        "collapsed": false
      },
      "cell_type": "code",
      "execution_count": null,
      "source": [
        "fig = plt.figure(figsize=(6, 6))\nax = plt.subplot(projection=aiamap_sub)\naiamap_sub.plot()\naiamap_sub.draw_limb(color='white', linewidth=2, linestyle='dashed')\n\n# To have more control over the Heliographic Stonyhurst grid,\n# the axes object properties can be changed directly\n\noverlay = ax.get_coords_overlay('heliographic_stonyhurst')\nlon = overlay[0]\nlat = overlay[1]\n\nlon.set_ticks_visible(False)\nlat.set_ticks_visible(False)\nlat.set_ticklabel_visible(False)\nlon.set_ticklabel_visible(False)\n\nlon.coord_wrap = 180\nlon.set_major_formatter('dd')\n\n# Plot the Heliographic Stonyhurst grid\noverlay.grid(color='blue', linewidth=2, linestyle='dashed')\n# Switch off the helioprojective grid\nax.grid(False)\n\n# Change how the helioprojective grid tick labels are formatted\ntx, ty = ax.coords\n# Use integer coordinates for either axis.\ntx.set_major_formatter('s')\nty.set_major_formatter('s')\nax.set_title('AIA 171 $\\AA$ {}'.format(title_obsdate))\nax.set_ylabel('Helioprojective Latitude [arcsec]')\nax.set_xlabel('Helioprojective Longitude [arcsec]')\nplt.colorbar(fraction=0.045, pad=0.03, label='DN', ax=ax)\nplt.show()"
      ]
    }
  ],
  "nbformat": 4
}
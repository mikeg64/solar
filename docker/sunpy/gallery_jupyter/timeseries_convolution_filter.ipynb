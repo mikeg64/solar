{
  "nbformat_minor": 0,
  "metadata": {
    "language_info": {
      "codemirror_mode": {
        "name": "ipython",
        "version": 3
      },
      "name": "python",
      "nbconvert_exporter": "python",
      "version": "3.5.2",
      "pygments_lexer": "ipython3",
      "file_extension": ".py",
      "mimetype": "text/x-python"
    },
    "kernelspec": {
      "display_name": "Python 3",
      "name": "python3",
      "language": "python"
    }
  },
  "cells": [
    {
      "outputs": [],
      "metadata": {
        "collapsed": false
      },
      "cell_type": "code",
      "execution_count": null,
      "source": [
        "%matplotlib inline"
      ]
    },
    {
      "source": [
        "\n# Smoothing of TimeSeries Data Using Convolution Filters\n\n\nThis example illustrates smoothing a TimeSeries using a convolution filter\nkernel from `~astropy.convolution` and `~astropy.convolution.convolve`\nfunction.\n\n"
      ],
      "metadata": {},
      "cell_type": "markdown"
    },
    {
      "source": [
        "Start by importing the necessary modules.\n\n"
      ],
      "metadata": {},
      "cell_type": "markdown"
    },
    {
      "outputs": [],
      "metadata": {
        "collapsed": false
      },
      "cell_type": "code",
      "execution_count": null,
      "source": [
        "import matplotlib.pyplot as plt\nfrom astropy.convolution import convolve, Box1DKernel\n\nfrom sunpy.timeseries import TimeSeries\nfrom sunpy.data.sample import NOAAINDICES_TIMESERIES as noaa_ind"
      ]
    },
    {
      "source": [
        "Let's first create a TimeSeries from sample data\n\n"
      ],
      "metadata": {},
      "cell_type": "markdown"
    },
    {
      "outputs": [],
      "metadata": {
        "collapsed": false
      },
      "cell_type": "code",
      "execution_count": null,
      "source": [
        "ts_noaa_ind = TimeSeries(noaa_ind, source='NOAAIndices')"
      ]
    },
    {
      "source": [
        "Now we will extract data values from the TimeSeries and apply a BoxCar filter\nto get smooth data. Boxcar smoothing is equivalent to taking our signal and\nusing it to make a new signal where each element is the average of w adjacent\nelements. Here we will use AstroPy\u2019s convolve function with a \u201cboxcar\u201d kernel\nof width w = 10.\n\n"
      ],
      "metadata": {},
      "cell_type": "markdown"
    },
    {
      "outputs": [],
      "metadata": {
        "collapsed": false
      },
      "cell_type": "code",
      "execution_count": null,
      "source": [
        "# Apply convolution filter\nts_noaa_ind.data['sunspot SWO Smoothed'] = convolve(\n    ts_noaa_ind.data['sunspot SWO'].values, kernel=Box1DKernel(10))\n# Plotting original and smoothed timeseries\nplt.ylabel('Sunspot Number')\nplt.xlabel('Time')\nplt.title('Smoothing of Time Series')\nplt.plot(ts_noaa_ind.data['sunspot SWO'])\nplt.plot(ts_noaa_ind.data['sunspot SWO Smoothed'])\nplt.legend()\nplt.show()"
      ]
    }
  ],
  "nbformat": 4
}
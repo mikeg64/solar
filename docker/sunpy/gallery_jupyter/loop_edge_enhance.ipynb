{
  "nbformat_minor": 0,
  "metadata": {
    "language_info": {
      "codemirror_mode": {
        "name": "ipython",
        "version": 3
      },
      "name": "python",
      "nbconvert_exporter": "python",
      "version": "3.5.2",
      "pygments_lexer": "ipython3",
      "file_extension": ".py",
      "mimetype": "text/x-python"
    },
    "kernelspec": {
      "display_name": "Python 3",
      "name": "python3",
      "language": "python"
    }
  },
  "cells": [
    {
      "outputs": [],
      "metadata": {
        "collapsed": false
      },
      "cell_type": "code",
      "execution_count": null,
      "source": [
        "%matplotlib inline"
      ]
    },
    {
      "source": [
        "\n# Edge Enhancing Filtering a Map\n\n\nThis example shows how to edge enhance coronal loops in an SDO/AIA image.\n\n"
      ],
      "metadata": {},
      "cell_type": "markdown"
    },
    {
      "outputs": [],
      "metadata": {
        "collapsed": false
      },
      "cell_type": "code",
      "execution_count": null,
      "source": [
        "from __future__ import print_function, division\n\nimport numpy as np\nfrom scipy import ndimage\nimport matplotlib.pyplot as plt\n\nimport astropy.units as u\nfrom astropy.coordinates import SkyCoord\n\nimport sunpy.map\nfrom sunpy.data.sample import AIA_171_IMAGE"
      ]
    },
    {
      "source": [
        "We first create the Map using the sample data and make a submap of a region\nwith some interesting loop features.\n\n"
      ],
      "metadata": {},
      "cell_type": "markdown"
    },
    {
      "outputs": [],
      "metadata": {
        "collapsed": false
      },
      "cell_type": "code",
      "execution_count": null,
      "source": [
        "aia = sunpy.map.Map(AIA_171_IMAGE)\nbl = SkyCoord(750 * u.arcsec, -200 * u.arcsec, frame=aia.coordinate_frame)\ntr = SkyCoord(1500 * u.arcsec, 550 * u.arcsec, frame=aia.coordinate_frame)\naia_smap = aia.submap(bl, tr)"
      ]
    },
    {
      "source": [
        "Next we apply an edge enhance filter to the data in both x and y directions\nand combine the two images together.\n\n"
      ],
      "metadata": {},
      "cell_type": "markdown"
    },
    {
      "outputs": [],
      "metadata": {
        "collapsed": false
      },
      "cell_type": "code",
      "execution_count": null,
      "source": [
        "sx = ndimage.sobel(aia_smap.data, axis=0, mode='constant')\nsy = ndimage.sobel(aia_smap.data, axis=1, mode='constant')\nedge_enhanced_im = np.hypot(sx, sy)"
      ]
    },
    {
      "source": [
        "Finally we create a new map with the edge enhanced data and plot the result.\n\n"
      ],
      "metadata": {},
      "cell_type": "markdown"
    },
    {
      "outputs": [],
      "metadata": {
        "collapsed": false
      },
      "cell_type": "code",
      "execution_count": null,
      "source": [
        "edge_map = sunpy.map.Map(edge_enhanced_im, aia_smap.meta)\n\nfig = plt.figure(figsize=(12, 6))\nax = fig.add_subplot(121, projection=aia_smap)\naia_smap.plot()\nax = fig.add_subplot(122, projection=aia_smap)\nedge_map.plot()\nplt.show()"
      ]
    }
  ],
  "nbformat": 4
}
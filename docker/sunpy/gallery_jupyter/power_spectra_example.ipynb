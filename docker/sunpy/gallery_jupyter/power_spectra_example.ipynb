{
  "nbformat_minor": 0,
  "metadata": {
    "language_info": {
      "codemirror_mode": {
        "name": "ipython",
        "version": 3
      },
      "name": "python",
      "nbconvert_exporter": "python",
      "version": "3.5.2",
      "pygments_lexer": "ipython3",
      "file_extension": ".py",
      "mimetype": "text/x-python"
    },
    "kernelspec": {
      "display_name": "Python 3",
      "name": "python3",
      "language": "python"
    }
  },
  "cells": [
    {
      "outputs": [],
      "metadata": {
        "collapsed": false
      },
      "cell_type": "code",
      "execution_count": null,
      "source": [
        "%matplotlib inline"
      ]
    },
    {
      "source": [
        "\n# Power Spectrum of a TimeSeries\n\n\nAn example showing how to estimate the power spectrum of a TimeSeries.\n\n"
      ],
      "metadata": {},
      "cell_type": "markdown"
    },
    {
      "source": [
        "Start by importing the necessary modules.\n\n"
      ],
      "metadata": {},
      "cell_type": "markdown"
    },
    {
      "outputs": [],
      "metadata": {
        "collapsed": false
      },
      "cell_type": "code",
      "execution_count": null,
      "source": [
        "import matplotlib.pyplot as plt \nfrom scipy import signal\nimport astropy.units as u\n\nimport sunpy.timeseries\nfrom sunpy.data.sample import RHESSI_TIMESERIES"
      ]
    },
    {
      "source": [
        "Let's first load a RHESSI TimeSeries from SunPy's sample data.\nThis data contains 9 columns, which are evenly sampled with a time step of 4 \nseconds. \n\n"
      ],
      "metadata": {},
      "cell_type": "markdown"
    },
    {
      "outputs": [],
      "metadata": {
        "collapsed": false
      },
      "cell_type": "code",
      "execution_count": null,
      "source": [
        "ts = sunpy.timeseries.TimeSeries(RHESSI_TIMESERIES)"
      ]
    },
    {
      "source": [
        "We now use SciPy's `~scipy.signal.periodogram` to estimate the \npower spectra of the first column of the Timeseries. The first column contains\nX-Ray emmisions in the range of 3-6 keV. An alterantive version is Astropy's \n`~astropy.stats.LombScargle` periodogram.\n\n"
      ],
      "metadata": {},
      "cell_type": "markdown"
    },
    {
      "outputs": [],
      "metadata": {
        "collapsed": false
      },
      "cell_type": "code",
      "execution_count": null,
      "source": [
        "x_ray = ts.columns[0]\n# The suitable value for fs would be 0.25 Hz as the time step is 4 s.\nfreq, spectra = signal.periodogram(ts.data[x_ray], fs=0.25)"
      ]
    },
    {
      "source": [
        "Plot the power spectrum\n\n"
      ],
      "metadata": {},
      "cell_type": "markdown"
    },
    {
      "outputs": [],
      "metadata": {
        "collapsed": false
      },
      "cell_type": "code",
      "execution_count": null,
      "source": [
        "plt.semilogy(freq, spectra)\nplt.title('Power Spectrum of {}'.format(x_ray))\nplt.ylabel('Power Spectral Density [{:LaTeX}]'.format(ts.units[x_ray] ** 2 / u.Hz))\nplt.xlabel('Frequency [Hz]')\nplt.show()"
      ]
    }
  ],
  "nbformat": 4
}
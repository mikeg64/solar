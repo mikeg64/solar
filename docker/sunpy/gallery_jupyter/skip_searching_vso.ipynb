{
  "nbformat_minor": 0,
  "metadata": {
    "language_info": {
      "codemirror_mode": {
        "name": "ipython",
        "version": 3
      },
      "name": "python",
      "nbconvert_exporter": "python",
      "version": "3.5.2",
      "pygments_lexer": "ipython3",
      "file_extension": ".py",
      "mimetype": "text/x-python"
    },
    "kernelspec": {
      "display_name": "Python 3",
      "name": "python3",
      "language": "python"
    }
  },
  "cells": [
    {
      "outputs": [],
      "metadata": {
        "collapsed": false
      },
      "cell_type": "code",
      "execution_count": null,
      "source": [
        "%matplotlib inline"
      ]
    },
    {
      "source": [
        "\n# Searching the VSO\n\n\nA simple example showing how to download data from the VSO with Fido.\n\n"
      ],
      "metadata": {},
      "cell_type": "markdown"
    },
    {
      "source": [
        "Fido is the primary interface to search for and download data and\nwill search the VSO if appropriate. First import it and the search\nattributes.\n\n"
      ],
      "metadata": {},
      "cell_type": "markdown"
    },
    {
      "outputs": [],
      "metadata": {
        "collapsed": false
      },
      "cell_type": "code",
      "execution_count": null,
      "source": [
        "from __future__ import print_function, division\n\nimport astropy.units as u\n\nfrom sunpy.net import Fido, attrs as a"
      ]
    },
    {
      "source": [
        "We could ask for all SOHO/EIT data between January 1st and 2nd, 2001.\n\n"
      ],
      "metadata": {},
      "cell_type": "markdown"
    },
    {
      "outputs": [],
      "metadata": {
        "collapsed": false
      },
      "cell_type": "code",
      "execution_count": null,
      "source": [
        "attrs_time = a.Time('2005/01/01 00:10', '2005/01/01 00:15')\nresult = Fido.search(attrs_time, a.Instrument('eit'))"
      ]
    },
    {
      "source": [
        "Let's inspect the result\n\n"
      ],
      "metadata": {},
      "cell_type": "markdown"
    },
    {
      "outputs": [],
      "metadata": {
        "collapsed": false
      },
      "cell_type": "code",
      "execution_count": null,
      "source": [
        "print(result)"
      ]
    },
    {
      "source": [
        "Now lets download this query. If we don't provide a path it will download the\nfile into the sunpy data directory.\n\n"
      ],
      "metadata": {},
      "cell_type": "markdown"
    },
    {
      "outputs": [],
      "metadata": {
        "collapsed": false
      },
      "cell_type": "code",
      "execution_count": null,
      "source": [
        "downloaded_files = Fido.fetch(result)"
      ]
    },
    {
      "source": [
        "You can check where the file was downloaded to.\n\n"
      ],
      "metadata": {},
      "cell_type": "markdown"
    },
    {
      "outputs": [],
      "metadata": {
        "collapsed": false
      },
      "cell_type": "code",
      "execution_count": null,
      "source": [
        "print(downloaded_files)"
      ]
    },
    {
      "source": [
        "More complicated queries can be constructed by using relational operators.\nFor example, say we are interested in both eit and mdi data.\n\n"
      ],
      "metadata": {},
      "cell_type": "markdown"
    },
    {
      "outputs": [],
      "metadata": {
        "collapsed": false
      },
      "cell_type": "code",
      "execution_count": null,
      "source": [
        "result = Fido.search(a.Time('2012/3/4', '2012/3/6'),\n                     a.Instrument('aia'),\n                     a.Wavelength(171*u.angstrom) | a.Wavelength(94*u.angstrom))\nprint(result)"
      ]
    }
  ],
  "nbformat": 4
}
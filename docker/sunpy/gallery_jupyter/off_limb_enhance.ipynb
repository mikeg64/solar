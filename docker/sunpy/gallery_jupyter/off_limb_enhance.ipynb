{
  "nbformat_minor": 0,
  "metadata": {
    "language_info": {
      "codemirror_mode": {
        "name": "ipython",
        "version": 3
      },
      "name": "python",
      "nbconvert_exporter": "python",
      "version": "3.5.2",
      "pygments_lexer": "ipython3",
      "file_extension": ".py",
      "mimetype": "text/x-python"
    },
    "kernelspec": {
      "display_name": "Python 3",
      "name": "python3",
      "language": "python"
    }
  },
  "cells": [
    {
      "outputs": [],
      "metadata": {
        "collapsed": false
      },
      "cell_type": "code",
      "execution_count": null,
      "source": [
        "%matplotlib inline"
      ]
    },
    {
      "source": [
        "\n# Enhancing Off-limb emission\n\n\nThis example shows how to enhance emission above the limb.\n\n"
      ],
      "metadata": {},
      "cell_type": "markdown"
    },
    {
      "outputs": [],
      "metadata": {
        "collapsed": false
      },
      "cell_type": "code",
      "execution_count": null,
      "source": [
        "from __future__ import print_function, division\n\nimport numpy as np\n\nimport matplotlib.pyplot as plt\n\nimport astropy.units as u\nfrom astropy.visualization.mpl_normalize import ImageNormalize\n\nimport sunpy.map\nfrom sunpy.data.sample import AIA_171_IMAGE"
      ]
    },
    {
      "source": [
        "We first create the Map using the sample data.\n\n"
      ],
      "metadata": {},
      "cell_type": "markdown"
    },
    {
      "outputs": [],
      "metadata": {
        "collapsed": false
      },
      "cell_type": "code",
      "execution_count": null,
      "source": [
        "aia = sunpy.map.Map(AIA_171_IMAGE)"
      ]
    },
    {
      "source": [
        "Next we build two arrays which include all of the x and y pixel indices.\nWe must not forget to add the correct units because we will next pass this\ninto a function which requires them.\n\n"
      ],
      "metadata": {},
      "cell_type": "markdown"
    },
    {
      "outputs": [],
      "metadata": {
        "collapsed": false
      },
      "cell_type": "code",
      "execution_count": null,
      "source": [
        "x, y = np.meshgrid(*[np.arange(v.value) for v in aia.dimensions]) * u.pix"
      ]
    },
    {
      "source": [
        "Now we can convert this to helioprojective coordinates and create a new\narray which contains the normalized radial position for each pixel\n\n"
      ],
      "metadata": {},
      "cell_type": "markdown"
    },
    {
      "outputs": [],
      "metadata": {
        "collapsed": false
      },
      "cell_type": "code",
      "execution_count": null,
      "source": [
        "hpc_coords = aia.pixel_to_world(x, y)\nr = np.sqrt(hpc_coords.Tx ** 2 + hpc_coords.Ty ** 2) / aia.rsun_obs"
      ]
    },
    {
      "source": [
        "Let's check how emission above the limb depends on distance\n\n"
      ],
      "metadata": {},
      "cell_type": "markdown"
    },
    {
      "outputs": [],
      "metadata": {
        "collapsed": false
      },
      "cell_type": "code",
      "execution_count": null,
      "source": [
        "rsun_step_size = 0.01\nrsun_array = np.arange(1, r.max(), rsun_step_size)\ny = np.array([aia.data[(r > this_r) * (r < this_r + rsun_step_size)].mean()\n              for this_r in rsun_array])"
      ]
    },
    {
      "source": [
        "Next let's plot it along with a fit to the data. We perform the fit in\nlinear-log space.  We fit the logarithm of the intensity since the intensity\ndrops of very quickly as a function of distance from the limb.\n\n"
      ],
      "metadata": {},
      "cell_type": "markdown"
    },
    {
      "outputs": [],
      "metadata": {
        "collapsed": false
      },
      "cell_type": "code",
      "execution_count": null,
      "source": [
        "params = np.polyfit(rsun_array[rsun_array < 1.5],\n                    np.log(y[rsun_array < 1.5]), 1)"
      ]
    },
    {
      "source": [
        "Tell matplotlib to use LaTeX for all the text, make the fontsize bigger, and\nthen plot the data and the fit.\n\n"
      ],
      "metadata": {},
      "cell_type": "markdown"
    },
    {
      "outputs": [],
      "metadata": {
        "collapsed": false
      },
      "cell_type": "code",
      "execution_count": null,
      "source": [
        "fontsize = 14\nplt.plot(rsun_array, y, label='data')\nbest_fit = np.exp(np.poly1d(params)(rsun_array))\nlabel = r'best fit: {:.2f}$e^{{{:.2f}r}}$'.format(best_fit[0], params[0])\nplt.plot(rsun_array, best_fit, label=label)\nplt.yscale('log')\nplt.ylabel(r'mean DN', fontsize=fontsize)\nplt.xlabel(r'radius r ($R_{\\odot}$)', fontsize=fontsize)\nplt.xticks(fontsize=fontsize)\nplt.yticks(fontsize=fontsize)\nplt.title(r'observed off limb mean DN and best fit', fontsize=fontsize)\nplt.legend(fontsize=fontsize)\nplt.tight_layout()\nplt.show()"
      ]
    },
    {
      "source": [
        "We now create our scaling array.  At the solar radius, the scale factor is 1.\nMoving away from the disk, the scaling array increases in value.  Finally,\nin order to not affect the emission on the disk, we set the scale factor to\nunity for values of r less than 1.\n\n"
      ],
      "metadata": {},
      "cell_type": "markdown"
    },
    {
      "outputs": [],
      "metadata": {
        "collapsed": false
      },
      "cell_type": "code",
      "execution_count": null,
      "source": [
        "scale_factor = np.exp((r-1)*-params[0])\nscale_factor[r < 1] = 1"
      ]
    },
    {
      "source": [
        "Let's now plot and compare the results.  The scaled map uses the same image\nstretching function as the original image (set by the keyword 'stretch')\nclipped to the same range (set by the keywords 'vmin' and 'vmax').\n\n"
      ],
      "metadata": {},
      "cell_type": "markdown"
    },
    {
      "outputs": [],
      "metadata": {
        "collapsed": false
      },
      "cell_type": "code",
      "execution_count": null,
      "source": [
        "scaled_map = sunpy.map.Map(aia.data * scale_factor, aia.meta)\nscaled_map.plot_settings['norm'] = ImageNormalize(stretch=aia.plot_settings['norm'].stretch,\n                                                  vmin=aia.data.min(), vmax=aia.data.max())\n\nfig = plt.figure(figsize=(12, 5))\nax = fig.add_subplot(121, projection=aia)\naia.plot()\naia.draw_limb()\nax = fig.add_subplot(122, projection=aia)\nscaled_map.plot()\nscaled_map.draw_limb()\nplt.show()"
      ]
    }
  ],
  "nbformat": 4
}
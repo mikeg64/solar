{
  "nbformat_minor": 0,
  "metadata": {
    "language_info": {
      "codemirror_mode": {
        "name": "ipython",
        "version": 3
      },
      "name": "python",
      "nbconvert_exporter": "python",
      "version": "3.5.2",
      "pygments_lexer": "ipython3",
      "file_extension": ".py",
      "mimetype": "text/x-python"
    },
    "kernelspec": {
      "display_name": "Python 3",
      "name": "python3",
      "language": "python"
    }
  },
  "cells": [
    {
      "outputs": [],
      "metadata": {
        "collapsed": false
      },
      "cell_type": "code",
      "execution_count": null,
      "source": [
        "%matplotlib inline"
      ]
    },
    {
      "source": [
        "\n# Drawing and using a Great Arc\n\n\nThis example shows you how to define and draw a great arc on an image of the\nSun, and to extract intensity values along that arc from the image data.\n\n"
      ],
      "metadata": {},
      "cell_type": "markdown"
    },
    {
      "outputs": [],
      "metadata": {
        "collapsed": false
      },
      "cell_type": "code",
      "execution_count": null,
      "source": [
        "from __future__ import print_function, division\n\nimport numpy as np\nimport matplotlib.pyplot as plt\n\nimport astropy.units as u\nfrom astropy.coordinates import SkyCoord\n\nimport sunpy.map\nfrom sunpy.coordinates.utils import GreatArc\nfrom sunpy.data.sample import AIA_171_IMAGE"
      ]
    },
    {
      "source": [
        "Make a map.\n\n"
      ],
      "metadata": {},
      "cell_type": "markdown"
    },
    {
      "outputs": [],
      "metadata": {
        "collapsed": false
      },
      "cell_type": "code",
      "execution_count": null,
      "source": [
        "m = sunpy.map.Map(AIA_171_IMAGE)"
      ]
    },
    {
      "source": [
        "Let's define the start and end co-ordinates of the arc on the Sun.\n\n"
      ],
      "metadata": {},
      "cell_type": "markdown"
    },
    {
      "outputs": [],
      "metadata": {
        "collapsed": false
      },
      "cell_type": "code",
      "execution_count": null,
      "source": [
        "start = SkyCoord(735 * u.arcsec, -471 * u.arcsec, frame=m.coordinate_frame)\nend = SkyCoord(-100 * u.arcsec, 800 * u.arcsec, frame=m.coordinate_frame)"
      ]
    },
    {
      "source": [
        "Create the great arc between the start and end points.\n\n"
      ],
      "metadata": {},
      "cell_type": "markdown"
    },
    {
      "outputs": [],
      "metadata": {
        "collapsed": false
      },
      "cell_type": "code",
      "execution_count": null,
      "source": [
        "great_arc = GreatArc(start, end)"
      ]
    },
    {
      "source": [
        "Plot the great arc on the Sun.\n\n"
      ],
      "metadata": {},
      "cell_type": "markdown"
    },
    {
      "outputs": [],
      "metadata": {
        "collapsed": false
      },
      "cell_type": "code",
      "execution_count": null,
      "source": [
        "fig = plt.figure()\nax = plt.subplot(projection=m)\nm.plot(axes=ax)\nax.plot_coord(great_arc.coordinates(), color='c')\nplt.show()"
      ]
    },
    {
      "source": [
        "Now we can calculate the nearest integer pixels of the data that correspond\nto the location of arc.\n\n"
      ],
      "metadata": {},
      "cell_type": "markdown"
    },
    {
      "outputs": [],
      "metadata": {
        "collapsed": false
      },
      "cell_type": "code",
      "execution_count": null,
      "source": [
        "pixels = np.asarray(np.rint(m.world_to_pixel(great_arc.coordinates())), dtype=int)\nx = pixels[0, :]\ny = pixels[1, :]"
      ]
    },
    {
      "source": [
        "Get the intensity along the arc from the start to the end point.\n\n"
      ],
      "metadata": {},
      "cell_type": "markdown"
    },
    {
      "outputs": [],
      "metadata": {
        "collapsed": false
      },
      "cell_type": "code",
      "execution_count": null,
      "source": [
        "intensity_along_arc = m.data[y, x]"
      ]
    },
    {
      "source": [
        "Define the angular location of each pixel along the arc from the start point\nto the end.\n\n"
      ],
      "metadata": {},
      "cell_type": "markdown"
    },
    {
      "outputs": [],
      "metadata": {
        "collapsed": false
      },
      "cell_type": "code",
      "execution_count": null,
      "source": [
        "angles = great_arc.inner_angles().to(u.deg)"
      ]
    },
    {
      "source": [
        "Plot the intensity along the arc from the start to the end point.\n\n"
      ],
      "metadata": {},
      "cell_type": "markdown"
    },
    {
      "outputs": [],
      "metadata": {
        "collapsed": false
      },
      "cell_type": "code",
      "execution_count": null,
      "source": [
        "fig, ax = plt.subplots()\nax.plot(angles, intensity_along_arc)\nax.set_xlabel('degrees of arc from start')\nax.set_ylabel('intensity')\nax.grid(linestyle='dotted')\nplt.show()"
      ]
    }
  ],
  "nbformat": 4
}
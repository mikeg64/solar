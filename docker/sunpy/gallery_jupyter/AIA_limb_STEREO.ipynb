{
  "nbformat_minor": 0,
  "metadata": {
    "language_info": {
      "codemirror_mode": {
        "name": "ipython",
        "version": 3
      },
      "name": "python",
      "nbconvert_exporter": "python",
      "version": "3.5.2",
      "pygments_lexer": "ipython3",
      "file_extension": ".py",
      "mimetype": "text/x-python"
    },
    "kernelspec": {
      "display_name": "Python 3",
      "name": "python3",
      "language": "python"
    }
  },
  "cells": [
    {
      "outputs": [],
      "metadata": {
        "collapsed": false
      },
      "cell_type": "code",
      "execution_count": null,
      "source": [
        "%matplotlib inline"
      ]
    },
    {
      "source": [
        "\n# Drawing AIA Coordinates on STEREO Images\n\n\nIn this example we use a STEREO-B and an SDO image to demonstrate how to\noverplot the limb as seen by AIA on an EUVI-B image. Then we overplot the AIA\ncoordinate grid on the STEREO image.\n\n"
      ],
      "metadata": {},
      "cell_type": "markdown"
    },
    {
      "source": [
        "Start by importing the necessary modules.\n\n"
      ],
      "metadata": {},
      "cell_type": "markdown"
    },
    {
      "outputs": [],
      "metadata": {
        "collapsed": false
      },
      "cell_type": "code",
      "execution_count": null,
      "source": [
        "from __future__ import print_function, division\n\nimport numpy as np\nimport matplotlib.pyplot as plt\n\nimport astropy.units as u\nfrom astropy.coordinates import SkyCoord\n\nimport sunpy.map\nimport sunpy.coordinates\nimport sunpy.coordinates.wcs_utils\nfrom sunpy.net import Fido, attrs as a"
      ]
    },
    {
      "source": [
        "The first step is to download some data, we are going to get an image from\nearly 2011 when the STEREO spacecraft were roughly 90 deg seperated from the\nEarth.\n\n"
      ],
      "metadata": {},
      "cell_type": "markdown"
    },
    {
      "outputs": [],
      "metadata": {
        "collapsed": false
      },
      "cell_type": "code",
      "execution_count": null,
      "source": [
        "stereo = (a.vso.Source('STEREO_B') &\n          a.Instrument('EUVI') &\n          a.Time('2011-01-01', '2011-01-01T00:10:00'))\n\naia = (a.Instrument('AIA') &\n       a.vso.Sample(24 * u.hour) &\n       a.Time('2011-01-01', '2011-01-02'))\n\nwave = a.Wavelength(30 * u.nm, 31 * u.nm)\n\n\nres = Fido.search(wave, aia | stereo)"
      ]
    },
    {
      "source": [
        "The results from VSO query:\n\n"
      ],
      "metadata": {},
      "cell_type": "markdown"
    },
    {
      "outputs": [],
      "metadata": {
        "collapsed": false
      },
      "cell_type": "code",
      "execution_count": null,
      "source": [
        "print(res)"
      ]
    },
    {
      "source": [
        "Download the files:\n\n"
      ],
      "metadata": {},
      "cell_type": "markdown"
    },
    {
      "outputs": [],
      "metadata": {
        "collapsed": false
      },
      "cell_type": "code",
      "execution_count": null,
      "source": [
        "files = Fido.fetch(res)"
      ]
    },
    {
      "source": [
        "Create a dictionary with the two maps, cropped down to full disk.\n\n"
      ],
      "metadata": {},
      "cell_type": "markdown"
    },
    {
      "outputs": [],
      "metadata": {
        "collapsed": false
      },
      "cell_type": "code",
      "execution_count": null,
      "source": [
        "maps = {m.detector: m.submap(SkyCoord([-1100, 1100], [-1100, 1100],\n                                      unit=u.arcsec, frame=m.coordinate_frame))\n        for m in sunpy.map.Map(files)}"
      ]
    },
    {
      "source": [
        "Calculate points on the limb in the AIA image for the half that can be seen\nfrom STEREO.\n\n"
      ],
      "metadata": {},
      "cell_type": "markdown"
    },
    {
      "outputs": [],
      "metadata": {
        "collapsed": false
      },
      "cell_type": "code",
      "execution_count": null,
      "source": [
        "r = maps['AIA'].rsun_obs - 1 * u.arcsec  # remove the one arcsec so it's on disk.\n# Adjust the following range if you only want to plot on STEREO_A\nth = np.linspace(-180*u.deg, 0*u.deg)\nx = r * np.sin(th)\ny = r * np.cos(th)\n\ncoords = SkyCoord(x, y, frame=maps['AIA'].coordinate_frame)"
      ]
    },
    {
      "source": [
        "Plot both maps\n\n"
      ],
      "metadata": {},
      "cell_type": "markdown"
    },
    {
      "outputs": [],
      "metadata": {
        "collapsed": false
      },
      "cell_type": "code",
      "execution_count": null,
      "source": [
        "fig = plt.figure(figsize=(10, 4))\nax1 = fig.add_subplot(1, 2, 1, projection=maps['AIA'])\nmaps['AIA'].plot(axes=ax1)\nmaps['AIA'].draw_limb()\n\nax2 = fig.add_subplot(1, 2, 2, projection=maps['EUVI'])\nmaps['EUVI'].plot(axes=ax2)\nax2.plot_coord(coords, color='w')"
      ]
    },
    {
      "source": [
        "We can also plot the helioprojective coordinate grid as seen by SDO on the\nSTEREO image.\n\n"
      ],
      "metadata": {},
      "cell_type": "markdown"
    },
    {
      "outputs": [],
      "metadata": {
        "collapsed": false
      },
      "cell_type": "code",
      "execution_count": null,
      "source": [
        "fig = plt.figure()\nax = plt.subplot(projection=maps['EUVI'])\n\nmaps['EUVI'].plot()\n\n# Move the title so it does not clash with the extra labels.\ntx, ty = ax.title.get_position()\nax.title.set_position([tx, ty + 0.08])\n\n# Change the default grid labels.\nstereo_x, stereo_y = ax.coords\nstereo_x.set_axislabel(\"Helioprojective Longitude (STEREO B) [arcsec]\")\nstereo_y.set_axislabel(\"Helioprojective Latitude (STEREO B) [arcsec]\")\n\n# Add a new coordinate overlay in the SDO frame.\noverlay = ax.get_coords_overlay(maps['AIA'].coordinate_frame)\noverlay.grid()\n\n# Configure the grid:\nx, y = overlay\n\n# Set the ticks to be on the top and left axes.\nx.set_ticks_position('tr')\ny.set_ticks_position('tr')\n\n# Wrap the longitude at 180 deg rather than the default 360.\nx.set_coord_type('longitude', 180.)\n\n# Change the defaults to arcseconds\nx.set_major_formatter('s.s')\ny.set_major_formatter('s.s')\n\n# Add axes labels\nx.set_axislabel(\"Helioprojective Longitude (SDO) [arcsec]\")\ny.set_axislabel(\"Helioprojective Latitude (SDO) [arcsec]\")\nplt.show()"
      ]
    }
  ],
  "nbformat": 4
}
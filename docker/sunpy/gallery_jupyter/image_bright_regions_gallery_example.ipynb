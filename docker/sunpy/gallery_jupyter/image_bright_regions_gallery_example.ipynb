{
  "nbformat_minor": 0,
  "metadata": {
    "language_info": {
      "codemirror_mode": {
        "name": "ipython",
        "version": 3
      },
      "name": "python",
      "nbconvert_exporter": "python",
      "version": "3.5.2",
      "pygments_lexer": "ipython3",
      "file_extension": ".py",
      "mimetype": "text/x-python"
    },
    "kernelspec": {
      "display_name": "Python 3",
      "name": "python3",
      "language": "python"
    }
  },
  "cells": [
    {
      "outputs": [],
      "metadata": {
        "collapsed": false
      },
      "cell_type": "code",
      "execution_count": null,
      "source": [
        "%matplotlib inline"
      ]
    },
    {
      "source": [
        "\n# Manipulating Map image data - finding bright regions\n\n\nThis example shows how you can do basic image processing on SunPy map image data.\nIn this example, we try to find the brightest regions in an AIA image.\nThen count the approximate number of regions of interest.\n\n"
      ],
      "metadata": {},
      "cell_type": "markdown"
    },
    {
      "source": [
        "First, import the modules we will need:\n\n"
      ],
      "metadata": {},
      "cell_type": "markdown"
    },
    {
      "outputs": [],
      "metadata": {
        "collapsed": false
      },
      "cell_type": "code",
      "execution_count": null,
      "source": [
        "from __future__ import print_function, division\n\nfrom scipy import ndimage\nimport matplotlib.pyplot as plt\n\nimport sunpy.map\nfrom sunpy.data.sample import AIA_193_IMAGE"
      ]
    },
    {
      "source": [
        "Now, we create a SunPy Map object from an AIA FITS file.\n\n"
      ],
      "metadata": {},
      "cell_type": "markdown"
    },
    {
      "outputs": [],
      "metadata": {
        "collapsed": false
      },
      "cell_type": "code",
      "execution_count": null,
      "source": [
        "aiamap = sunpy.map.Map(AIA_193_IMAGE)"
      ]
    },
    {
      "source": [
        "Let's plot the map.\nThe aiamap normalizes the range using an asinh function.\nThis show features in an image with high dynamic range more clearly.\n\n"
      ],
      "metadata": {},
      "cell_type": "markdown"
    },
    {
      "outputs": [],
      "metadata": {
        "collapsed": false
      },
      "cell_type": "code",
      "execution_count": null,
      "source": [
        "plt.figure()\naiamap.plot()\nplt.colorbar()\nplt.show()"
      ]
    },
    {
      "source": [
        "Now we want to find the brightest regions in this image.\nWe start by finding the maximum value in the image data.\n\n"
      ],
      "metadata": {},
      "cell_type": "markdown"
    },
    {
      "outputs": [],
      "metadata": {
        "collapsed": false
      },
      "cell_type": "code",
      "execution_count": null,
      "source": [
        "data_max = aiamap.max()"
      ]
    },
    {
      "source": [
        "Now we want to make a mask, which tells us which regions are bright. We\nchoose the criterion that the data should be at least 5% of the maximum\nvalue. Pixels with intensity values greater than this are included in the\nmask, while all other pixels are excluded.\n\n"
      ],
      "metadata": {},
      "cell_type": "markdown"
    },
    {
      "outputs": [],
      "metadata": {
        "collapsed": false
      },
      "cell_type": "code",
      "execution_count": null,
      "source": [
        "mask = aiamap.data < data_max * 0.05"
      ]
    },
    {
      "source": [
        "Mask is a `boolean` array. It can be used to modify the original map object\nwithout modifying the data. Once this mask attribute is set, we can plot the\nimage again.\n\n"
      ],
      "metadata": {},
      "cell_type": "markdown"
    },
    {
      "outputs": [],
      "metadata": {
        "collapsed": false
      },
      "cell_type": "code",
      "execution_count": null,
      "source": [
        "aiamap.mask = mask\nplt.figure()\naiamap.plot()\nplt.colorbar()\nplt.show()"
      ]
    },
    {
      "source": [
        "Only the brightest pixels remain in the image.\nHowever, these areas are artificially broken up into small regions.\nEstimating the number of significant hot regions will be difficult.\nWe can solve this by applying some smoothing to the image data.\nHere we apply a 2D Gaussian smoothing function to the data.\n\n"
      ],
      "metadata": {},
      "cell_type": "markdown"
    },
    {
      "outputs": [],
      "metadata": {
        "collapsed": false
      },
      "cell_type": "code",
      "execution_count": null,
      "source": [
        "data2 = ndimage.gaussian_filter(aiamap.data * ~mask, 16)"
      ]
    },
    {
      "source": [
        "The issue with the filtering is that it create pixels where the values are\nsmall (<100), so when we go on later to label this array,\nwe get one large region which encompasses the entire array.\nIf you want to see, just remove this line.\n\n"
      ],
      "metadata": {},
      "cell_type": "markdown"
    },
    {
      "outputs": [],
      "metadata": {
        "collapsed": false
      },
      "cell_type": "code",
      "execution_count": null,
      "source": [
        "data2[data2 < 100] = 0"
      ]
    },
    {
      "source": [
        "Now we will make a second SunPy map with this smoothed data.\n\n"
      ],
      "metadata": {},
      "cell_type": "markdown"
    },
    {
      "outputs": [],
      "metadata": {
        "collapsed": false
      },
      "cell_type": "code",
      "execution_count": null,
      "source": [
        "aiamap2 = sunpy.map.Map(data2, aiamap.meta)"
      ]
    },
    {
      "source": [
        "The function `label` from the `scipy.ndimage` module, counts the number of\ncontiguous regions in an image.\n\n"
      ],
      "metadata": {},
      "cell_type": "markdown"
    },
    {
      "outputs": [],
      "metadata": {
        "collapsed": false
      },
      "cell_type": "code",
      "execution_count": null,
      "source": [
        "labels, n = ndimage.label(aiamap2.data)"
      ]
    },
    {
      "source": [
        "Finally, we plot the smoothed bright image data, along with the estimate of\nthe number of distinct regions. We can see that approximately 6 distinct hot\nregions are present above the 5% of the maximum level.\n\n"
      ],
      "metadata": {},
      "cell_type": "markdown"
    },
    {
      "outputs": [],
      "metadata": {
        "collapsed": false
      },
      "cell_type": "code",
      "execution_count": null,
      "source": [
        "plt.figure()\naiamap2.plot()\nplt.contour(labels)\nplt.figtext(0.3, 0.2, 'Number of regions = {}'.format(n), color='white')\nplt.show()"
      ]
    }
  ],
  "nbformat": 4
}
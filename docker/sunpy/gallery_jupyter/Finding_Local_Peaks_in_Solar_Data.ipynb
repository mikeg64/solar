{
  "nbformat_minor": 0,
  "metadata": {
    "language_info": {
      "codemirror_mode": {
        "name": "ipython",
        "version": 3
      },
      "name": "python",
      "nbconvert_exporter": "python",
      "version": "3.5.2",
      "pygments_lexer": "ipython3",
      "file_extension": ".py",
      "mimetype": "text/x-python"
    },
    "kernelspec": {
      "display_name": "Python 3",
      "name": "python3",
      "language": "python"
    }
  },
  "cells": [
    {
      "outputs": [],
      "metadata": {
        "collapsed": false
      },
      "cell_type": "code",
      "execution_count": null,
      "source": [
        "%matplotlib inline"
      ]
    },
    {
      "source": [
        "\n# Finding Local Peaks in Solar Data\n\n\nDetecting intensity peaks in solar images can be useful, for example as\na simple flare identification mechanism. This example illustrates detection\nof those areas where there is a spike in solar intensity.\nWe use the `~skimage.feature.peak_local_max` function in the scikit-image library\nto find those regions in the map data where the intensity values form a local maxima.\nFinally we plot those peaks in the original AIA plot.\n\n"
      ],
      "metadata": {},
      "cell_type": "markdown"
    },
    {
      "outputs": [],
      "metadata": {
        "collapsed": false
      },
      "cell_type": "code",
      "execution_count": null,
      "source": [
        "import numpy as np\nimport astropy.units as u\nimport matplotlib.pyplot as plt\nfrom mpl_toolkits import mplot3d\nfrom mpl_toolkits.mplot3d import Axes3D\nfrom skimage.feature import peak_local_max\n\nimport sunpy.map\nfrom sunpy.data.sample import AIA_193_IMAGE"
      ]
    },
    {
      "source": [
        "We will first create a Map using some sample data and display it.\n\n"
      ],
      "metadata": {},
      "cell_type": "markdown"
    },
    {
      "outputs": [],
      "metadata": {
        "collapsed": false
      },
      "cell_type": "code",
      "execution_count": null,
      "source": [
        "aiamap = sunpy.map.Map(AIA_193_IMAGE)\nplt.figure()\naiamap.plot()\nplt.colorbar()"
      ]
    },
    {
      "source": [
        "Before we find regions of local maxima, we need to create some variables that\nstore pixel coordinates for the 2D SDO/AIA data we are using.\nThese variables are used for plotting in 3D later on.\n\n"
      ],
      "metadata": {},
      "cell_type": "markdown"
    },
    {
      "outputs": [],
      "metadata": {
        "collapsed": false
      },
      "cell_type": "code",
      "execution_count": null,
      "source": [
        "x = np.arange(aiamap.data.shape[0])\ny = np.arange(aiamap.data.shape[1])\nX, Y = np.meshgrid(x, y)"
      ]
    },
    {
      "source": [
        "We will only consider peaks within the AIA data that have minimum intensity\nvalue equal to ``threshold_rel * max(Intensity)`` which is 20% of the maximum intensity.\nThe next step is to calculate the pixel locations of local maxima\npositions where peaks are separated by at least ``min_distance = 60 pixels``.\nThis function comes from scikit image and the documenation is found\nhere `~skimage.feature.peak_local_max`.\n\n"
      ],
      "metadata": {},
      "cell_type": "markdown"
    },
    {
      "outputs": [],
      "metadata": {
        "collapsed": false
      },
      "cell_type": "code",
      "execution_count": null,
      "source": [
        "coordinates = peak_local_max(aiamap.data, min_distance=60, threshold_rel=0.2)"
      ]
    },
    {
      "source": [
        "We now check for the indices at which we get such a local maxima and plot\nthose positions marked red in the aiamap data.\n\n"
      ],
      "metadata": {},
      "cell_type": "markdown"
    },
    {
      "outputs": [],
      "metadata": {
        "collapsed": false
      },
      "cell_type": "code",
      "execution_count": null,
      "source": [
        "fig = plt.figure(figsize=(12, 8))\nax = fig.add_subplot(111, projection='3d')\nax.plot_surface(X, Y, aiamap.data)\nax.view_init(elev=39, azim=64)\npeaks_pos = aiamap.data[coordinates[:, 0], coordinates[:, 1]]\nax.scatter(coordinates[:, 1], coordinates[:, 0], peaks_pos, color='r')\nax.set_xlabel('X Coordinates')\nax.set_ylabel('Y Coordinates')\nax.set_zlabel('Intensity')"
      ]
    },
    {
      "source": [
        "Now we need to turn the pixel coordinates into the world location so\nthey can be easily overlaid on the Map.\n\n"
      ],
      "metadata": {},
      "cell_type": "markdown"
    },
    {
      "outputs": [],
      "metadata": {
        "collapsed": false
      },
      "cell_type": "code",
      "execution_count": null,
      "source": [
        "hpc_max = aiamap.pixel_to_world(coordinates[:, 1]*u.pixel, coordinates[:, 0]*u.pixel)"
      ]
    },
    {
      "source": [
        "Finally we do an AIA plot to check for the local maxima locations\nwhich will be marked with a blue `x` label.\n\n"
      ],
      "metadata": {},
      "cell_type": "markdown"
    },
    {
      "outputs": [],
      "metadata": {
        "collapsed": false
      },
      "cell_type": "code",
      "execution_count": null,
      "source": [
        "fig = plt.figure()\nax = plt.subplot(projection=aiamap)\naiamap.plot()\nax.plot_coord(hpc_max, 'bx')\nplt.show()"
      ]
    }
  ],
  "nbformat": 4
}
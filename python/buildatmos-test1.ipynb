{
 "cells": [
  {
   "cell_type": "markdown",
   "metadata": {},
   "source": [
    "## Build a Solar Atmosphere Using McWhirter and VALIIc Data\n",
    "\n",
    "### Steps\n",
    "1. Set parameters for model e.g. physical dimensions and grid size\n",
    "2. Load VALIIIc and McWhirter Data\n",
    "3. Interpolate Data\n",
    "4. Regenerat model\n"
   ]
  },
  {
   "cell_type": "code",
   "execution_count": 2,
   "metadata": {},
   "outputs": [],
   "source": [
    "import os\n",
    "import numpy as np\n",
    "\n",
    "import astropy.table\n",
    "from astropy.table import Table\n",
    "import astropy.units as u\n",
    "from astropy.constants import k_B, m_p\n",
    "import scipy.constants as asc\n",
    "from astropy.table import Table\n",
    "\n",
    "\n",
    "from scipy.interpolate import UnivariateSpline\n",
    "\n",
    "from sacio import *\n",
    "#alldat,modelinfo=read_sac_ascii('../../../configs/hydro/3D_128_spic_asc.ini')"
   ]
  },
  {
   "cell_type": "raw",
   "metadata": {},
   "source": [
    "### Testing the SAC input output routines\n",
    "\n",
    "write model as binary\n",
    "re-read binary file"
   ]
  },
  {
   "cell_type": "code",
   "execution_count": null,
   "metadata": {},
   "outputs": [],
   "source": [
    "alldat,modelinfo=read_sac_ascii('../../solar-testdata/3D_128_spic_bvertbg100G_asc.ini')\n",
    "\n"
   ]
  },
  {
   "cell_type": "code",
   "execution_count": null,
   "metadata": {},
   "outputs": [],
   "source": []
  },
  {
   "cell_type": "markdown",
   "metadata": {},
   "source": [
    "read in binary output \n",
    "rewrite as ascii\n",
    "re-readascii file"
   ]
  },
  {
   "cell_type": "code",
   "execution_count": null,
   "metadata": {},
   "outputs": [],
   "source": []
  },
  {
   "cell_type": "code",
   "execution_count": null,
   "metadata": {},
   "outputs": [],
   "source": [
    "print(modelinfo)\n",
    "print(np.size(alldat))\n",
    "print(np.shape(alldat))\n",
    "\n",
    "#Display x co-ordinates here vertical section through atmosphere\n",
    "print(alldat[48:80,64,64,0]/1.0e3)"
   ]
  },
  {
   "cell_type": "code",
   "execution_count": 3,
   "metadata": {},
   "outputs": [
    {
     "name": "stderr",
     "output_type": "stream",
     "text": [
      "sacio.py:197: VisibleDeprecationWarning: converting an array with ndim > 0 to an index will result in an error in the future\n",
      "  dim = np.fromfile(file,dtype=np.int32,count=ndim)[:ndim]\n",
      "sacio.py:212: VisibleDeprecationWarning: converting an array with ndim > 0 to an index will result in an error in the future\n",
      "  alldat=np.fromfile(file,dtype=float,count=(nfields+ndim)*dim[0]*dim[1]*dim[2])[:(nfields+ndim)*dim[0]*dim[1]*dim[2]]\n",
      "/home/mike/.conda/envs/pysac/lib/python2.7/site-packages/numpy/core/fromnumeric.py:224: VisibleDeprecationWarning: converting an array with ndim > 0 to an index will result in an error in the future\n",
      "  return reshape(newshape, order=order)\n"
     ]
    }
   ],
   "source": [
    "alldat1,modelinfo1=read_sac_bin('../../solar-testdata/zerospic1__400000.out')"
   ]
  },
  {
   "cell_type": "code",
   "execution_count": 4,
   "metadata": {},
   "outputs": [
    {
     "name": "stdout",
     "output_type": "stream",
     "text": [
      "[128 128 128]\n",
      "(16, 128, 128, 128)\n",
      "[ -6.47514769e-18  -8.06240523e-18  -9.29623523e-18  -1.04858154e-17\n",
      "  -1.16886669e-17  -1.26721044e-17  -1.36518754e-17  -1.45404664e-17\n",
      "  -1.52007798e-17  -1.56662482e-17  -1.59772105e-17  -1.62569796e-17\n",
      "  -1.65168071e-17  -1.66981893e-17  -1.68764172e-17  -1.70454817e-17\n",
      "  -1.71881961e-17  -1.73124828e-17  -1.74050967e-17  -1.74781906e-17\n",
      "  -1.75382649e-17  -1.75669360e-17  -1.75521429e-17  -1.73886237e-17\n",
      "  -1.70206534e-17  -1.65092876e-17  -1.59809209e-17  -1.55017893e-17\n",
      "  -1.48685448e-17  -1.40471181e-17  -1.32185854e-17  -1.23207119e-17]\n"
     ]
    }
   ],
   "source": [
    "print(modelinfo1[6])\n",
    "print(np.shape(alldat1))\n",
    "print(alldat1[3,48:80,64,64]/1.0e3)"
   ]
  },
  {
   "cell_type": "markdown",
   "metadata": {},
   "source": [
    "## Test the binary sac output writer"
   ]
  },
  {
   "cell_type": "code",
   "execution_count": null,
   "metadata": {},
   "outputs": [
    {
     "name": "stdout",
     "output_type": "stream",
     "text": [
      "(array([128, 128, 128], dtype=int32), array([3], dtype=int32), array([13], dtype=int32), array([7], dtype=int32))\n"
     ]
    }
   ],
   "source": [
    "write_sac_bin('test.out',alldat1,modelinfo1)"
   ]
  },
  {
   "cell_type": "markdown",
   "metadata": {},
   "source": [
    "### Extracting some of the data fields"
   ]
  },
  {
   "cell_type": "code",
   "execution_count": null,
   "metadata": {},
   "outputs": [],
   "source": [
    "dens=alldat[:,:,:,3]\n",
    "\n",
    "#X=alldat[0,64,:,:]/1.0e6\n",
    "#Y=alldat[1,64,:,:]/1.0e6\n",
    "#vx=alldat[4,64,:,:]/(alldat[3,64,:,:]+alldat[12,64,:,:])\n",
    "#vy=100000*alldat[5,64,:,:]/(alldat[3,64,:,:]+alldat[12,64,:,:])\n",
    "#vz=100000*alldat[6,64,:,:]/(alldat[3,64,:,:]+alldat[12,64,:,:])\n",
    "#rho=(alldat[3,64,:,:])*1.0e12\n",
    "#e=alldat[7,64,:,:]\n",
    "#vx=alldat[4,64,:,:]\n",
    "#dens=(alldat[3,64,:,:]+alldat[12,64,:,:])\n",
    "#bx=alldat[8,64,:,:]*sqrt(mu)*1.0e4\n",
    "#by=alldat[9,64,:,:]*sqrt(mu)*1.0e4\n",
    "#bz=alldat[10,64,:,:]*sqrt(mu)*1.0e4\n",
    "print(alldat[48:80,64,64,12])"
   ]
  },
  {
   "cell_type": "code",
   "execution_count": null,
   "metadata": {},
   "outputs": [],
   "source": [
    "from valmcw import *\n",
    "data=val3c()\n",
    "#data.sort('Z')\n",
    "print(data)"
   ]
  },
  {
   "cell_type": "code",
   "execution_count": null,
   "metadata": {},
   "outputs": [],
   "source": [
    "__all__ = ['read_VAL3c_MTW', 'interpolate_atmosphere', 'get_spruit_hs', 'vertical_profile']"
   ]
  },
  {
   "cell_type": "code",
   "execution_count": null,
   "metadata": {},
   "outputs": [],
   "source": [
    "#if 1D or 2D set unused dimensions to 0, and unrequired xyz limits to 1. \n",
    "Nxyz = [128,128,128] # 3D grid\n",
    "xyz_SI = [-1e6,1e6,-1e6,1e6,3.5e4,1.6e6] # xyz limits SI/CGS units \n",
    "xyz  = [-1.27*u.Mm,1.27*u.Mm,-1.27*u.Mm,1.27*u.Mm,0.*u.Mm,8.62*u.Mm] #grid size\n",
    "#xyz.unit=u.Mm\n",
    "#xyz=np.array([-1e6,1e6,-1e6,1e6,3.5e4,1.6e6])\n",
    "#xyz = [-1*u.Mm,1e6,-1*u.Mm,1*u.Mm,0.035*u.Mm,1.6*u.Mm] # xyz limits SI/CGS units  \n",
    "#xyz=xyz_SI"
   ]
  },
  {
   "cell_type": "code",
   "execution_count": null,
   "metadata": {},
   "outputs": [],
   "source": [
    "\"\"\"\n",
    "get_coords returns a non-dimensional dictionary describing the domain\n",
    "coordinates.\n",
    "\"\"\"\n",
    "dz=(xyz[5]-xyz[4])/(Nxyz[2]-1)\n",
    "#Z    = u.Quantity(np.linspace(xyz[4].value, xyz[5].value, Nxyz[2]), unit=xyz.unit)\n",
    "Z    = u.Quantity(np.linspace(xyz[4].value, xyz[5].value, Nxyz[2]))\n",
    "#Zext = u.Quantity(np.linspace(Z.min().value-4.*dz.value, Z.max().value+4.*dz.value, Nxyz[2]+8), unit=Z.unit)\n",
    "Zext = u.Quantity(np.linspace(Z.min().value-4.*dz.value, Z.max().value+4.*dz.value, Nxyz[2]+8))\n",
    "coords = {\n",
    "              'dx':(xyz[1]-xyz[0])/(Nxyz[0]-1),\n",
    "              'dy':(xyz[3]-xyz[2])/(Nxyz[1]-1),\n",
    "              'dz':(xyz[5]-xyz[4])/(Nxyz[2]-1),\n",
    "              'xmin':xyz[0],\n",
    "              'xmax':xyz[1],\n",
    "              'ymin':xyz[2],\n",
    "              'ymax':xyz[3],\n",
    "              'zmin':xyz[4],\n",
    "              'zmax':xyz[5],\n",
    "              'Z':Z,\n",
    "              'Zext':Zext\n",
    "            }"
   ]
  },
  {
   "cell_type": "code",
   "execution_count": null,
   "metadata": {},
   "outputs": [],
   "source": [
    "#identify location of source data files\n",
    "__files__=''\n",
    "homedir = os.environ['HOME']\n",
    "cwd = os.path.dirname(__files__)\n",
    "#cwd = homedir+'/Dropbox/multi_tube/python/allpapers/'\n",
    "VAL_file = os.path.join(cwd, 'VALIIIC.dat')\n",
    "MTW_file = os.path.join(cwd, 'mcwhirter.dat')\n",
    "\n",
    "filenames = [VAL_file, MTW_file]\n",
    "# uncomment and switch to l_const/l_sqrt/l_linear/l_square as required  \n",
    "#logical_pars['l_square'] = True "
   ]
  },
  {
   "cell_type": "code",
   "execution_count": null,
   "metadata": {},
   "outputs": [],
   "source": [
    "#============================================================================\n",
    "    # Dimensional units in terms of SI\n",
    "#============================================================================\n",
    "scales   = {\n",
    "            'length':         1e2*u.Mm,\n",
    "            'density':        1e-4*u.kg/u.m**3,\n",
    "            'velocity':       1e2*u.m/u.s,\n",
    "            'temperature':    1.0*u.K, \n",
    "            'magnetic':       1e-3*u.T #mT\n",
    "           }\n",
    "\n",
    "\n",
    "scales['energy density'] = scales['density'] * scales['velocity']**2\n",
    "scales['time'] = scales['length'] / scales['velocity'] \n",
    "scales['mass'] = scales['density'] * scales['length']**3 \n",
    "scales['force density'] = scales['density'] * scales['velocity'] / \\\n",
    "scales['time'] #D momentum/Dt force density balance "
   ]
  },
  {
   "cell_type": "code",
   "execution_count": null,
   "metadata": {},
   "outputs": [],
   "source": [
    "print(5*scales['temperature'])\n",
    "\n",
    "print(coords)"
   ]
  },
  {
   "cell_type": "code",
   "execution_count": null,
   "metadata": {},
   "outputs": [],
   "source": [
    "print (xyz[1]-xyz[0])/(Nxyz[0]-1)"
   ]
  },
  {
   "cell_type": "code",
   "execution_count": null,
   "metadata": {},
   "outputs": [],
   "source": [
    "from scipy.interpolate import UnivariateSpline\n",
    "s=0.25\n",
    "hdata = np.array(u.Quantity(data['Z']).to(u.m))\n",
    "# interpolate total pressure, temperature and density profiles\n",
    "pdata_f = UnivariateSpline(hdata,np.array(np.log(data['p'])),k=1, s=s)\n",
    "Tdata_f = UnivariateSpline(hdata,np.array(np.log(data['T'])),k=1, s=s)\n",
    "rdata_f = UnivariateSpline(hdata,np.array(np.log(data['rho'])),k=1, s=s)\n",
    "#s=0.0 to ensure all points are strictly used for ionisation state\n",
    "#muofT_f = UnivariateSpline(hdata,np.array(np.log(data['mu'])),k=1, s=0.0)\n",
    "#print pdata_f(Z)\n",
    "#print Z\n",
    "print scales['temperature']\n",
    "print(Tdata_f(hdata))\n",
    "#print((data['Z']))\n",
    "print Nxyz[0]\n",
    "outdata = Table([np.zeros((Nxyz[0])),np.zeros((Nxyz[0])),np.zeros((Nxyz[0])),np.zeros((Nxyz[0]))],names=['Z', 'T','p','rho'])\n",
    "outdata['Z'] = Z\n",
    "#outdata['p'] = np.exp(pdata_f(Z.to(u.m))) \n",
    "#outdata['p'] = np.exp(pdata_f(Z.to(u.cm))) * data['p'].unit\n",
    "outdata['p'] = np.exp(pdata_f(Z*1.0e8)) * data['p'].unit\n",
    "#outdata['T'] = np.exp(Tdata_f(Z.to(u.m))) * data['T'].unit\n",
    "#outdata['T'] = np.exp(Tdata_f()) * data['T'].unit \n",
    "outdata['T'] = np.exp(Tdata_f(Z*1.0e6)) * data['T'].unit\n",
    "#outdata['rho'] = np.exp(rdata_f(Z.to(u.m))) * data['rho'].unit\n",
    "#outdata['rho'] = np.exp(rdata_f()) * data['rho'].unit \n",
    "outdata['rho'] = np.exp(rdata_f(Z*1.0e8)) * data['rho'].unit \n",
    "#outdata['mu'] = np.exp(muofT_f(Z.to(u.m))) * u.one\n",
    "\n"
   ]
  },
  {
   "cell_type": "code",
   "execution_count": null,
   "metadata": {},
   "outputs": [],
   "source": [
    "print outdata['rho'][1]\n",
    "\n",
    "#VAL3c = np.loadtxt(filenames[0])[::-1,:]\n",
    "#VAL3c[:,0] *= 1e3 #km -> m\n",
    "#VAL3c[:,1] *= 1e3 #g/cm^3 -> kg/m^3\n",
    "#VAL3c[:,2] /= 1e1 #dyne/cm^2 -> Pascals(N/m^2)\n",
    "#muTV=4.0/(3*0.74+1+VAL3c[:,6]/VAL3c[:,5])\n",
    "#nzv=VAL3c[:,0].size\n",
    "#MTW =np.loadtxt(filenames[1])[::-1,:]\n",
    "#MTW[:,0] *= 1e3 #km -> m\n",
    "#MTW[:,1] *= 1   #Kelvin\n",
    "#MTW[:,2] /= 1e1 #dyne/cm^2 -> Pascals(N/m^2)\n",
    "#nzm=MTW[:,0].size\n",
    "#Combine both sets into single array\n",
    "#hdata=np.zeros(nzv+nzm)\n",
    "#hdata[0:nzv]=VAL3c[:,0]\n",
    "#hdata[nzv:nzv+nzm]=MTW[:,0]\n",
    "#hdata /= scales['length']\n",
    "    \n",
    "#pdata=np.zeros(nzv+nzm)\n",
    "#pdata[0:nzv]=VAL3c[:,2]\n",
    "#pdata[nzv:nzv+nzm]=MTW[:,2]\n",
    "#pdata /= scales['energy density']\n",
    "    \n",
    "#Tdata=np.zeros(nzv+nzm)\n",
    "#Tdata[0:nzv]=VAL3c[:,3]\n",
    "#Tdata[nzv:nzv+nzm]=MTW[:,1] \n",
    "#Tdata /= scales['temperature']\n",
    "    \n",
    "#rdata=np.zeros(nzv+nzm)\n",
    "#rdata[0:nzv]=VAL3c[:,1]\n",
    "#rdata /= scales['density']   \n",
    "#MTW[:,2], kB, mp and mu are in code units so no rescale needed\n",
    "#rdata[nzv:nzv+nzm] = MTW[:,2]/physicalconstants['boltzmann']/MTW[:,1] *physicalconstants['proton_mass']*physicalconstants['mu']\n",
    "    \n",
    "#muofT = np.zeros(nzv+nzm) # mean molecular weight\n",
    "#muofT[0:nzv] = muTV\n",
    "#muofT[nzv:nzv+nzm] = physicalconstants['mu']\n",
    "# interpolate total pressure, temperature and density profiles\n",
    "#pdata_f = UnivariateSpline(hdata,np.log(pdata),k=1, s=0.25)\n",
    "#Tdata_f = UnivariateSpline(hdata,np.log(Tdata),k=1, s=0.25)\n",
    "#rdata_f = UnivariateSpline(hdata,np.log(rdata),k=1, s=0.25)\n",
    "#s=0.0 to ensure all points are strictly used for ionisation state\n",
    "#muofT_f = UnivariateSpline(hdata,np.log(muofT),k=1, s=0.0)\n",
    "#pdata_i = np.exp(pdata_f(Z))\n",
    "#Tdata_i = np.exp(Tdata_f(Z))\n",
    "#rdata_i = np.exp(rdata_f(Z))\n",
    "#muofT_i = np.exp(muofT_f(Z))\n",
    "\n",
    "#source_data = [VAL3c,MTW] "
   ]
  },
  {
   "cell_type": "code",
   "execution_count": null,
   "metadata": {},
   "outputs": [],
   "source": [
    "print Tdata_f(Z)"
   ]
  },
  {
   "cell_type": "markdown",
   "metadata": {},
   "source": [
    "## Recalculate density values\n",
    "\n",
    "don't forget to adjust modelinfo values!"
   ]
  },
  {
   "cell_type": "code",
   "execution_count": null,
   "metadata": {},
   "outputs": [],
   "source": [
    "for i3 in range(Nxyz[2]):\n",
    "    for i2 in range(Nxyz[1]):\n",
    "        for i1 in range(Nxyz[0]):\n",
    "            alldat[i1,i2,i3,12]=1000*outdata['rho'][i1]\n",
    "            alldat[i1,i2,i3,0]=1000*outdata['Z'][i1]"
   ]
  },
  {
   "cell_type": "code",
   "execution_count": null,
   "metadata": {
    "scrolled": true
   },
   "outputs": [],
   "source": [
    "print(alldat[48:80,64,64,0]/1.0e3)\n",
    "print(alldat[48:80,64,64,12])"
   ]
  },
  {
   "cell_type": "markdown",
   "metadata": {},
   "source": [
    "## write data to outputfile"
   ]
  },
  {
   "cell_type": "code",
   "execution_count": null,
   "metadata": {},
   "outputs": [],
   "source": [
    "write_sac_ascii('test.ini',alldat,modelinfo)"
   ]
  },
  {
   "cell_type": "markdown",
   "metadata": {},
   "source": [
    "## hydrostatic pressure balance"
   ]
  },
  {
   "cell_type": "code",
   "execution_count": null,
   "metadata": {},
   "outputs": [],
   "source": []
  }
 ],
 "metadata": {
  "kernelspec": {
   "display_name": "Python 2",
   "language": "python",
   "name": "python2"
  },
  "language_info": {
   "codemirror_mode": {
    "name": "ipython",
    "version": 2
   },
   "file_extension": ".py",
   "mimetype": "text/x-python",
   "name": "python",
   "nbconvert_exporter": "python",
   "pygments_lexer": "ipython2",
   "version": "2.7.15"
  }
 },
 "nbformat": 4,
 "nbformat_minor": 2
}

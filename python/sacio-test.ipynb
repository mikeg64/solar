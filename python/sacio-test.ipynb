{
 "cells": [
  {
   "cell_type": "markdown",
   "metadata": {},
   "source": [
    "# Test routines for sacio\n",
    "\n",
    "Testing file readwrite routines for SAC input files"
   ]
  },
  {
   "cell_type": "code",
   "execution_count": null,
   "metadata": {},
   "outputs": [],
   "source": [
    "import os\n",
    "import numpy as np\n",
    "\n",
    "import astropy.table\n",
    "from astropy.table import Table\n",
    "import astropy.units as u\n",
    "from astropy.constants import k_B, m_p\n",
    "import scipy.constants as asc\n",
    "from astropy.table import Table\n",
    "\n",
    "\n",
    "from scipy.interpolate import UnivariateSpline\n",
    "\n",
    "from sacio import *\n",
    "#alldat,modelinfo=read_sac_ascii('../../../configs/hydro/3D_128_spic_asc.ini')"
   ]
  },
  {
   "cell_type": "markdown",
   "metadata": {},
   "source": [
    "### Testing the SAC input output routines\n",
    "\n",
    "write model as binary\n",
    "re-read binary file"
   ]
  },
  {
   "cell_type": "code",
   "execution_count": null,
   "metadata": {},
   "outputs": [],
   "source": [
    "alldat,modelinfo=read_sac_ascii('../../solar-testdata/3D_128_spic_bvertbg100G_asc.ini')\n"
   ]
  },
  {
   "cell_type": "markdown",
   "metadata": {},
   "source": [
    "read in binary output rewrite as ascii re-readascii file"
   ]
  },
  {
   "cell_type": "code",
   "execution_count": null,
   "metadata": {},
   "outputs": [],
   "source": [
    "print(modelinfo)\n",
    "print(np.size(alldat))\n",
    "print(np.shape(alldat))\n",
    "\n",
    "#Display x co-ordinates here vertical section through atmosphere\n",
    "print(alldat[48:80,64,64,0]/1.0e3)"
   ]
  },
  {
   "cell_type": "code",
   "execution_count": null,
   "metadata": {},
   "outputs": [],
   "source": [
    "alldat1,modelinfo1=read_sac_bin('../../solar-testdata/zerospic1__400000.out')"
   ]
  },
  {
   "cell_type": "code",
   "execution_count": null,
   "metadata": {},
   "outputs": [],
   "source": [
    "print(modelinfo1[6])\n",
    "print(np.shape(alldat1))\n",
    "print(alldat1[3,48:80,64,64]/1.0e3)"
   ]
  },
  {
   "cell_type": "markdown",
   "metadata": {},
   "source": [
    "## Test the binary sac output writer"
   ]
  },
  {
   "cell_type": "code",
   "execution_count": null,
   "metadata": {},
   "outputs": [],
   "source": [
    "write_sac_bin('test.out',alldat1,modelinfo1)"
   ]
  },
  {
   "cell_type": "raw",
   "metadata": {},
   "source": [
    "write data to ascii outputfile"
   ]
  },
  {
   "cell_type": "code",
   "execution_count": null,
   "metadata": {},
   "outputs": [],
   "source": [
    "write_sac_ascii('test.ini',alldat1,modelinfo1)"
   ]
  },
  {
   "cell_type": "markdown",
   "metadata": {},
   "source": [
    "### Extracting some of the data fields"
   ]
  },
  {
   "cell_type": "code",
   "execution_count": null,
   "metadata": {},
   "outputs": [],
   "source": [
    "dens=alldat[:,:,:,3]\n",
    "\n",
    "#X=alldat[0,64,:,:]/1.0e6\n",
    "#Y=alldat[1,64,:,:]/1.0e6\n",
    "#vx=alldat[4,64,:,:]/(alldat[3,64,:,:]+alldat[12,64,:,:])\n",
    "#vy=100000*alldat[5,64,:,:]/(alldat[3,64,:,:]+alldat[12,64,:,:])\n",
    "#vz=100000*alldat[6,64,:,:]/(alldat[3,64,:,:]+alldat[12,64,:,:])\n",
    "#rho=(alldat[3,64,:,:])*1.0e12\n",
    "#e=alldat[7,64,:,:]\n",
    "#vx=alldat[4,64,:,:]\n",
    "#dens=(alldat[3,64,:,:]+alldat[12,64,:,:])\n",
    "#bx=alldat[8,64,:,:]*sqrt(mu)*1.0e4\n",
    "#by=alldat[9,64,:,:]*sqrt(mu)*1.0e4\n",
    "#bz=alldat[10,64,:,:]*sqrt(mu)*1.0e4\n",
    "print(alldat[48:80,64,64,12])"
   ]
  },
  {
   "cell_type": "code",
   "execution_count": null,
   "metadata": {},
   "outputs": [],
   "source": []
  }
 ],
 "metadata": {
  "kernelspec": {
   "display_name": "Python 3",
   "language": "python",
   "name": "python3"
  },
  "language_info": {
   "codemirror_mode": {
    "name": "ipython",
    "version": 3
   },
   "file_extension": ".py",
   "mimetype": "text/x-python",
   "name": "python",
   "nbconvert_exporter": "python",
   "pygments_lexer": "ipython3",
   "version": "3.7.7"
  }
 },
 "nbformat": 4,
 "nbformat_minor": 2
}

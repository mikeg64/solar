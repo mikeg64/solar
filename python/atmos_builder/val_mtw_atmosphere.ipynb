{
 "cells": [
  {
   "cell_type": "code",
   "execution_count": null,
   "metadata": {},
   "outputs": [],
   "source": [
    "# -*- coding: utf-8 -*-\n",
    "\"\"\"\n",
    "This is the main module to construct a magnetohydrostatic solar atmosphere,\n",
    "given a specified magnetic network of self-similar magnetic flux tubes and\n",
    "save the output to gdf format.\n",
    "\n",
    "To select an existing configuration change the import as model_pars, set Nxyz,\n",
    "xyz_SI and any other special parameters, then execute mhs_atmopshere.\n",
    "\n",
    "To add new configurations:\n",
    "add the model options to set_options in parameters/options.py;\n",
    "add options required in parameters/model_pars.py;\n",
    "add alternative empirical data sets to hs_model/;\n",
    "add alternativ table than interploate_atmosphere in hs_model/hs_atmosphere.py;\n",
    "add option to get_flux_tubes in mhs_model/flux_tubes.py\n",
    "\n",
    "If an alternative formulation of the flux tube is required add options to\n",
    "construct_magnetic_field and construct_pairwise_field in\n",
    "mhs_model/flux_tubes.py\n",
    "\n",
    "Plotting options are included in plot/mhs_plot.py\n",
    "\"\"\""
   ]
  },
  {
   "cell_type": "code",
   "execution_count": 1,
   "metadata": {},
   "outputs": [],
   "source": [
    "\n",
    "\n",
    "import os\n",
    "import numpy as np\n",
    "import pysac.mhs_atmosphere as atm\n",
    "import astropy.units as u\n",
    "from pysac.mhs_atmosphere.parameters.model_pars import paper2d as model_pars"
   ]
  },
  {
   "cell_type": "code",
   "execution_count": 2,
   "metadata": {},
   "outputs": [],
   "source": [
    "l_mpi = False\n",
    "rank = 0\n",
    "size = 1\n",
    "    \n",
    "\n"
   ]
  },
  {
   "cell_type": "code",
   "execution_count": 3,
   "metadata": {},
   "outputs": [],
   "source": [
    "#==============================================================================\n",
    "#set up model parameters\n",
    "#==============================================================================\n",
    "local_procs=1\n",
    "#standard set of logical switches\n",
    "option_pars = atm.options.set_options(model_pars, l_mpi, l_gdf=True)\n",
    "#standard conversion to dimensionless units and physical constants\n",
    "scales, physical_constants = \\\n",
    "    atm.units_const.get_parameters()\n",
    "\n",
    "#obtain code coordinates and model parameters in astropy units\n",
    "coords = atm.model_pars.get_coords(model_pars['Nxyz'], u.Quantity(model_pars['xyz']))\n",
    "\n",
    "#interpolate the hs 1D profiles from empirical data source[s]\n",
    "empirical_data = atm.hs_atmosphere.read_VAL3c_MTW(mu=physical_constants['mu'])\n",
    "\n",
    "table = \\\n",
    "        atm.hs_atmosphere.interpolate_atmosphere(empirical_data,\n",
    "                                   coords['Zext']\n",
    "                                  )\n",
    "if model_pars['model'] == 'mfe_setup':\n",
    "    table['rho'] = table['rho'] + table['rho'].min()*3.6"
   ]
  },
  {
   "cell_type": "code",
   "execution_count": 4,
   "metadata": {},
   "outputs": [],
   "source": [
    "#==============================================================================\n",
    "#calculate 1d hydrostatic balance from empirical density profile\n",
    "#==============================================================================\n",
    "# the hs pressure balance is enhanced by pressure equivalent to the\n",
    "# residual mean coronal magnetic pressure contribution once the magnetic\n",
    "# field has been applied\n",
    "magp_meanz = np.ones(len(coords['Z'])) * u.one\n",
    "magp_meanz *= model_pars['pBplus']**2/(2*physical_constants['mu0'])\n",
    "\n",
    "pressure_Z, rho_Z, Rgas_Z = atm.hs_atmosphere.vertical_profile(\n",
    "                                                 coords['Z'],\n",
    "                                                 table,\n",
    "                                                 magp_meanz,\n",
    "                                                 physical_constants,\n",
    "                                                 coords['dz']\n",
    "                                                 )"
   ]
  },
  {
   "cell_type": "code",
   "execution_count": 5,
   "metadata": {},
   "outputs": [],
   "source": [
    "#==============================================================================\n",
    "# load flux tube footpoint parameters\n",
    "#==============================================================================\n",
    "# axial location and value of Bz at each footpoint\n",
    "model_pars['B_corona']/=model_pars['nftubes']\n",
    "xi, yi, Si = atm.flux_tubes.get_flux_tubes(\n",
    "                                model_pars,\n",
    "                                coords,\n",
    "                                option_pars\n",
    "                               )\n",
    "#==============================================================================\n",
    "# split domain into processes if mpi\n",
    "#==============================================================================\n",
    "ax, ay, az = np.mgrid[coords['xmin']:coords['xmax']:1j*model_pars['Nxyz'][0],\n",
    "                      coords['ymin']:coords['ymax']:1j*model_pars['Nxyz'][1],\n",
    "                      coords['zmin']:coords['zmax']:1j*model_pars['Nxyz'][2]]"
   ]
  },
  {
   "cell_type": "code",
   "execution_count": 6,
   "metadata": {},
   "outputs": [],
   "source": [
    "x, y, z = ax, ay, az\n",
    "\n",
    "x = u.Quantity(x, unit=coords['xmin'].unit)\n",
    "y = u.Quantity(y, unit=coords['ymin'].unit)\n",
    "z = u.Quantity(z, unit=coords['zmin'].unit)\n",
    "#==============================================================================\n",
    "# initialize zero arrays in which to add magnetic field and mhs adjustments\n",
    "#==============================================================================\n",
    "Bx   = u.Quantity(np.zeros(x.shape), unit=u.T)  # magnetic x-component\n",
    "By   = u.Quantity(np.zeros(x.shape), unit=u.T)  # magnetic y-component\n",
    "Bz   = u.Quantity(np.zeros(x.shape), unit=u.T)  # magnetic z-component\n",
    "pressure_m = u.Quantity(np.zeros(x.shape), unit=u.Pa) # magneto-hydrostatic adjustment to pressure\n",
    "rho_m = u.Quantity(np.zeros(x.shape), unit=u.kg/u.m**3)      # magneto-hydrostatic adjustment to density\n",
    "# initialize zero arrays in which to add balancing forces and magnetic tension\n",
    "Fx   = u.Quantity(np.zeros(x.shape), unit=u.N/u.m**3)  # balancing force x-component\n",
    "Fy   = u.Quantity(np.zeros(x.shape), unit=u.N/u.m**3)  # balancing force y-component\n",
    "# total tension force for comparison with residual balancing force\n",
    "Btensx  = u.Quantity(np.zeros(x.shape), unit=u.N/u.m**3)\n",
    "Btensy  = u.Quantity(np.zeros(x.shape), unit=u.N/u.m**3)"
   ]
  },
  {
   "cell_type": "code",
   "execution_count": 7,
   "metadata": {},
   "outputs": [
    {
     "name": "stdout",
     "output_type": "stream",
     "text": [
      "calculating ij-pair: 0 0\n"
     ]
    },
    {
     "name": "stderr",
     "output_type": "stream",
     "text": [
      "/home/mike/proj/pysac/pysac/mhs_atmosphere/mhs_model/flux_tubes.py:312: Warning: pbbal.max() = 90.0342248086 kg / (m s2)\n",
      "  warnings.warn(\"pbbal.max() = {}\".format(pbbal.max().decompose()), Warning)\n"
     ]
    },
    {
     "name": "stdout",
     "output_type": "stream",
     "text": [
      "calculating ij-pair: 0 1\n",
      "pbbal.max() =  0.0693537676407 A2 T2 / N\n",
      "calculating ij-pair: 0 2\n",
      "pbbal.max() =  0.0693486540176 A2 T2 / N\n",
      "calculating ij-pair: 0 3\n",
      "pbbal.max() =  0.0693144131854 A2 T2 / N\n",
      "calculating ij-pair: 0 4\n",
      "pbbal.max() =  0.069295036155 A2 T2 / N\n",
      "calculating ij-pair: 0 5\n",
      "pbbal.max() =  0.0692966508168 A2 T2 / N\n",
      "calculating ij-pair: 0 6\n",
      "pbbal.max() =  0.0691477853241 A2 T2 / N\n",
      "calculating ij-pair: 0 7\n",
      "pbbal.max() =  0.0691483195345 A2 T2 / N\n",
      "calculating ij-pair: 0 8\n",
      "pbbal.max() =  0.0691185421353 A2 T2 / N\n",
      "calculating ij-pair: 0 9\n",
      "pbbal.max() =  0.0689641264173 A2 T2 / N\n",
      "calculating ij-pair: 0 10\n",
      "pbbal.max() =  0.070113671602 A2 T2 / N\n",
      "calculating ij-pair: 0 11\n",
      "pbbal.max() =  0.0689502006122 A2 T2 / N\n",
      "calculating ij-pair: 0 12\n",
      "pbbal.max() =  0.1264285813 A2 T2 / N\n",
      "calculating ij-pair: 0 13\n",
      "pbbal.max() =  0.12463396894 A2 T2 / N\n",
      "calculating ij-pair: 0 14\n",
      "pbbal.max() =  0.132281540778 A2 T2 / N\n",
      "calculating ij-pair: 0 15\n",
      "pbbal.max() =  0.0701789709186 A2 T2 / N\n",
      "calculating ij-pair: 0 16\n",
      "pbbal.max() =  0.142234574365 A2 T2 / N\n",
      "calculating ij-pair: 0 17\n",
      "pbbal.max() =  0.14257965013 A2 T2 / N\n",
      "calculating ij-pair: 1 1\n"
     ]
    },
    {
     "name": "stderr",
     "output_type": "stream",
     "text": [
      "/home/mike/proj/pysac/pysac/mhs_atmosphere/mhs_model/flux_tubes.py:312: Warning: pbbal.max() = 88.9991040179 kg / (m s2)\n",
      "  warnings.warn(\"pbbal.max() = {}\".format(pbbal.max().decompose()), Warning)\n"
     ]
    },
    {
     "name": "stdout",
     "output_type": "stream",
     "text": [
      "calculating ij-pair: 1 2\n",
      "pbbal.max() =  0.0693610157485 A2 T2 / N\n",
      "calculating ij-pair: 1 3\n",
      "pbbal.max() =  0.0693485425528 A2 T2 / N\n",
      "calculating ij-pair: 1 4\n",
      "pbbal.max() =  0.0693327039021 A2 T2 / N\n",
      "calculating ij-pair: 1 5\n",
      "pbbal.max() =  0.0693317364498 A2 T2 / N\n",
      "calculating ij-pair: 1 6\n",
      "pbbal.max() =  0.0692404947013 A2 T2 / N\n",
      "calculating ij-pair: 1 7\n",
      "pbbal.max() =  0.069237507595 A2 T2 / N\n",
      "calculating ij-pair: 1 8\n",
      "pbbal.max() =  0.0692190396443 A2 T2 / N\n",
      "calculating ij-pair: 1 9\n",
      "pbbal.max() =  0.0688973016546 A2 T2 / N\n",
      "calculating ij-pair: 1 10\n",
      "pbbal.max() =  0.0688983877151 A2 T2 / N\n",
      "calculating ij-pair: 1 11\n",
      "pbbal.max() =  0.0688963639765 A2 T2 / N\n",
      "calculating ij-pair: 1 12\n",
      "pbbal.max() =  0.11685052725 A2 T2 / N\n",
      "calculating ij-pair: 1 13\n",
      "pbbal.max() =  0.114141244893 A2 T2 / N\n",
      "calculating ij-pair: 1 14\n",
      "pbbal.max() =  0.120769573332 A2 T2 / N\n",
      "calculating ij-pair: 1 15\n",
      "pbbal.max() =  0.0688983561537 A2 T2 / N\n",
      "calculating ij-pair: 1 16\n",
      "pbbal.max() =  0.131617809127 A2 T2 / N\n",
      "calculating ij-pair: 1 17\n",
      "pbbal.max() =  0.132488068573 A2 T2 / N\n",
      "calculating ij-pair: 2 2\n"
     ]
    },
    {
     "name": "stderr",
     "output_type": "stream",
     "text": [
      "/home/mike/proj/pysac/pysac/mhs_atmosphere/mhs_model/flux_tubes.py:312: Warning: pbbal.max() = 89.6973456162 kg / (m s2)\n",
      "  warnings.warn(\"pbbal.max() = {}\".format(pbbal.max().decompose()), Warning)\n"
     ]
    },
    {
     "name": "stdout",
     "output_type": "stream",
     "text": [
      "calculating ij-pair: 2 3\n",
      "pbbal.max() =  0.0693524622515 A2 T2 / N\n",
      "calculating ij-pair: 2 4\n",
      "pbbal.max() =  0.0693451544823 A2 T2 / N\n",
      "calculating ij-pair: 2 5\n",
      "pbbal.max() =  0.0693454630368 A2 T2 / N\n",
      "calculating ij-pair: 2 6\n",
      "pbbal.max() =  0.0692487999254 A2 T2 / N\n",
      "calculating ij-pair: 2 7\n",
      "pbbal.max() =  0.0692568693351 A2 T2 / N\n",
      "calculating ij-pair: 2 8\n",
      "pbbal.max() =  0.0692213890002 A2 T2 / N\n",
      "calculating ij-pair: 2 9\n",
      "pbbal.max() =  0.0688965610361 A2 T2 / N\n",
      "calculating ij-pair: 2 10\n",
      "pbbal.max() =  0.0688968303087 A2 T2 / N\n",
      "calculating ij-pair: 2 11\n",
      "pbbal.max() =  0.0688969308337 A2 T2 / N\n",
      "calculating ij-pair: 2 12\n",
      "pbbal.max() =  0.116172988943 A2 T2 / N\n",
      "calculating ij-pair: 2 13\n",
      "pbbal.max() =  0.112604112532 A2 T2 / N\n",
      "calculating ij-pair: 2 14\n",
      "pbbal.max() =  0.119964209108 A2 T2 / N\n",
      "calculating ij-pair: 2 15\n",
      "pbbal.max() =  0.0688965258614 A2 T2 / N\n",
      "calculating ij-pair: 2 16\n",
      "pbbal.max() =  0.130035518491 A2 T2 / N\n",
      "calculating ij-pair: 2 17\n",
      "pbbal.max() =  0.130898336429 A2 T2 / N\n",
      "calculating ij-pair: 3 3\n"
     ]
    },
    {
     "name": "stderr",
     "output_type": "stream",
     "text": [
      "/home/mike/proj/pysac/pysac/mhs_atmosphere/mhs_model/flux_tubes.py:312: Warning: pbbal.max() = 90.2869064893 kg / (m s2)\n",
      "  warnings.warn(\"pbbal.max() = {}\".format(pbbal.max().decompose()), Warning)\n"
     ]
    },
    {
     "name": "stdout",
     "output_type": "stream",
     "text": [
      "calculating ij-pair: 3 4\n",
      "pbbal.max() =  0.0693567890788 A2 T2 / N\n",
      "calculating ij-pair: 3 5\n",
      "pbbal.max() =  0.0693540896855 A2 T2 / N\n",
      "calculating ij-pair: 3 6\n",
      "pbbal.max() =  0.0693126671114 A2 T2 / N\n",
      "calculating ij-pair: 3 7\n",
      "pbbal.max() =  0.0693137842266 A2 T2 / N\n",
      "calculating ij-pair: 3 8\n",
      "pbbal.max() =  0.0692942095623 A2 T2 / N\n",
      "calculating ij-pair: 3 9\n",
      "pbbal.max() =  0.0689410319298 A2 T2 / N\n",
      "calculating ij-pair: 3 10\n",
      "pbbal.max() =  0.068938032084 A2 T2 / N\n",
      "calculating ij-pair: 3 11\n",
      "pbbal.max() =  0.0689558089592 A2 T2 / N\n",
      "calculating ij-pair: 3 12\n",
      "pbbal.max() =  0.100911930914 A2 T2 / N\n",
      "calculating ij-pair: 3 13\n",
      "pbbal.max() =  0.0983337037944 A2 T2 / N\n",
      "calculating ij-pair: 3 14\n",
      "pbbal.max() =  0.103421305037 A2 T2 / N\n",
      "calculating ij-pair: 3 15\n",
      "pbbal.max() =  0.068940719178 A2 T2 / N\n",
      "calculating ij-pair: 3 16\n",
      "pbbal.max() =  0.118421911794 A2 T2 / N\n",
      "calculating ij-pair: 3 17\n",
      "pbbal.max() =  0.119073135707 A2 T2 / N\n",
      "calculating ij-pair: 4 4\n"
     ]
    },
    {
     "name": "stderr",
     "output_type": "stream",
     "text": [
      "/home/mike/proj/pysac/pysac/mhs_atmosphere/mhs_model/flux_tubes.py:312: Warning: pbbal.max() = 89.9337773984 kg / (m s2)\n",
      "  warnings.warn(\"pbbal.max() = {}\".format(pbbal.max().decompose()), Warning)\n"
     ]
    },
    {
     "name": "stdout",
     "output_type": "stream",
     "text": [
      "calculating ij-pair: 4 5\n",
      "pbbal.max() =  0.0693631146407 A2 T2 / N\n",
      "calculating ij-pair: 4 6\n",
      "pbbal.max() =  0.0693071800719 A2 T2 / N\n",
      "calculating ij-pair: 4 7\n",
      "pbbal.max() =  0.0693256293316 A2 T2 / N\n",
      "calculating ij-pair: 4 8\n",
      "pbbal.max() =  0.0692785609019 A2 T2 / N\n",
      "calculating ij-pair: 4 9\n",
      "pbbal.max() =  0.0689369997466 A2 T2 / N\n",
      "calculating ij-pair: 4 10\n",
      "pbbal.max() =  0.068938980813 A2 T2 / N\n",
      "calculating ij-pair: 4 11\n",
      "pbbal.max() =  0.0689596271103 A2 T2 / N\n",
      "calculating ij-pair: 4 12\n",
      "pbbal.max() =  0.101619594241 A2 T2 / N\n",
      "calculating ij-pair: 4 13\n",
      "pbbal.max() =  0.0983481007446 A2 T2 / N\n",
      "calculating ij-pair: 4 14\n",
      "pbbal.max() =  0.103468423857 A2 T2 / N\n",
      "calculating ij-pair: 4 15\n",
      "pbbal.max() =  0.0689484941555 A2 T2 / N\n",
      "calculating ij-pair: 4 16\n",
      "pbbal.max() =  0.11814350364 A2 T2 / N\n",
      "calculating ij-pair: 4 17\n",
      "pbbal.max() =  0.118650605383 A2 T2 / N\n",
      "calculating ij-pair: 5 5\n"
     ]
    },
    {
     "name": "stderr",
     "output_type": "stream",
     "text": [
      "/home/mike/proj/pysac/pysac/mhs_atmosphere/mhs_model/flux_tubes.py:312: Warning: pbbal.max() = 90.133677198 kg / (m s2)\n",
      "  warnings.warn(\"pbbal.max() = {}\".format(pbbal.max().decompose()), Warning)\n"
     ]
    },
    {
     "name": "stdout",
     "output_type": "stream",
     "text": [
      "calculating ij-pair: 5 6\n",
      "pbbal.max() =  0.0692975653395 A2 T2 / N\n",
      "calculating ij-pair: 5 7\n",
      "pbbal.max() =  0.0693201360344 A2 T2 / N\n",
      "calculating ij-pair: 5 8\n",
      "pbbal.max() =  0.0692658252057 A2 T2 / N\n",
      "calculating ij-pair: 5 9\n",
      "pbbal.max() =  0.0689245828731 A2 T2 / N\n",
      "calculating ij-pair: 5 10\n",
      "pbbal.max() =  0.068926873636 A2 T2 / N\n",
      "calculating ij-pair: 5 11\n",
      "pbbal.max() =  0.068945362853 A2 T2 / N\n",
      "calculating ij-pair: 5 12\n",
      "pbbal.max() =  0.103000359256 A2 T2 / N\n",
      "calculating ij-pair: 5 13\n",
      "pbbal.max() =  0.100320730238 A2 T2 / N\n",
      "calculating ij-pair: 5 14\n",
      "pbbal.max() =  0.104426114338 A2 T2 / N\n",
      "calculating ij-pair: 5 15\n",
      "pbbal.max() =  0.0689361306199 A2 T2 / N\n",
      "calculating ij-pair: 5 16\n",
      "pbbal.max() =  0.119965473454 A2 T2 / N\n",
      "calculating ij-pair: 5 17\n",
      "pbbal.max() =  0.120365886093 A2 T2 / N\n",
      "calculating ij-pair: 6 6\n"
     ]
    },
    {
     "name": "stderr",
     "output_type": "stream",
     "text": [
      "/home/mike/proj/pysac/pysac/mhs_atmosphere/mhs_model/flux_tubes.py:312: Warning: pbbal.max() = 90.2084302783 kg / (m s2)\n",
      "  warnings.warn(\"pbbal.max() = {}\".format(pbbal.max().decompose()), Warning)\n"
     ]
    },
    {
     "name": "stdout",
     "output_type": "stream",
     "text": [
      "calculating ij-pair: 6 7\n",
      "pbbal.max() =  0.0693526175492 A2 T2 / N\n",
      "calculating ij-pair: 6 8\n",
      "pbbal.max() =  0.0693594628262 A2 T2 / N\n",
      "calculating ij-pair: 6 9\n",
      "pbbal.max() =  0.0691985217597 A2 T2 / N\n",
      "calculating ij-pair: 6 10\n",
      "pbbal.max() =  0.0691951934507 A2 T2 / N\n",
      "calculating ij-pair: 6 11\n",
      "pbbal.max() =  0.0692125796255 A2 T2 / N\n",
      "calculating ij-pair: 6 12\n",
      "pbbal.max() =  0.0689281000982 A2 T2 / N\n",
      "calculating ij-pair: 6 13\n",
      "pbbal.max() =  0.0689123943492 A2 T2 / N\n",
      "calculating ij-pair: 6 14\n",
      "pbbal.max() =  0.0689554339686 A2 T2 / N\n",
      "calculating ij-pair: 6 15\n",
      "pbbal.max() =  0.0691955937986 A2 T2 / N\n",
      "calculating ij-pair: 6 16\n",
      "pbbal.max() =  0.0816231463486 A2 T2 / N\n",
      "calculating ij-pair: 6 17\n",
      "pbbal.max() =  0.0820416611512 A2 T2 / N\n",
      "calculating ij-pair: 7 7\n"
     ]
    },
    {
     "name": "stderr",
     "output_type": "stream",
     "text": [
      "/home/mike/proj/pysac/pysac/mhs_atmosphere/mhs_model/flux_tubes.py:312: Warning: pbbal.max() = 90.1069613412 kg / (m s2)\n",
      "  warnings.warn(\"pbbal.max() = {}\".format(pbbal.max().decompose()), Warning)\n"
     ]
    },
    {
     "name": "stdout",
     "output_type": "stream",
     "text": [
      "calculating ij-pair: 7 8\n",
      "pbbal.max() =  0.0693351582892 A2 T2 / N\n",
      "calculating ij-pair: 7 9\n",
      "pbbal.max() =  0.0691540673647 A2 T2 / N\n",
      "calculating ij-pair: 7 10\n",
      "pbbal.max() =  0.0691614331731 A2 T2 / N\n",
      "calculating ij-pair: 7 11\n",
      "pbbal.max() =  0.0691858768573 A2 T2 / N\n",
      "calculating ij-pair: 7 12\n",
      "pbbal.max() =  0.0709718147031 A2 T2 / N\n",
      "calculating ij-pair: 7 13\n",
      "pbbal.max() =  0.0689391161489 A2 T2 / N\n",
      "calculating ij-pair: 7 14\n",
      "pbbal.max() =  0.0748695688089 A2 T2 / N\n",
      "calculating ij-pair: 7 15\n",
      "pbbal.max() =  0.0691766322959 A2 T2 / N\n",
      "calculating ij-pair: 7 16\n",
      "pbbal.max() =  0.087982160471 A2 T2 / N\n",
      "calculating ij-pair: 7 17\n",
      "pbbal.max() =  0.088903343888 A2 T2 / N\n",
      "calculating ij-pair: 8 8\n"
     ]
    },
    {
     "name": "stderr",
     "output_type": "stream",
     "text": [
      "/home/mike/proj/pysac/pysac/mhs_atmosphere/mhs_model/flux_tubes.py:312: Warning: pbbal.max() = 89.8701992939 kg / (m s2)\n",
      "  warnings.warn(\"pbbal.max() = {}\".format(pbbal.max().decompose()), Warning)\n"
     ]
    },
    {
     "name": "stdout",
     "output_type": "stream",
     "text": [
      "calculating ij-pair: 8 9\n",
      "pbbal.max() =  0.0692236644303 A2 T2 / N\n",
      "calculating ij-pair: 8 10\n",
      "pbbal.max() =  0.0692147872103 A2 T2 / N\n",
      "calculating ij-pair: 8 11\n",
      "pbbal.max() =  0.0692276707759 A2 T2 / N\n",
      "calculating ij-pair: 8 12\n",
      "pbbal.max() =  0.0689061935482 A2 T2 / N\n",
      "calculating ij-pair: 8 13\n",
      "pbbal.max() =  0.0689002939419 A2 T2 / N\n",
      "calculating ij-pair: 8 14\n",
      "pbbal.max() =  0.0689272460993 A2 T2 / N\n",
      "calculating ij-pair: 8 15\n",
      "pbbal.max() =  0.0692069376118 A2 T2 / N\n",
      "calculating ij-pair: 8 16\n",
      "pbbal.max() =  0.0794332984195 A2 T2 / N\n",
      "calculating ij-pair: 8 17\n",
      "pbbal.max() =  0.0800860842063 A2 T2 / N\n",
      "calculating ij-pair: 9 9\n"
     ]
    },
    {
     "name": "stderr",
     "output_type": "stream",
     "text": [
      "/home/mike/proj/pysac/pysac/mhs_atmosphere/mhs_model/flux_tubes.py:312: Warning: pbbal.max() = 90.1834970063 kg / (m s2)\n",
      "  warnings.warn(\"pbbal.max() = {}\".format(pbbal.max().decompose()), Warning)\n"
     ]
    },
    {
     "name": "stdout",
     "output_type": "stream",
     "text": [
      "calculating ij-pair: 9 10\n",
      "pbbal.max() =  0.0693616240729 A2 T2 / N\n",
      "calculating ij-pair: 9 11\n",
      "pbbal.max() =  0.0693590794425 A2 T2 / N\n",
      "calculating ij-pair: 9 12\n",
      "pbbal.max() =  0.069186139183 A2 T2 / N\n",
      "calculating ij-pair: 9 13\n",
      "pbbal.max() =  0.0692073166443 A2 T2 / N\n",
      "calculating ij-pair: 9 14\n",
      "pbbal.max() =  0.0691590450326 A2 T2 / N\n",
      "calculating ij-pair: 9 15\n",
      "pbbal.max() =  0.0693533904151 A2 T2 / N\n",
      "calculating ij-pair: 9 16\n",
      "pbbal.max() =  0.0690418269596 A2 T2 / N\n",
      "calculating ij-pair: 9 17\n",
      "pbbal.max() =  0.0690336191487 A2 T2 / N\n",
      "calculating ij-pair: 10 10\n"
     ]
    },
    {
     "name": "stderr",
     "output_type": "stream",
     "text": [
      "/home/mike/proj/pysac/pysac/mhs_atmosphere/mhs_model/flux_tubes.py:312: Warning: pbbal.max() = 89.9428642554 kg / (m s2)\n",
      "  warnings.warn(\"pbbal.max() = {}\".format(pbbal.max().decompose()), Warning)\n"
     ]
    },
    {
     "name": "stdout",
     "output_type": "stream",
     "text": [
      "calculating ij-pair: 10 11\n",
      "pbbal.max() =  0.0693626574779 A2 T2 / N\n",
      "calculating ij-pair: 10 12\n",
      "pbbal.max() =  0.0691797707851 A2 T2 / N\n",
      "calculating ij-pair: 10 13\n",
      "pbbal.max() =  0.0692097798105 A2 T2 / N\n",
      "calculating ij-pair: 10 14\n",
      "pbbal.max() =  0.0691612517353 A2 T2 / N\n",
      "calculating ij-pair: 10 15\n",
      "pbbal.max() =  0.0693602176543 A2 T2 / N\n",
      "calculating ij-pair: 10 16\n",
      "pbbal.max() =  0.0690493702553 A2 T2 / N\n",
      "calculating ij-pair: 10 17\n",
      "pbbal.max() =  0.0690426988205 A2 T2 / N\n",
      "calculating ij-pair: 11 11\n"
     ]
    },
    {
     "name": "stderr",
     "output_type": "stream",
     "text": [
      "/home/mike/proj/pysac/pysac/mhs_atmosphere/mhs_model/flux_tubes.py:312: Warning: pbbal.max() = 89.8488593584 kg / (m s2)\n",
      "  warnings.warn(\"pbbal.max() = {}\".format(pbbal.max().decompose()), Warning)\n"
     ]
    },
    {
     "name": "stdout",
     "output_type": "stream",
     "text": [
      "calculating ij-pair: 11 12\n",
      "pbbal.max() =  0.0691526281564 A2 T2 / N\n",
      "calculating ij-pair: 11 13\n",
      "pbbal.max() =  0.0691885277536 A2 T2 / N\n",
      "calculating ij-pair: 11 14\n",
      "pbbal.max() =  0.0691359940184 A2 T2 / N\n",
      "calculating ij-pair: 11 15\n",
      "pbbal.max() =  0.0693620606097 A2 T2 / N\n",
      "calculating ij-pair: 11 16\n",
      "pbbal.max() =  0.0690206682052 A2 T2 / N\n",
      "calculating ij-pair: 11 17\n",
      "pbbal.max() =  0.0690152282108 A2 T2 / N\n",
      "calculating ij-pair: 12 12\n"
     ]
    },
    {
     "name": "stderr",
     "output_type": "stream",
     "text": [
      "/home/mike/proj/pysac/pysac/mhs_atmosphere/mhs_model/flux_tubes.py:312: Warning: pbbal.max() = 90.1681931002 kg / (m s2)\n",
      "  warnings.warn(\"pbbal.max() = {}\".format(pbbal.max().decompose()), Warning)\n"
     ]
    },
    {
     "name": "stdout",
     "output_type": "stream",
     "text": [
      "calculating ij-pair: 12 13\n",
      "pbbal.max() =  0.0693561037958 A2 T2 / N\n",
      "calculating ij-pair: 12 14\n",
      "pbbal.max() =  0.0693565471552 A2 T2 / N\n",
      "calculating ij-pair: 12 15\n",
      "pbbal.max() =  0.069152020772 A2 T2 / N\n",
      "calculating ij-pair: 12 16\n",
      "pbbal.max() =  0.0693345652804 A2 T2 / N\n",
      "calculating ij-pair: 12 17\n",
      "pbbal.max() =  0.0693296266383 A2 T2 / N\n",
      "calculating ij-pair: 13 13\n"
     ]
    },
    {
     "name": "stderr",
     "output_type": "stream",
     "text": [
      "/home/mike/proj/pysac/pysac/mhs_atmosphere/mhs_model/flux_tubes.py:312: Warning: pbbal.max() = 88.8438121956 kg / (m s2)\n",
      "  warnings.warn(\"pbbal.max() = {}\".format(pbbal.max().decompose()), Warning)\n"
     ]
    },
    {
     "name": "stdout",
     "output_type": "stream",
     "text": [
      "calculating ij-pair: 13 14\n",
      "pbbal.max() =  0.069361062094 A2 T2 / N\n",
      "calculating ij-pair: 13 15\n",
      "pbbal.max() =  0.0691948440715 A2 T2 / N\n",
      "calculating ij-pair: 13 16\n",
      "pbbal.max() =  0.0693424725355 A2 T2 / N\n",
      "calculating ij-pair: 13 17\n",
      "pbbal.max() =  0.0693399737563 A2 T2 / N\n",
      "calculating ij-pair: 14 14\n"
     ]
    },
    {
     "name": "stderr",
     "output_type": "stream",
     "text": [
      "/home/mike/proj/pysac/pysac/mhs_atmosphere/mhs_model/flux_tubes.py:312: Warning: pbbal.max() = 89.6384563636 kg / (m s2)\n",
      "  warnings.warn(\"pbbal.max() = {}\".format(pbbal.max().decompose()), Warning)\n"
     ]
    },
    {
     "name": "stdout",
     "output_type": "stream",
     "text": [
      "calculating ij-pair: 14 15\n",
      "pbbal.max() =  0.0691435567547 A2 T2 / N\n",
      "calculating ij-pair: 14 16\n",
      "pbbal.max() =  0.0693536287872 A2 T2 / N\n",
      "calculating ij-pair: 14 17\n",
      "pbbal.max() =  0.0693514407995 A2 T2 / N\n",
      "calculating ij-pair: 15 15\n"
     ]
    },
    {
     "name": "stderr",
     "output_type": "stream",
     "text": [
      "/home/mike/proj/pysac/pysac/mhs_atmosphere/mhs_model/flux_tubes.py:312: Warning: pbbal.max() = 90.2595742968 kg / (m s2)\n",
      "  warnings.warn(\"pbbal.max() = {}\".format(pbbal.max().decompose()), Warning)\n"
     ]
    },
    {
     "name": "stdout",
     "output_type": "stream",
     "text": [
      "calculating ij-pair: 15 16\n",
      "pbbal.max() =  0.0690344126573 A2 T2 / N\n",
      "calculating ij-pair: 15 17\n",
      "pbbal.max() =  0.0690301653587 A2 T2 / N\n",
      "calculating ij-pair: 16 16\n"
     ]
    },
    {
     "name": "stderr",
     "output_type": "stream",
     "text": [
      "/home/mike/proj/pysac/pysac/mhs_atmosphere/mhs_model/flux_tubes.py:312: Warning: pbbal.max() = 90.1155859501 kg / (m s2)\n",
      "  warnings.warn(\"pbbal.max() = {}\".format(pbbal.max().decompose()), Warning)\n"
     ]
    },
    {
     "name": "stdout",
     "output_type": "stream",
     "text": [
      "calculating ij-pair: 16 17\n",
      "pbbal.max() =  0.0693632529976 A2 T2 / N\n",
      "calculating ij-pair: 17 17\n"
     ]
    },
    {
     "name": "stderr",
     "output_type": "stream",
     "text": [
      "/home/mike/proj/pysac/pysac/mhs_atmosphere/mhs_model/flux_tubes.py:312: Warning: pbbal.max() = 89.3075414857 kg / (m s2)\n",
      "  warnings.warn(\"pbbal.max() = {}\".format(pbbal.max().decompose()), Warning)\n"
     ]
    }
   ],
   "source": [
    "#==============================================================================\n",
    "#calculate the magnetic field and pressure/density balancing expressions\n",
    "#==============================================================================\n",
    "for i in range(0,model_pars['nftubes']):\n",
    "    for j in range(i,model_pars['nftubes']):\n",
    "        if rank == 0:\n",
    "            print'calculating ij-pair:',i,j\n",
    "        if i == j:\n",
    "            pressure_mi, rho_mi, Bxi, Byi ,Bzi, B2x, B2y =\\\n",
    "                atm.flux_tubes.construct_magnetic_field(\n",
    "                                             x, y, z,\n",
    "                                             xi[i], yi[i], Si[i],\n",
    "                                             model_pars, option_pars,\n",
    "                                             physical_constants,\n",
    "                                             scales\n",
    "                                            )\n",
    "            Bx, By, Bz = Bxi+Bx, Byi+By ,Bzi+Bz\n",
    "            Btensx += B2x\n",
    "            Btensy += B2y\n",
    "            pressure_m += pressure_mi\n",
    "            rho_m += rho_mi\n",
    "        else:\n",
    "            pressure_mi, rho_mi, Fxi, Fyi, B2x, B2y =\\\n",
    "                atm.flux_tubes.construct_pairwise_field(\n",
    "                                             x, y, z,\n",
    "                                             xi[i], yi[i],\n",
    "                                             xi[j], yi[j], Si[i], Si[j],\n",
    "                                             model_pars,\n",
    "                                             option_pars,\n",
    "                                             physical_constants,\n",
    "                                             scales\n",
    "                                            )\n",
    "            pressure_m += pressure_mi\n",
    "            rho_m += rho_mi\n",
    "            Fx   += Fxi\n",
    "            Fy   += Fyi\n",
    "            Btensx += B2x\n",
    "            Btensy += B2y\n",
    "\n",
    "# clear some memory\n",
    "del pressure_mi, rho_mi, Bxi, Byi ,Bzi, B2x, B2y"
   ]
  },
  {
   "cell_type": "code",
   "execution_count": 8,
   "metadata": {},
   "outputs": [
    {
     "ename": "NameError",
     "evalue": "name 'asc' is not defined",
     "output_type": "error",
     "traceback": [
      "\u001b[0;31m---------------------------------------------------------------------------\u001b[0m",
      "\u001b[0;31mNameError\u001b[0m                                 Traceback (most recent call last)",
      "\u001b[0;32m<ipython-input-8-ed20ce9fcf26>\u001b[0m in \u001b[0;36m<module>\u001b[0;34m()\u001b[0m\n\u001b[0;32m----> 1\u001b[0;31m \u001b[0;32mprint\u001b[0m \u001b[0masc\u001b[0m\u001b[0;34m\u001b[0m\u001b[0m\n\u001b[0m",
      "\u001b[0;31mNameError\u001b[0m: name 'asc' is not defined"
     ]
    }
   ],
   "source": [
    "print asc"
   ]
  },
  {
   "cell_type": "code",
   "execution_count": null,
   "metadata": {},
   "outputs": [],
   "source": [
    "#==============================================================================\n",
    "# Construct 3D hs arrays and then add the mhs adjustments to obtain atmosphere\n",
    "#==============================================================================\n",
    "# select the 1D array spanning the local mpi process; the add/sub of dz to\n",
    "# ensure all indices are used, but only once\n",
    "indz = np.where(coords['Z'] >= z.min()-0.1*coords['dz']) and \\\n",
    "       np.where(coords['Z'] <= z.max()+0.1*coords['dz'])\n",
    "pressure_z, rho_z, Rgas_z = pressure_Z[indz], rho_Z[indz], Rgas_Z[indz]\n",
    "# local proc 3D mhs arrays\n",
    "pressure, rho = atm.mhs_3D.mhs_3D_profile(z,\n",
    "                                   pressure_z,\n",
    "                                   rho_z,\n",
    "                                   pressure_m,\n",
    "                                   rho_m\n",
    "                                  )\n",
    "magp = (Bx**2 + By**2 + Bz**2)/(2.*physical_constants['mu0'])\n",
    "if rank ==0:\n",
    "    print'max B corona = ',magp[:,:,-1].max().decompose()\n",
    "    print'min B corona = ',magp[:,:,-1].min().decompose()\n",
    "energy = atm.mhs_3D.get_internal_energy(pressure,\n",
    "                                                  magp,\n",
    "                                                  physical_constants)"
   ]
  },
  {
   "cell_type": "code",
   "execution_count": null,
   "metadata": {},
   "outputs": [],
   "source": [
    "#============================================================================\n",
    "# Save data for SAC and plotting\n",
    "#============================================================================\n",
    "# set up data directory and file names\n",
    "# may be worthwhile locating on /data if files are large\n",
    "datadir = os.path.expanduser('~/Documents/mhs_atmosphere/'+model_pars['model']+'/')\n",
    "filename = datadir + model_pars['model'] + option_pars['suffix']\n",
    "if not os.path.exists(datadir):\n",
    "    os.makedirs(datadir)\n",
    "sourcefile = datadir + model_pars['model'] + '_sources' + option_pars['suffix']\n",
    "aux3D = datadir + model_pars['model'] + '_3Daux' + option_pars['suffix']\n",
    "aux1D = datadir + model_pars['model'] + '_1Daux' + option_pars['suffix']\n",
    "# save the variables for the initialisation of a SAC simulation\n",
    "atm.mhs_snapshot.save_SACvariables(\n",
    "              filename,\n",
    "              rho,\n",
    "              Bx,\n",
    "              By,\n",
    "              Bz,\n",
    "              energy,\n",
    "              option_pars,\n",
    "              physical_constants,\n",
    "              coords,\n",
    "              model_pars['Nxyz']\n",
    "             )\n",
    "# save the balancing forces as the background source terms for SAC simulation\n",
    "atm.mhs_snapshot.save_SACsources(\n",
    "              sourcefile,\n",
    "              Fx,\n",
    "              Fy,\n",
    "              option_pars,\n",
    "              physical_constants,\n",
    "              coords,\n",
    "              model_pars['Nxyz']\n",
    "             )\n",
    "# save auxilliary variable and 1D profiles for plotting and analysis\n",
    "Rgas = u.Quantity(np.zeros(x.shape), unit=Rgas_z.unit)\n",
    "Rgas[:] = Rgas_z\n",
    "temperature = pressure/rho/Rgas\n",
    "if not option_pars['l_hdonly']:\n",
    "    inan = np.where(magp <=1e-7*pressure.min())\n",
    "    magpbeta = magp\n",
    "    magpbeta[inan] = 1e-7*pressure.min()  # low pressure floor to avoid NaN\n",
    "    pbeta  = pressure/magpbeta\n",
    "else:\n",
    "    pbeta  = magp+1.0    #dummy to avoid NaN\n",
    "alfven = np.sqrt(2.*magp/rho)\n",
    "#if rank == 0:\n",
    "#    print'Alfven speed Z.min to Z.max =',\\\n",
    "#    alfven[model_pars['Nxyz'][0]/2,model_pars['Nxyz'][1]/2, 0].decompose(),\\\n",
    "#    alfven[model_pars['Nxyz'][0]/2,model_pars['Nxyz'][1]/2,-1].decompose()\n",
    "cspeed = np.sqrt(physical_constants['gamma']*pressure/rho)\n"
   ]
  },
  {
   "cell_type": "code",
   "execution_count": null,
   "metadata": {},
   "outputs": [],
   "source": []
  },
  {
   "cell_type": "code",
   "execution_count": null,
   "metadata": {},
   "outputs": [],
   "source": [
    "atm.mhs_snapshot.save_auxilliary3D(\n",
    "              aux3D,\n",
    "              pressure_m,\n",
    "              rho_m,\n",
    "              temperature,\n",
    "              pbeta,\n",
    "              alfven,\n",
    "              cspeed,\n",
    "              Btensx,\n",
    "              Btensy,\n",
    "              option_pars,\n",
    "              physical_constants,\n",
    "              coords,\n",
    "              model_pars['Nxyz']\n",
    "             )\n",
    "atm.mhs_snapshot.save_auxilliary1D(\n",
    "              aux1D,\n",
    "              pressure_Z,\n",
    "              rho_Z,\n",
    "              Rgas_Z,\n",
    "              option_pars,\n",
    "              physical_constants,\n",
    "              coords,\n",
    "              model_pars['Nxyz']\n",
    "             )\n",
    "if rho.min()<0 or pressure.min()<0:\n",
    "    print\"FAIL: negative rho.min() {} and/or pressure.min() {}.\".format(\n",
    "    rho.min(),pressure.min())\n",
    "FWHM = 2*np.sqrt(np.log(2))*model_pars['radial_scale']\n",
    "print'FWHM(0) =',FWHM"
   ]
  }
 ],
 "metadata": {
  "kernelspec": {
   "display_name": "Python 3 (ipykernel)",
   "language": "python",
   "name": "python3"
  },
  "language_info": {
   "codemirror_mode": {
    "name": "ipython",
    "version": 3
   },
   "file_extension": ".py",
   "mimetype": "text/x-python",
   "name": "python",
   "nbconvert_exporter": "python",
   "pygments_lexer": "ipython3",
   "version": "3.9.13"
  }
 },
 "nbformat": 4,
 "nbformat_minor": 2
}

{
 "cells": [
  {
   "cell_type": "code",
   "execution_count": 1,
   "metadata": {},
   "outputs": [
    {
     "ename": "SyntaxError",
     "evalue": "invalid syntax (hs_atmosphere.py, line 23)",
     "output_type": "error",
     "traceback": [
      "\u001b[0;36m  File \u001b[0;32m\"hs_atmosphere.py\"\u001b[0;36m, line \u001b[0;32m23\u001b[0m\n\u001b[0;31m    print(b, end=' ')\u001b[0m\n\u001b[0m                ^\u001b[0m\n\u001b[0;31mSyntaxError\u001b[0m\u001b[0;31m:\u001b[0m invalid syntax\n"
     ]
    }
   ],
   "source": [
    "import os\n",
    "import numpy as np\n",
    "\n",
    "import astropy.table\n",
    "from astropy.table import Table\n",
    "import astropy.units as u\n",
    "from astropy.constants import k_B, m_p\n",
    "\n",
    "\n",
    "\n",
    "from scipy.interpolate import UnivariateSpline\n",
    "import hs_atmosphere as atm\n",
    "from hs_atmosphere import fib\n",
    "\n",
    "__all__ = ['read_VAL3c_MTW', 'interpolate_atmosphere', 'get_spruit_hs', 'vertical_profile']"
   ]
  },
  {
   "cell_type": "code",
   "execution_count": 4,
   "metadata": {},
   "outputs": [],
   "source": [
    "#============================================================================\n",
    "    # Dimensional units in terms of SI\n",
    "#============================================================================\n",
    "scales   = {\n",
    "            'length':         1e2*u.Mm,\n",
    "            'density':        1e-4*u.kg/u.m**3,\n",
    "            'velocity':       1e2*u.m/u.s,\n",
    "            'temperature':    1.0*u.K, \n",
    "            'magnetic':       1e-3*u.T #mT\n",
    "           }\n",
    "scales['energy density'] = scales['density'] * scales['velocity']**2\n",
    "scales['time'] = scales['length'] / scales['velocity'] \n",
    "scales['mass'] = scales['density'] * scales['length']**3 \n",
    "scales['force density'] = scales['density'] * scales['velocity'] / \\\n",
    "                       scales['time'] #D momentum/Dt force density balance \n",
    "#============================================================================\n",
    "# physical constants\n",
    "#============================================================================\n",
    "physical_constants = {'gamma':      5.0/3.0         , \n",
    "                        'mu':         0.602           , \n",
    "                      #  'mu0':        asc.mu0         , \n",
    "                      #  'boltzmann':  asc.k_B         ,\n",
    "                      #  'proton_mass':asc.m_p         ,\n",
    "                        'gravity':    -2.74e2*u.m/u.s/u.s\n",
    "                        }\n"
   ]
  },
  {
   "cell_type": "code",
   "execution_count": 7,
   "metadata": {},
   "outputs": [
    {
     "name": "stdout",
     "output_type": "stream",
     "text": [
      "hs_atmosphere\n",
      "1 1 2 3 5 8 13 21 34 55 89 144 233 377 610 987 \n"
     ]
    }
   ],
   "source": [
    "print(atm.__name__)\n",
    "\n",
    "atm.fib(1000)"
   ]
  },
  {
   "cell_type": "code",
   "execution_count": 10,
   "metadata": {},
   "outputs": [
    {
     "ename": "AttributeError",
     "evalue": "module 'hs_atmosphere' has no attribute 'options'",
     "output_type": "error",
     "traceback": [
      "\u001b[0;31m---------------------------------------------------------------------------\u001b[0m",
      "\u001b[0;31mAttributeError\u001b[0m                            Traceback (most recent call last)",
      "\u001b[0;32m<ipython-input-10-bb407147b6b1>\u001b[0m in \u001b[0;36m<module>\u001b[0;34m()\u001b[0m\n\u001b[1;32m      7\u001b[0m \u001b[0mlocal_procs\u001b[0m\u001b[0;34m=\u001b[0m\u001b[0;36m1\u001b[0m\u001b[0;34m\u001b[0m\u001b[0m\n\u001b[1;32m      8\u001b[0m \u001b[0;31m#standard set of logical switches\u001b[0m\u001b[0;34m\u001b[0m\u001b[0;34m\u001b[0m\u001b[0m\n\u001b[0;32m----> 9\u001b[0;31m \u001b[0moption_pars\u001b[0m \u001b[0;34m=\u001b[0m \u001b[0matm\u001b[0m\u001b[0;34m.\u001b[0m\u001b[0moptions\u001b[0m\u001b[0;34m.\u001b[0m\u001b[0mset_options\u001b[0m\u001b[0;34m(\u001b[0m\u001b[0mmodel_pars\u001b[0m\u001b[0;34m,\u001b[0m \u001b[0ml_mpi\u001b[0m\u001b[0;34m,\u001b[0m \u001b[0ml_gdf\u001b[0m\u001b[0;34m=\u001b[0m\u001b[0;32mTrue\u001b[0m\u001b[0;34m)\u001b[0m\u001b[0;34m\u001b[0m\u001b[0m\n\u001b[0m\u001b[1;32m     10\u001b[0m \u001b[0;31m#standard conversion to dimensionless units and physical constants\u001b[0m\u001b[0;34m\u001b[0m\u001b[0;34m\u001b[0m\u001b[0m\n\u001b[1;32m     11\u001b[0m \u001b[0mscales\u001b[0m\u001b[0;34m,\u001b[0m \u001b[0mphysical_constants\u001b[0m \u001b[0;34m=\u001b[0m \u001b[0matm\u001b[0m\u001b[0;34m.\u001b[0m\u001b[0munits_const\u001b[0m\u001b[0;34m.\u001b[0m\u001b[0mget_parameters\u001b[0m\u001b[0;34m(\u001b[0m\u001b[0;34m)\u001b[0m\u001b[0;34m\u001b[0m\u001b[0m\n",
      "\u001b[0;31mAttributeError\u001b[0m: module 'hs_atmosphere' has no attribute 'options'"
     ]
    }
   ],
   "source": [
    "    l_mpi = False\n",
    "    rank = 0\n",
    "    size = 1\n",
    "#==============================================================================\n",
    "#set up model parameters\n",
    "#==============================================================================\n",
    "local_procs=1\n",
    "#standard set of logical switches\n",
    "option_pars = atm.options.set_options(model_pars, l_mpi, l_gdf=True)\n",
    "#standard conversion to dimensionless units and physical constants\n",
    "scales, physical_constants = \\\n",
    "    atm.units_const.get_parameters()\n",
    "\n",
    "#obtain code coordinates and model parameters in astropy units\n",
    "coords = atm.model_pars.get_coords(model_pars['Nxyz'], u.Quantity(model_pars['xyz']))\n",
    "\n",
    "#interpolate the hs 1D profiles from empirical data source[s]\n",
    "empirical_data = atm.hs_atmosphere.read_VAL3c_MTW(mu=physical_constants['mu'])"
   ]
  },
  {
   "cell_type": "code",
   "execution_count": 9,
   "metadata": {},
   "outputs": [
    {
     "ename": "AttributeError",
     "evalue": "module 'hs_atmosphere' has no attribute 'get_logical'",
     "output_type": "error",
     "traceback": [
      "\u001b[0;31m---------------------------------------------------------------------------\u001b[0m",
      "\u001b[0;31mAttributeError\u001b[0m                            Traceback (most recent call last)",
      "\u001b[0;32m<ipython-input-9-0511593448ba>\u001b[0m in \u001b[0;36m<module>\u001b[0;34m()\u001b[0m\n\u001b[1;32m      3\u001b[0m \u001b[0mlocal_procs\u001b[0m\u001b[0;34m=\u001b[0m\u001b[0;36m1\u001b[0m\u001b[0;34m\u001b[0m\u001b[0m\n\u001b[1;32m      4\u001b[0m \u001b[0;31m#standard set of logical switches\u001b[0m\u001b[0;34m\u001b[0m\u001b[0;34m\u001b[0m\u001b[0m\n\u001b[0;32m----> 5\u001b[0;31m \u001b[0mlogical_pars\u001b[0m \u001b[0;34m=\u001b[0m \u001b[0matm\u001b[0m\u001b[0;34m.\u001b[0m\u001b[0mget_logical\u001b[0m\u001b[0;34m(\u001b[0m\u001b[0mmodel\u001b[0m\u001b[0;34m,\u001b[0m \u001b[0ml_mpi\u001b[0m\u001b[0;34m,\u001b[0m \u001b[0ml_SI\u001b[0m\u001b[0;34m=\u001b[0m\u001b[0;32mTrue\u001b[0m\u001b[0;34m,\u001b[0m \u001b[0ml_gdf\u001b[0m\u001b[0;34m=\u001b[0m\u001b[0;32mTrue\u001b[0m\u001b[0;34m)\u001b[0m\u001b[0;34m\u001b[0m\u001b[0m\n\u001b[0m\u001b[1;32m      6\u001b[0m \u001b[0;34m\u001b[0m\u001b[0m\n\u001b[1;32m      7\u001b[0m \u001b[0;31m#standard conversion to dimensionless units and physical constants\u001b[0m\u001b[0;34m\u001b[0m\u001b[0;34m\u001b[0m\u001b[0m\n",
      "\u001b[0;31mAttributeError\u001b[0m: module 'hs_atmosphere' has no attribute 'get_logical'"
     ]
    }
   ],
   "source": [
    "model = 'spruit'\n",
    "\n",
    "local_procs=1\n",
    "#standard set of logical switches\n",
    "logical_pars = atm.get_logical(model, l_mpi, l_SI=True, l_gdf=True)\n",
    "\n",
    "#standard conversion to dimensionless units and physical constants\n",
    "scales, physical_constants = \\\n",
    "    atm.get_parameters(model, l_mpi, logical_pars, size)\n",
    "\n",
    "#if 1D or 2D set unused dimensions to 0, and unrequired xyz limits to 1. \n",
    "Nxyz = [129,129,129] # 3D grid\n",
    "xyz_SI = [-1e6,1e6,-1e6,1e6,3.5e4,1.6e6] # xyz limits SI/CGS units    \n",
    "\n",
    "#obtain code coordinates and model parameters in code units\n",
    "coords, model_pars = atm.get_model(\n",
    "                                   model,\n",
    "                                   Nxyz,\n",
    "                                   xyz_SI,\n",
    "                                   scales,\n",
    "                                   logical_pars\n",
    "                                  )    "
   ]
  },
  {
   "cell_type": "code",
   "execution_count": 6,
   "metadata": {},
   "outputs": [
    {
     "ename": "NameError",
     "evalue": "name 'logical_pars' is not defined",
     "output_type": "error",
     "traceback": [
      "\u001b[0;31m---------------------------------------------------------------------------\u001b[0m",
      "\u001b[0;31mNameError\u001b[0m                                 Traceback (most recent call last)",
      "\u001b[0;32m<ipython-input-6-431e64542464>\u001b[0m in \u001b[0;36m<module>\u001b[0;34m()\u001b[0m\n\u001b[1;32m      9\u001b[0m \u001b[0mfilenames\u001b[0m \u001b[0;34m=\u001b[0m \u001b[0;34m[\u001b[0m\u001b[0mVAL\u001b[0m\u001b[0;34m,\u001b[0m \u001b[0mMTW\u001b[0m\u001b[0;34m]\u001b[0m\u001b[0;34m\u001b[0m\u001b[0m\n\u001b[1;32m     10\u001b[0m \u001b[0;31m# uncomment and switch to l_const/l_sqrt/l_linear/l_square as required\u001b[0m\u001b[0;34m\u001b[0m\u001b[0;34m\u001b[0m\u001b[0m\n\u001b[0;32m---> 11\u001b[0;31m \u001b[0mlogical_pars\u001b[0m\u001b[0;34m[\u001b[0m\u001b[0;34m'l_square'\u001b[0m\u001b[0;34m]\u001b[0m \u001b[0;34m=\u001b[0m \u001b[0;32mTrue\u001b[0m\u001b[0;34m\u001b[0m\u001b[0m\n\u001b[0m",
      "\u001b[0;31mNameError\u001b[0m: name 'logical_pars' is not defined"
     ]
    }
   ],
   "source": [
    "#identify location of source data files\n",
    "__files__=''\n",
    "homedir = os.environ['HOME']\n",
    "cwd = os.path.dirname(__files__)\n",
    "#cwd = homedir+'/Dropbox/multi_tube/python/allpapers/'\n",
    "VAL = os.path.join(cwd, 'hs_model/VALIIIC.dat')\n",
    "MTW = os.path.join(cwd, 'hs_model/mcwhirter.dat')\n",
    "\n",
    "filenames = [VAL, MTW]\n",
    "# uncomment and switch to l_const/l_sqrt/l_linear/l_square as required  \n",
    "#logical_pars['l_square'] = True "
   ]
  },
  {
   "cell_type": "code",
   "execution_count": null,
   "metadata": {
    "collapsed": true
   },
   "outputs": [],
   "source": []
  },
  {
   "cell_type": "code",
   "execution_count": 17,
   "metadata": {},
   "outputs": [
    {
     "ename": "IndentationError",
     "evalue": "unexpected indent (<ipython-input-17-151f884d1742>, line 7)",
     "output_type": "error",
     "traceback": [
      "\u001b[0;36m  File \u001b[0;32m\"<ipython-input-17-151f884d1742>\"\u001b[0;36m, line \u001b[0;32m7\u001b[0m\n\u001b[0;31m    MTW =np.loadtxt(filenames[1])[::-1,:]\u001b[0m\n\u001b[0m    ^\u001b[0m\n\u001b[0;31mIndentationError\u001b[0m\u001b[0;31m:\u001b[0m unexpected indent\n"
     ]
    }
   ],
   "source": [
    "VAL3c = np.loadtxt(filenames[0])[::-1,:]\n",
    "VAL3c[:,0] *= 1e3 #km -> m\n",
    "VAL3c[:,1] *= 1e3 #g/cm^3 -> kg/m^3\n",
    "VAL3c[:,2] /= 1e1 #dyne/cm^2 -> Pascals(N/m^2)\n",
    "muTV=4.0/(3*0.74+1+VAL3c[:,6]/VAL3c[:,5])\n",
    "nzv=VAL3c[:,0].size\n",
    "MTW =np.loadtxt(filenames[1])[::-1,:]\n",
    "        MTW[:,0] *= 1e3 #km -> m\n",
    "        MTW[:,1] *= 1   #Kelvin\n",
    "        MTW[:,2] /= 1e1 #dyne/cm^2 -> Pascals(N/m^2)\n",
    "        nzm=MTW[:,0].size\n",
    "        #Combine both sets into single array\n",
    "        hdata=np.zeros(nzv+nzm)\n",
    "        hdata[0:nzv]=VAL3c[:,0]\n",
    "        hdata[nzv:nzv+nzm]=MTW[:,0]\n",
    "        hdata /= scales['length']\n",
    "    \n",
    "        pdata=np.zeros(nzv+nzm)\n",
    "        pdata[0:nzv]=VAL3c[:,2]\n",
    "        pdata[nzv:nzv+nzm]=MTW[:,2]\n",
    "        pdata /= scales['energy density']\n",
    "    \n",
    "        Tdata=np.zeros(nzv+nzm)\n",
    "        Tdata[0:nzv]=VAL3c[:,3]\n",
    "        Tdata[nzv:nzv+nzm]=MTW[:,1] \n",
    "        Tdata /= scales['temperature']\n",
    "    \n",
    "        rdata=np.zeros(nzv+nzm)\n",
    "        rdata[0:nzv]=VAL3c[:,1]\n",
    "        rdata /= scales['density']   \n",
    "        #MTW[:,2], kB, mp and mu are in code units so no rescale needed\n",
    "        rdata[nzv:nzv+nzm] = MTW[:,2]/physicalconstants['boltzmann']/MTW[:,1] \\\n",
    "                        *physicalconstants['proton_mass']*physicalconstants['mu']\n",
    "    \n",
    "        muofT = np.zeros(nzv+nzm) # mean molecular weight\n",
    "        muofT[0:nzv] = muTV\n",
    "        muofT[nzv:nzv+nzm] = physicalconstants['mu']\n",
    "        # interpolate total pressure, temperature and density profiles\n",
    "        pdata_f = UnivariateSpline(hdata,np.log(pdata),k=1, s=0.25)\n",
    "        Tdata_f = UnivariateSpline(hdata,np.log(Tdata),k=1, s=0.25)\n",
    "        rdata_f = UnivariateSpline(hdata,np.log(rdata),k=1, s=0.25)\n",
    "        #s=0.0 to ensure all points are strictly used for ionisation state\n",
    "        muofT_f = UnivariateSpline(hdata,np.log(muofT),k=1, s=0.0)\n",
    "        pdata_i = np.exp(pdata_f(Z))\n",
    "        Tdata_i = np.exp(Tdata_f(Z))\n",
    "        rdata_i = np.exp(rdata_f(Z))\n",
    "        muofT_i = np.exp(muofT_f(Z))\n",
    "\n",
    "        source_data = [VAL3c,MTW]           "
   ]
  }
 ],
 "metadata": {
  "kernelspec": {
   "display_name": "Python 3 (ipykernel)",
   "language": "python",
   "name": "python3"
  },
  "language_info": {
   "codemirror_mode": {
    "name": "ipython",
    "version": 3
   },
   "file_extension": ".py",
   "mimetype": "text/x-python",
   "name": "python",
   "nbconvert_exporter": "python",
   "pygments_lexer": "ipython3",
   "version": "3.9.13"
  }
 },
 "nbformat": 4,
 "nbformat_minor": 2
}

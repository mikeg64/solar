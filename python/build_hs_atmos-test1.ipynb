{
 "cells": [
  {
   "cell_type": "markdown",
   "metadata": {},
   "source": [
    "## Build a Solar Atmosphere Using McWhirter and VALIIc Data\n",
    "\n",
    "Build a hydrostatic atmosphere using original hydrostatic balance code\n",
    "from idl scripts by v. fedun\n",
    "\n",
    "### Steps\n",
    "1. Set parameters for model e.g. physical dimensions and grid size\n",
    "2. Load VALIIIc and McWhirter Data\n",
    "3. Interpolate Data\n",
    "4. Regenerate hydrostatic model\n",
    "5. Save HS model\n",
    "\n",
    "### Further Steps for field generation\n",
    "6. Load HS Model\n",
    "7. Apply field generation e.g. using self similarity\n",
    "8. Compute magneto hydrostatic pressure balance\n",
    "9. Save magnetohydrostatic model \n",
    "\n",
    "### Other versions to follow (from work of v.fedun)\n",
    "1. Build vertical B-field\n",
    "2. Build vertical flux tube\n",
    "3. Build flux tube\n",
    "\n",
    "Further improvements using pysac examples to follow\n",
    "\n",
    "### Reference\n",
    "\n",
    "http://solarwavetheory.blogspot.com/2013/11/solar-atmospheric-mhd-flux-tube.html\n"
   ]
  },
  {
   "cell_type": "code",
   "execution_count": 21,
   "metadata": {},
   "outputs": [],
   "source": [
    "import os\n",
    "import numpy as np\n",
    "\n",
    "import astropy.table\n",
    "from astropy.table import Table\n",
    "import astropy.units as u\n",
    "from astropy.constants import k_B, m_p\n",
    "import scipy.constants as asc\n",
    "from astropy.table import Table\n",
    "\n",
    "\n",
    "from scipy.interpolate import UnivariateSpline\n",
    "\n",
    "from sacio import *\n",
    "#alldat,modelinfo=read_sac_ascii('../../../configs/hydro/3D_128_spic_asc.ini')"
   ]
  },
  {
   "cell_type": "raw",
   "metadata": {},
   "source": [
    "### Testing the SAC input output routines\n",
    "\n",
    "write model as binary\n",
    "re-read binary file"
   ]
  },
  {
   "cell_type": "code",
   "execution_count": 23,
   "metadata": {
    "scrolled": true
   },
   "outputs": [],
   "source": [
    "alldat,modelinfo=read_sac_ascii('../../solar-testdata/3D_128_spic_bvertbg100G_asc.ini')\n",
    "\n"
   ]
  },
  {
   "cell_type": "code",
   "execution_count": 24,
   "metadata": {},
   "outputs": [
    {
     "name": "stdout",
     "output_type": "stream",
     "text": [
      "('3D_mhd33                                                                        \\n', 0, 0.0, 3, 7, 13, [128, 128, 128], '1.66667 0 1 -274 0 0 0', 'x y h m1 m2 m3 e b1 b2 b3 eb rhob bg1 bg2 bg3   gamma eta   grav1 grav2 grav3')\n",
      "33554432\n",
      "(128, 128, 128, 16)\n",
      "[ 2444.44  2488.89  2533.33  2577.78  2622.22  2666.67  2711.11  2755.56\n",
      "  2800.    2844.44  2888.89  2933.33  2977.78  3022.22  3066.67  3111.11\n",
      "  3155.56  3200.    3244.44  3288.89  3333.33  3377.78  3422.22  3466.67\n",
      "  3511.11  3555.56  3600.    3644.44  3688.89  3733.33  3777.78  3822.22]\n"
     ]
    }
   ],
   "source": [
    "print(modelinfo)\n",
    "print(np.size(alldat))\n",
    "print(np.shape(alldat))\n",
    "\n",
    "#Display x co-ordinates here vertical section through atmosphere\n",
    "print(alldat[48:80,64,64,0]/1.0e3)"
   ]
  },
  {
   "cell_type": "code",
   "execution_count": 33,
   "metadata": {},
   "outputs": [
    {
     "name": "stdout",
     "output_type": "stream",
     "text": [
      "   Z            rho            p         T    \n",
      "   km         g / cm3      dyn / cm2     K    \n",
      "-------- ----------------- --------- ---------\n",
      "   -75.0         3.192e-07  179000.0    8320.0\n",
      "   -50.0          3.08e-07  157500.0    7610.0\n",
      "   -25.0         2.949e-07  136800.0    6910.0\n",
      "     0.0         2.727e-07  117200.0    6420.0\n",
      "    50.0         2.152e-07   82740.0    5840.0\n",
      "   100.0         1.606e-07   58040.0    5455.0\n",
      "   150.0          1.15e-07   39260.0    5180.0\n",
      "   250.0         5.413e-08   16910.0    4780.0\n",
      "   350.0         2.334e-08    6798.0    4465.0\n",
      "   450.0         9.327e-09    2569.0    4220.0\n",
      "     ...               ...       ...       ...\n",
      "  3400.0 1.93825170663e-15     0.118  444000.0\n",
      "  3900.0  1.6575187938e-15     0.115  506000.0\n",
      "  5860.0 1.20612032167e-15     0.107  647000.0\n",
      "  8790.0 9.13252940484e-16    0.0988  789000.0\n",
      " 13200.0 6.93504448156e-16    0.0891  937000.0\n",
      " 19800.0 5.18471878702e-16    0.0782 1100000.0\n",
      " 29700.0 3.81307630549e-16    0.0664 1270000.0\n",
      " 44500.0 2.71604458902e-16     0.054 1450000.0\n",
      " 66800.0 1.85439968468e-16    0.0417 1640000.0\n",
      "100000.0 1.19701683326e-16    0.0302 1840000.0\n",
      "Length = 65 rows\n"
     ]
    }
   ],
   "source": [
    "from valmcw import *\n",
    "data=val3c()\n",
    "#data.sort('Z')\n",
    "print(data)"
   ]
  },
  {
   "cell_type": "code",
   "execution_count": 25,
   "metadata": {},
   "outputs": [],
   "source": [
    "__all__ = ['read_VAL3c_MTW', 'interpolate_atmosphere', 'get_spruit_hs', 'vertical_profile']"
   ]
  },
  {
   "cell_type": "code",
   "execution_count": 26,
   "metadata": {},
   "outputs": [],
   "source": [
    "#if 1D or 2D set unused dimensions to 0, and unrequired xyz limits to 1. \n",
    "Nxyz = [128,128,128] # 3D grid\n",
    "xyz_SI = [-1e6,1e6,-1e6,1e6,3.5e4,1.6e6] # xyz limits SI/CGS units \n",
    "xyz  = [-1.27*u.Mm,1.27*u.Mm,-1.27*u.Mm,1.27*u.Mm,0.*u.Mm,8.62*u.Mm] #grid size\n",
    "#xyz.unit=u.Mm\n",
    "#xyz=np.array([-1e6,1e6,-1e6,1e6,3.5e4,1.6e6])\n",
    "#xyz = [-1*u.Mm,1e6,-1*u.Mm,1*u.Mm,0.035*u.Mm,1.6*u.Mm] # xyz limits SI/CGS units  \n",
    "#xyz=xyz_SI"
   ]
  },
  {
   "cell_type": "code",
   "execution_count": 27,
   "metadata": {},
   "outputs": [],
   "source": [
    "\"\"\"\n",
    "get_coords returns a non-dimensional dictionary describing the domain\n",
    "coordinates.\n",
    "\"\"\"\n",
    "dz=(xyz[5]-xyz[4])/(Nxyz[2]-1)\n",
    "#Z    = u.Quantity(np.linspace(xyz[4].value, xyz[5].value, Nxyz[2]), unit=xyz.unit)\n",
    "Z    = u.Quantity(np.linspace(xyz[4].value, xyz[5].value, Nxyz[2]))\n",
    "#Zext = u.Quantity(np.linspace(Z.min().value-4.*dz.value, Z.max().value+4.*dz.value, Nxyz[2]+8), unit=Z.unit)\n",
    "Zext = u.Quantity(np.linspace(Z.min().value-4.*dz.value, Z.max().value+4.*dz.value, Nxyz[2]+8))\n",
    "coords = {\n",
    "              'dx':(xyz[1]-xyz[0])/(Nxyz[0]-1),\n",
    "              'dy':(xyz[3]-xyz[2])/(Nxyz[1]-1),\n",
    "              'dz':(xyz[5]-xyz[4])/(Nxyz[2]-1),\n",
    "              'xmin':xyz[0],\n",
    "              'xmax':xyz[1],\n",
    "              'ymin':xyz[2],\n",
    "              'ymax':xyz[3],\n",
    "              'zmin':xyz[4],\n",
    "              'zmax':xyz[5],\n",
    "              'Z':Z,\n",
    "              'Zext':Zext\n",
    "            }\n",
    "\n",
    "consts = {\n",
    "            #'mu'=0.6e0; #magnetic permeability\n",
    "            'R':8.31e3,\n",
    "            'fgamma':1.66666667e0,\n",
    "            'ggg':274.0e0, # acceleration due to gravity on the sun\n",
    "            'mu':4*asc.pi/1.0e7,\n",
    "            'mu_gas':0.6 #gas constant\n",
    "}\n",
    "\n",
    "#set value for uniform vertical field\n",
    "bz=0.0*sqrt(consts['mu'])*1.0e4"
   ]
  },
  {
   "cell_type": "code",
   "execution_count": 28,
   "metadata": {},
   "outputs": [],
   "source": [
    "#identify location of source data files\n",
    "__files__=''\n",
    "homedir = os.environ['HOME']\n",
    "cwd = os.path.dirname(__files__)\n",
    "#cwd = homedir+'/Dropbox/multi_tube/python/allpapers/'\n",
    "VAL_file = os.path.join(cwd, 'VALIIIC.dat')\n",
    "MTW_file = os.path.join(cwd, 'mcwhirter.dat')\n",
    "\n",
    "filenames = [VAL_file, MTW_file]\n",
    "# uncomment and switch to l_const/l_sqrt/l_linear/l_square as required  \n",
    "#logical_pars['l_square'] = True "
   ]
  },
  {
   "cell_type": "code",
   "execution_count": 29,
   "metadata": {},
   "outputs": [],
   "source": [
    "#============================================================================\n",
    "    # Dimensional units in terms of SI\n",
    "#============================================================================\n",
    "scales   = {\n",
    "            'length':         1e2*u.Mm,\n",
    "            'density':        1e-4*u.kg/u.m**3,\n",
    "            'velocity':       1e2*u.m/u.s,\n",
    "            'temperature':    1.0*u.K, \n",
    "            'magnetic':       1e-3*u.T #mT\n",
    "           }\n",
    "\n",
    "\n",
    "scales['energy density'] = scales['density'] * scales['velocity']**2\n",
    "scales['time'] = scales['length'] / scales['velocity'] \n",
    "scales['mass'] = scales['density'] * scales['length']**3 \n",
    "scales['force density'] = scales['density'] * scales['velocity'] / \\\n",
    "scales['time'] #D momentum/Dt force density balance "
   ]
  },
  {
   "cell_type": "code",
   "execution_count": 30,
   "metadata": {},
   "outputs": [
    {
     "name": "stdout",
     "output_type": "stream",
     "text": [
      "5.0 K\n",
      "{'zmax': <Quantity 8.62 Mm>, 'zmin': <Quantity 0.0 Mm>, 'dz': <Quantity 0.0678740157480315 Mm>, 'dx': <Quantity 0.02 Mm>, 'dy': <Quantity 0.02 Mm>, 'xmin': <Quantity -1.27 Mm>, 'Zext': <Quantity [-0.27149606,-0.20362205,-0.13574803,-0.06787402, 0.        ,\n",
      "            0.06787402, 0.13574803, 0.20362205, 0.27149606, 0.33937008,\n",
      "            0.40724409, 0.47511811, 0.54299213, 0.61086614, 0.67874016,\n",
      "            0.74661417, 0.81448819, 0.8823622 , 0.95023622, 1.01811024,\n",
      "            1.08598425, 1.15385827, 1.22173228, 1.2896063 , 1.35748031,\n",
      "            1.42535433, 1.49322835, 1.56110236, 1.62897638, 1.69685039,\n",
      "            1.76472441, 1.83259843, 1.90047244, 1.96834646, 2.03622047,\n",
      "            2.10409449, 2.1719685 , 2.23984252, 2.30771654, 2.37559055,\n",
      "            2.44346457, 2.51133858, 2.5792126 , 2.64708661, 2.71496063,\n",
      "            2.78283465, 2.85070866, 2.91858268, 2.98645669, 3.05433071,\n",
      "            3.12220472, 3.19007874, 3.25795276, 3.32582677, 3.39370079,\n",
      "            3.4615748 , 3.52944882, 3.59732283, 3.66519685, 3.73307087,\n",
      "            3.80094488, 3.8688189 , 3.93669291, 4.00456693, 4.07244094,\n",
      "            4.14031496, 4.20818898, 4.27606299, 4.34393701, 4.41181102,\n",
      "            4.47968504, 4.54755906, 4.61543307, 4.68330709, 4.7511811 ,\n",
      "            4.81905512, 4.88692913, 4.95480315, 5.02267717, 5.09055118,\n",
      "            5.1584252 , 5.22629921, 5.29417323, 5.36204724, 5.42992126,\n",
      "            5.49779528, 5.56566929, 5.63354331, 5.70141732, 5.76929134,\n",
      "            5.83716535, 5.90503937, 5.97291339, 6.0407874 , 6.10866142,\n",
      "            6.17653543, 6.24440945, 6.31228346, 6.38015748, 6.4480315 ,\n",
      "            6.51590551, 6.58377953, 6.65165354, 6.71952756, 6.78740157,\n",
      "            6.85527559, 6.92314961, 6.99102362, 7.05889764, 7.12677165,\n",
      "            7.19464567, 7.26251969, 7.3303937 , 7.39826772, 7.46614173,\n",
      "            7.53401575, 7.60188976, 7.66976378, 7.7376378 , 7.80551181,\n",
      "            7.87338583, 7.94125984, 8.00913386, 8.07700787, 8.14488189,\n",
      "            8.21275591, 8.28062992, 8.34850394, 8.41637795, 8.48425197,\n",
      "            8.55212598, 8.62      , 8.68787402, 8.75574803, 8.82362205,\n",
      "            8.89149606]>, 'Z': <Quantity [ 0.        , 0.06787402, 0.13574803, 0.20362205, 0.27149606,\n",
      "            0.33937008, 0.40724409, 0.47511811, 0.54299213, 0.61086614,\n",
      "            0.67874016, 0.74661417, 0.81448819, 0.8823622 , 0.95023622,\n",
      "            1.01811024, 1.08598425, 1.15385827, 1.22173228, 1.2896063 ,\n",
      "            1.35748031, 1.42535433, 1.49322835, 1.56110236, 1.62897638,\n",
      "            1.69685039, 1.76472441, 1.83259843, 1.90047244, 1.96834646,\n",
      "            2.03622047, 2.10409449, 2.1719685 , 2.23984252, 2.30771654,\n",
      "            2.37559055, 2.44346457, 2.51133858, 2.5792126 , 2.64708661,\n",
      "            2.71496063, 2.78283465, 2.85070866, 2.91858268, 2.98645669,\n",
      "            3.05433071, 3.12220472, 3.19007874, 3.25795276, 3.32582677,\n",
      "            3.39370079, 3.4615748 , 3.52944882, 3.59732283, 3.66519685,\n",
      "            3.73307087, 3.80094488, 3.8688189 , 3.93669291, 4.00456693,\n",
      "            4.07244094, 4.14031496, 4.20818898, 4.27606299, 4.34393701,\n",
      "            4.41181102, 4.47968504, 4.54755906, 4.61543307, 4.68330709,\n",
      "            4.7511811 , 4.81905512, 4.88692913, 4.95480315, 5.02267717,\n",
      "            5.09055118, 5.1584252 , 5.22629921, 5.29417323, 5.36204724,\n",
      "            5.42992126, 5.49779528, 5.56566929, 5.63354331, 5.70141732,\n",
      "            5.76929134, 5.83716535, 5.90503937, 5.97291339, 6.0407874 ,\n",
      "            6.10866142, 6.17653543, 6.24440945, 6.31228346, 6.38015748,\n",
      "            6.4480315 , 6.51590551, 6.58377953, 6.65165354, 6.71952756,\n",
      "            6.78740157, 6.85527559, 6.92314961, 6.99102362, 7.05889764,\n",
      "            7.12677165, 7.19464567, 7.26251969, 7.3303937 , 7.39826772,\n",
      "            7.46614173, 7.53401575, 7.60188976, 7.66976378, 7.7376378 ,\n",
      "            7.80551181, 7.87338583, 7.94125984, 8.00913386, 8.07700787,\n",
      "            8.14488189, 8.21275591, 8.28062992, 8.34850394, 8.41637795,\n",
      "            8.48425197, 8.55212598, 8.62      ]>, 'ymax': <Quantity 1.27 Mm>, 'xmax': <Quantity 1.27 Mm>, 'ymin': <Quantity -1.27 Mm>}\n"
     ]
    }
   ],
   "source": [
    "print(5*scales['temperature'])\n",
    "\n",
    "print(coords)"
   ]
  },
  {
   "cell_type": "code",
   "execution_count": 31,
   "metadata": {},
   "outputs": [
    {
     "name": "stdout",
     "output_type": "stream",
     "text": [
      "0.02 Mm\n"
     ]
    }
   ],
   "source": [
    "print (xyz[1]-xyz[0])/(Nxyz[0]-1)"
   ]
  },
  {
   "cell_type": "code",
   "execution_count": 34,
   "metadata": {},
   "outputs": [
    {
     "name": "stdout",
     "output_type": "stream",
     "text": [
      "1.0 K\n",
      "[  8.93174722   8.8930591    8.85437097   8.81568285   8.73830661\n",
      "   8.66093036   8.58355412   8.42880163   8.27404914   8.3422776\n",
      "   8.38662609   8.41391748   8.44803171   8.48214594   8.51626017\n",
      "   8.5503744    8.61860286   8.63169179   8.65132519   8.67357637\n",
      "   8.70368091   8.72985877   8.75603663   8.79137675   8.81493682\n",
      "   8.86205697   8.89870598   8.91572159   8.92252783   8.93142831\n",
      "   8.93666388   8.93928167   8.94189945   9.31143004   9.39061517\n",
      "   9.53115427   9.81223248   9.82559102   9.85898735   9.91910075\n",
      "  10.12615803  10.11589002  10.10818901  10.1017715   10.09971789\n",
      "  10.26595525  10.4321926   10.55687061  10.80622664  11.3645516\n",
      "  11.81121156  12.63396845  12.72829267  12.88524633  12.96372316\n",
      "  13.04219999  13.23839206  13.33382878  13.47649692  13.69122953\n",
      "  14.01259806  14.06745975  14.1494752   14.27305255  14.45703316]\n",
      "128\n"
     ]
    }
   ],
   "source": [
    "from scipy.interpolate import UnivariateSpline\n",
    "s=0.25\n",
    "hdata = np.array(u.Quantity(data['Z']).to(u.m))\n",
    "# interpolate total pressure, temperature and density profiles\n",
    "pdata_f = UnivariateSpline(hdata,np.array(np.log(data['p'])),k=1, s=s)\n",
    "Tdata_f = UnivariateSpline(hdata,np.array(np.log(data['T'])),k=1, s=s)\n",
    "rdata_f = UnivariateSpline(hdata,np.array(np.log(data['rho'])),k=1, s=s)\n",
    "#s=0.0 to ensure all points are strictly used for ionisation state\n",
    "#muofT_f = UnivariateSpline(hdata,np.array(np.log(data['mu'])),k=1, s=0.0)\n",
    "#print pdata_f(Z)\n",
    "#print Z\n",
    "print scales['temperature']\n",
    "print(Tdata_f(hdata))\n",
    "#print((data['Z']))\n",
    "print Nxyz[0]\n",
    "outdata = Table([np.zeros((Nxyz[0])),np.zeros((Nxyz[0])),np.zeros((Nxyz[0])),np.zeros((Nxyz[0]))],names=['Z', 'T','p','rho'])\n",
    "outdata['Z'] = Z\n",
    "#outdata['p'] = np.exp(pdata_f(Z.to(u.m))) \n",
    "#outdata['p'] = np.exp(pdata_f(Z.to(u.cm))) * data['p'].unit\n",
    "outdata['p'] = np.exp(pdata_f(Z*1.0e8)) * data['p'].unit\n",
    "#outdata['T'] = np.exp(Tdata_f(Z.to(u.m))) * data['T'].unit\n",
    "#outdata['T'] = np.exp(Tdata_f()) * data['T'].unit \n",
    "outdata['T'] = np.exp(Tdata_f(Z*1.0e6)) * data['T'].unit\n",
    "#outdata['rho'] = np.exp(rdata_f(Z.to(u.m))) * data['rho'].unit\n",
    "#outdata['rho'] = np.exp(rdata_f()) * data['rho'].unit \n",
    "outdata['rho'] = np.exp(rdata_f(Z*1.0e8)) * data['rho'].unit \n",
    "#outdata['mu'] = np.exp(muofT_f(Z.to(u.m))) * u.one\n",
    "\n"
   ]
  },
  {
   "cell_type": "code",
   "execution_count": null,
   "metadata": {},
   "outputs": [],
   "source": [
    "print outdata['rho'][1]\n",
    "\n",
    "#VAL3c = np.loadtxt(filenames[0])[::-1,:]\n",
    "#VAL3c[:,0] *= 1e3 #km -> m\n",
    "#VAL3c[:,1] *= 1e3 #g/cm^3 -> kg/m^3\n",
    "#VAL3c[:,2] /= 1e1 #dyne/cm^2 -> Pascals(N/m^2)\n",
    "#muTV=4.0/(3*0.74+1+VAL3c[:,6]/VAL3c[:,5])\n",
    "#nzv=VAL3c[:,0].size\n",
    "#MTW =np.loadtxt(filenames[1])[::-1,:]\n",
    "#MTW[:,0] *= 1e3 #km -> m\n",
    "#MTW[:,1] *= 1   #Kelvin\n",
    "#MTW[:,2] /= 1e1 #dyne/cm^2 -> Pascals(N/m^2)\n",
    "#nzm=MTW[:,0].size\n",
    "#Combine both sets into single array\n",
    "#hdata=np.zeros(nzv+nzm)\n",
    "#hdata[0:nzv]=VAL3c[:,0]\n",
    "#hdata[nzv:nzv+nzm]=MTW[:,0]\n",
    "#hdata /= scales['length']\n",
    "    \n",
    "#pdata=np.zeros(nzv+nzm)\n",
    "#pdata[0:nzv]=VAL3c[:,2]\n",
    "#pdata[nzv:nzv+nzm]=MTW[:,2]\n",
    "#pdata /= scales['energy density']\n",
    "    \n",
    "#Tdata=np.zeros(nzv+nzm)\n",
    "#Tdata[0:nzv]=VAL3c[:,3]\n",
    "#Tdata[nzv:nzv+nzm]=MTW[:,1] \n",
    "#Tdata /= scales['temperature']\n",
    "    \n",
    "#rdata=np.zeros(nzv+nzm)\n",
    "#rdata[0:nzv]=VAL3c[:,1]\n",
    "#rdata /= scales['density']   \n",
    "#MTW[:,2], kB, mp and mu are in code units so no rescale needed\n",
    "#rdata[nzv:nzv+nzm] = MTW[:,2]/physicalconstants['boltzmann']/MTW[:,1] *physicalconstants['proton_mass']*physicalconstants['mu']\n",
    "    \n",
    "#muofT = np.zeros(nzv+nzm) # mean molecular weight\n",
    "#muofT[0:nzv] = muTV\n",
    "#muofT[nzv:nzv+nzm] = physicalconstants['mu']\n",
    "# interpolate total pressure, temperature and density profiles\n",
    "#pdata_f = UnivariateSpline(hdata,np.log(pdata),k=1, s=0.25)\n",
    "#Tdata_f = UnivariateSpline(hdata,np.log(Tdata),k=1, s=0.25)\n",
    "#rdata_f = UnivariateSpline(hdata,np.log(rdata),k=1, s=0.25)\n",
    "#s=0.0 to ensure all points are strictly used for ionisation state\n",
    "#muofT_f = UnivariateSpline(hdata,np.log(muofT),k=1, s=0.0)\n",
    "#pdata_i = np.exp(pdata_f(Z))\n",
    "#Tdata_i = np.exp(Tdata_f(Z))\n",
    "#rdata_i = np.exp(rdata_f(Z))\n",
    "#muofT_i = np.exp(muofT_f(Z))\n",
    "\n",
    "#source_data = [VAL3c,MTW] "
   ]
  },
  {
   "cell_type": "code",
   "execution_count": null,
   "metadata": {},
   "outputs": [],
   "source": [
    "print Tdata_f(Z)"
   ]
  },
  {
   "cell_type": "markdown",
   "metadata": {},
   "source": [
    "### Compute initial energy at lowes layer of slice"
   ]
  },
  {
   "cell_type": "code",
   "execution_count": 35,
   "metadata": {},
   "outputs": [
    {
     "data": {
      "text/plain": [
       "(128,)"
      ]
     },
     "execution_count": 35,
     "metadata": {},
     "output_type": "execute_result"
    }
   ],
   "source": [
    "#%parrVALMc=rhoarrVALMc*TarrVALMc*R/mu_gas\n",
    "\n",
    "#%compute correct pressure for gravitationally stratified atmosphere\n",
    "\n",
    "#%compute initial energy (at photosphere or temperature minimum)\n",
    "#%mu_thermal=0.6d0;\n",
    "#%R=8.31e3;\n",
    "\n",
    "#% pressure=temp*R*density/((mu_thermal))\n",
    "#%parrVALMc=rhoarrVALMc*TarrVALMc*R/mu\n",
    "#%iniene=6840.d0*8.31e3*(2.3409724e-09)/0.6d0/(eqpar(gamma_)-1.0)\n",
    "\n",
    "#% !iniene=731191.34d0*8.31e3*(1.1806882e-11)/0.6d0/(eqpar(gamma_)-1.0)\n",
    "#% \n",
    "#% !iniene=731191.34d0*8.31e3*(1.1790001e-11)/0.6d0/(eqpar(gamma_)-1.0)\n",
    "#% \n",
    "#% ! 1.6Mm\n",
    "#% \n",
    "iniene=6840*consts['R']*(2.3409724e-09)/consts['mu_gas']/(consts['fgamma']-1.0);\n",
    "\n",
    "np.shape(outdata['Z'])"
   ]
  },
  {
   "cell_type": "markdown",
   "metadata": {},
   "source": [
    "# hydrostatic pressure balance\n",
    "\n",
    "## Recalculate density values\n",
    "\n",
    "don't forget to adjust modelinfo values!"
   ]
  },
  {
   "cell_type": "code",
   "execution_count": null,
   "metadata": {},
   "outputs": [],
   "source": [
    "print('Compute hydrostatic pressure balance')\n",
    "energg=np.zeros(Nxyz[0])\n",
    "presg=np.zeros(Nxyz[0])\n",
    "densg=np.zeros(Nxyz[0])\n",
    "\n",
    "for i3 in range(Nxyz[2]):\n",
    "    for i2 in range(Nxyz[1]):\n",
    "        for i1 in range(Nxyz[0]):\n",
    "            alldat[i1,i2,i3,12]=1000*outdata['rho'][i1]\n",
    "            alldat[i1,i2,i3,0]=1000*outdata['Z'][i1]                    \n",
    "            alldat[i1,i2,i3,11]=iniene\n",
    "\n",
    "            \n",
    "            \n",
    "\n",
    "            \n",
    "        \n",
    "        \n"
   ]
  },
  {
   "cell_type": "code",
   "execution_count": null,
   "metadata": {},
   "outputs": [],
   "source": [
    "# use energy to get pthermal\n",
    "\n",
    "for i1 in range(Nxyz[0]):\n",
    "    presg[i1]=(consts['fgamma']-1)*iniene\n",
    "\n",
    "presg1=presg\n",
    "\n",
    "for i1 in range(Nxyz[0]-1,0,-1)\n",
    "    comi=-1000*abs(outdata['Z'][i1+1]-outdata['Z'][i1] )\n",
    "    presg[i1]=presg[i1+1]-densg[i1]*comi*consts['ggg']\n",
    "\n",
    "for i1 in range(3,Nxyz[0]-2,1)\n",
    "    comi=-1000*abs(outdata['Z'][i1+1]-outdata['Z'][i1] )\n",
    "    densg[i1]=(1.0/consts['ggg'])*(  (1.0/(12*(outdata['Z'][i1+1]-outdata['Z'][i1]))) *(presg[i1+2]-8*presg[i1+1]+8*presg[i1-1]-presg[i1-2])     )\n",
    "\n",
    "#lower boundary\n",
    "for i1 in range(5,3,-1)\n",
    "    p_1=presg[i1+2]-8*presg[i1+1]+8*presg[i1-1]\n",
    "    p_2=-densg[i1]*consts['ggg']\n",
    "    presg[i1-2]= p_1+12.0*(outdata['Z'][i1+1]-outdata['Z'][i1])*p_2\n",
    "\n",
    "#upper boundary\n",
    "for i1 in range(Nxyz[0]-4,Nxyz[0]-2,1)\n",
    "    p_1=presg[i1-2]-8*presg[i1-1]+8*presg[i1+1]\n",
    "    p_2=-densg[i1]*consts['ggg']\n",
    "    presg[i1+2]= p_1-12.0*(outdata['Z'][i1+1]-outdata['Z'][i1])*p_2\n",
    "\n",
    "    \n",
    "#finally compute energy using pressure with correct boundaries    \n",
    "for i1 in range(Nxyz[0]):\n",
    "    energg[i1]=presg[i1]/(consts['fgamma'] -1);"
   ]
  },
  {
   "cell_type": "code",
   "execution_count": null,
   "metadata": {},
   "outputs": [],
   "source": [
    "print('Rebuilding Array')\n",
    "for i3 in range(Nxyz[2]):\n",
    "    for i2 in range(Nxyz[1]):\n",
    "        for i1 in range(Nxyz[0]):\n",
    "            alldat[i1,i2,i3,12]=densg[i1]\n",
    "            alldat[i1,i2,i3,11]=energg[i1]\n",
    "            alldat[i1,i2,i3,11]=energg[i1]\n",
    "            alldat[10,64,:,:]=bz"
   ]
  },
  {
   "cell_type": "code",
   "execution_count": null,
   "metadata": {
    "scrolled": true
   },
   "outputs": [],
   "source": [
    "print(alldat[48:80,64,64,0]/1.0e3)\n",
    "print(alldat[48:80,64,64,12])"
   ]
  },
  {
   "cell_type": "markdown",
   "metadata": {},
   "source": [
    "## write data to outputfile"
   ]
  },
  {
   "cell_type": "code",
   "execution_count": null,
   "metadata": {},
   "outputs": [],
   "source": [
    "write_sac_ascii('test.ini',alldat,modelinfo)"
   ]
  }
 ],
 "metadata": {
  "kernelspec": {
   "display_name": "Python 2",
   "language": "python",
   "name": "python2"
  },
  "language_info": {
   "codemirror_mode": {
    "name": "ipython",
    "version": 2
   },
   "file_extension": ".py",
   "mimetype": "text/x-python",
   "name": "python",
   "nbconvert_exporter": "python",
   "pygments_lexer": "ipython2",
   "version": "2.7.15"
  }
 },
 "nbformat": 4,
 "nbformat_minor": 2
}

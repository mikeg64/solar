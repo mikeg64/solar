{
 "cells": [
  {
   "cell_type": "markdown",
   "id": "1b5d30ff",
   "metadata": {},
   "source": [
    "Self similar Magnetic Field\n",
    "http://solarwavetheory.blogspot.com/search/label/self-similar"
   ]
  },
  {
   "cell_type": "markdown",
   "id": "607a6215",
   "metadata": {},
   "source": []
  },
  {
   "cell_type": "code",
   "execution_count": 389,
   "id": "84ee788a",
   "metadata": {},
   "outputs": [],
   "source": [
    "import math\n",
    "import numpy as np\n",
    "import matplotlib.pyplot as plt\n",
    "from matplotlib import cm\n",
    "import matplotlib.animation as animation\n",
    "from IPython.display import HTML\n",
    "\n",
    "#%matplotlib inline\n",
    "\n",
    "#useful for 3d viewer\n",
    "%matplotlib osx"
   ]
  },
  {
   "cell_type": "code",
   "execution_count": null,
   "id": "391e8516",
   "metadata": {},
   "outputs": [],
   "source": [
    "m=.05 #m=pi.*a.^2.*I/c ring current I radius a\n",
    "slen=1.0 #0.2\n",
    "b0=1.0\n",
    "wid=1.0\n",
    "shift=0.5\n",
    "b0r= 1 #0.05 # 0.1\n",
    "b0z= 1  #0.867 # 0.567"
   ]
  },
  {
   "cell_type": "code",
   "execution_count": 424,
   "id": "facb04c0",
   "metadata": {},
   "outputs": [],
   "source": [
    "#x=-1.0:0.05:1.0;\n",
    "#y=0.1:0.1:2.0;\n",
    "        \n",
    "x=np.linspace(-1.0,1.0,40) \n",
    "y=np.linspace(-1.0,1.0,40)\n",
    "z=np.linspace(0.1,2.0,20)\n"
   ]
  },
  {
   "cell_type": "code",
   "execution_count": 425,
   "id": "2820b691",
   "metadata": {},
   "outputs": [],
   "source": [
    "#[X1,Y1]=meshgrid(x-shift,y);\n",
    "#[X2,Y2]=meshgrid(x+shift,y);\n",
    "X, Y, Z = np.meshgrid(x,y,z)\n",
    "R=np.sqrt(np.power(X,2)+np.power(Y,2))\n",
    "#X1, Y1 = np.meshgrid(x-shift, y)\n",
    "#X2, Y2 = np.meshgrid(x+shift, y)\n"
   ]
  },
  {
   "cell_type": "code",
   "execution_count": 426,
   "id": "88999135",
   "metadata": {},
   "outputs": [],
   "source": [
    "#f=Z*b0r+X*b0z\n",
    "f=R*b0z\n",
    "fs=np.power(wid*f/slen,2)\n",
    "fs=np.exp(-fs)"
   ]
  },
  {
   "cell_type": "code",
   "execution_count": 427,
   "id": "b2fa8596",
   "metadata": {},
   "outputs": [],
   "source": [
    "xf=np.divide(fs,R)"
   ]
  },
  {
   "cell_type": "markdown",
   "id": "cbc9d177",
   "metadata": {},
   "source": [
    "b0r should be dbz \n",
    "dbz is dbz=deriv1(b0z,z,1);"
   ]
  },
  {
   "cell_type": "code",
   "execution_count": 428,
   "id": "096a1386",
   "metadata": {},
   "outputs": [],
   "source": [
    "\n",
    "bx1=-b0r*np.multiply(xf,X)\n",
    "by1=-b0r*np.multiply(xf,Y)\n",
    "bz1=b0z*xf"
   ]
  },
  {
   "cell_type": "code",
   "execution_count": null,
   "id": "bc10dc02",
   "metadata": {},
   "outputs": [],
   "source": []
  },
  {
   "cell_type": "code",
   "execution_count": 429,
   "id": "a691ce1f",
   "metadata": {},
   "outputs": [
    {
     "name": "stdout",
     "output_type": "stream",
     "text": [
      "(40, 40, 20)\n"
     ]
    }
   ],
   "source": [
    "print(np.shape(bx1))"
   ]
  },
  {
   "cell_type": "code",
   "execution_count": 430,
   "id": "02fd9440",
   "metadata": {},
   "outputs": [],
   "source": [
    "X1, Z1 = np.meshgrid(x,z)\n",
    "hslice=20"
   ]
  },
  {
   "cell_type": "code",
   "execution_count": 431,
   "id": "6dd96820",
   "metadata": {},
   "outputs": [],
   "source": [
    "temp=bx1[hslice,:,:]\n",
    "bx2=np.reshape(temp,(40,20))\n",
    "temp=by1[hslice,:,:]\n",
    "by2=np.reshape(temp,(40,20))\n",
    "temp=bz1[hslice,:,:]\n",
    "bz2=np.reshape(temp,(40,20))\n",
    "#bz2=reshape(bz1(:,10,:),(20,41))"
   ]
  },
  {
   "cell_type": "code",
   "execution_count": 432,
   "id": "bcb61321",
   "metadata": {},
   "outputs": [],
   "source": [
    "temp=bx1[:,hslice,:]\n",
    "bx2=np.reshape(temp,(40,20))\n",
    "temp=by1[:,hslice,:]\n",
    "by2=np.reshape(temp,(40,20))\n",
    "temp=bz1[:,hslice,:]\n",
    "bz2=np.reshape(temp,(40,20))\n",
    "\n",
    "bmag=np.sqrt(bx2*bx2+by2*by2+bz2*bz2)"
   ]
  },
  {
   "cell_type": "code",
   "execution_count": 433,
   "id": "21016c71",
   "metadata": {},
   "outputs": [],
   "source": [
    "plt.quiver(X1,Z1,bx2,bz2)\n",
    "plt.show()"
   ]
  },
  {
   "cell_type": "code",
   "execution_count": null,
   "id": "7a91fdea",
   "metadata": {},
   "outputs": [],
   "source": []
  },
  {
   "cell_type": "code",
   "execution_count": 404,
   "id": "1ffa3083",
   "metadata": {},
   "outputs": [],
   "source": [
    "bmag=np.sqrt(bx2*bx2+by2*by2+bz2*bz2)\n",
    "im2 = plt.imshow(bmag, cmap=plt.cm.viridis, alpha=.9, interpolation='bilinear')\n",
    "\n",
    "plt.show()"
   ]
  },
  {
   "cell_type": "code",
   "execution_count": 434,
   "id": "9e880848",
   "metadata": {},
   "outputs": [],
   "source": [
    "X1h, Y1h = np.meshgrid(x,y)\n",
    "vslice=19"
   ]
  },
  {
   "cell_type": "code",
   "execution_count": 435,
   "id": "7e4f6638",
   "metadata": {},
   "outputs": [],
   "source": [
    "temp=bx1[:,:,vslice]\n",
    "bx2=np.reshape(temp,(40,40))\n",
    "temp=bz1[:,:,vslice]\n",
    "bz2=np.reshape(temp,(40,40))\n",
    "temp=by1[:,:,vslice]\n",
    "by2=np.reshape(temp,(40,40))\n",
    "\n",
    "bmag=np.sqrt(bx2*bx2+by2*by2+bz2*bz2)"
   ]
  },
  {
   "cell_type": "code",
   "execution_count": 437,
   "id": "bfbcbe64",
   "metadata": {},
   "outputs": [],
   "source": [
    "plt.quiver(X1h,Y1h,bx2,bz2)\n",
    "plt.show()"
   ]
  },
  {
   "cell_type": "code",
   "execution_count": 412,
   "id": "a8054ad4",
   "metadata": {},
   "outputs": [],
   "source": [
    "bmag=np.sqrt(bx2*bx2+by2*by2+bz2*bz2)\n",
    "im2 = plt.imshow(bmag, cmap=plt.cm.viridis, alpha=.9, interpolation='bilinear')\n",
    "\n",
    "plt.show()"
   ]
  },
  {
   "cell_type": "code",
   "execution_count": 388,
   "id": "1d028411",
   "metadata": {},
   "outputs": [],
   "source": [
    "cs=plt.contour(X1h,Y1h,bmag,[0.1,0.5,1,5]); \n",
    "plt.show()"
   ]
  },
  {
   "cell_type": "code",
   "execution_count": null,
   "id": "72022494",
   "metadata": {},
   "outputs": [],
   "source": []
  },
  {
   "cell_type": "code",
   "execution_count": null,
   "id": "654916c2",
   "metadata": {},
   "outputs": [],
   "source": []
  },
  {
   "cell_type": "code",
   "execution_count": null,
   "id": "78b463b9",
   "metadata": {},
   "outputs": [],
   "source": []
  }
 ],
 "metadata": {
  "kernelspec": {
   "display_name": "Python 3 (ipykernel)",
   "language": "python",
   "name": "python3"
  },
  "language_info": {
   "codemirror_mode": {
    "name": "ipython",
    "version": 3
   },
   "file_extension": ".py",
   "mimetype": "text/x-python",
   "name": "python",
   "nbconvert_exporter": "python",
   "pygments_lexer": "ipython3",
   "version": "3.7.9"
  }
 },
 "nbformat": 4,
 "nbformat_minor": 5
}

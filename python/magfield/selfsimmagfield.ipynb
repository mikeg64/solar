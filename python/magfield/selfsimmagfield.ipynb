{
 "cells": [
  {
   "cell_type": "markdown",
   "id": "f08767dd",
   "metadata": {},
   "source": [
    "# Self similar Magnetic Field\n",
    "\n",
    "http://solarwavetheory.blogspot.com/search/label/self-similar\n",
    "\n"
   ]
  },
  {
   "cell_type": "code",
   "execution_count": 2,
   "id": "b9e7a5b4",
   "metadata": {},
   "outputs": [],
   "source": [
    "import math\n",
    "import numpy as np\n",
    "import matplotlib.pyplot as plt\n",
    "from matplotlib import cm\n",
    "import matplotlib.animation as animation\n",
    "from IPython.display import HTML\n",
    "\n",
    "#%matplotlib inline\n",
    "\n",
    "#useful for 3d viewer\n",
    "%matplotlib osx"
   ]
  },
  {
   "cell_type": "code",
   "execution_count": 3,
   "id": "0363064d",
   "metadata": {},
   "outputs": [],
   "source": [
    "def listaddx(inlist, x):\n",
    "    for i in range(len(inlist)):\n",
    "        inlist[i]=inlist[i]+x\n",
    "    return inlist"
   ]
  },
  {
   "cell_type": "code",
   "execution_count": 4,
   "id": "013469aa",
   "metadata": {},
   "outputs": [],
   "source": [
    "m=.05 #m=pi.*a.^2.*I/c ring current I radius a\n",
    "slen=0.2\n",
    "b0=1.0\n",
    "wid=1.0\n",
    "shift=0.5\n",
    "b0x=0.1\n",
    "b0y=0.567"
   ]
  },
  {
   "cell_type": "code",
   "execution_count": 5,
   "id": "34782d1a",
   "metadata": {},
   "outputs": [],
   "source": [
    "#x=-1.0:0.05:1.0;\n",
    "#y=0.1:0.1:2.0;\n",
    "        \n",
    "x=np.linspace(-1.0,1.0,41)  \n",
    "y=np.linspace(0.1,2.0,20)"
   ]
  },
  {
   "cell_type": "code",
   "execution_count": 6,
   "id": "3e44117b",
   "metadata": {},
   "outputs": [
    {
     "name": "stdout",
     "output_type": "stream",
     "text": [
      "[-1.   -0.95 -0.9  -0.85 -0.8  -0.75 -0.7  -0.65 -0.6  -0.55 -0.5  -0.45\n",
      " -0.4  -0.35 -0.3  -0.25 -0.2  -0.15 -0.1  -0.05  0.    0.05  0.1   0.15\n",
      "  0.2   0.25  0.3   0.35  0.4   0.45  0.5   0.55  0.6   0.65  0.7   0.75\n",
      "  0.8   0.85  0.9   0.95  1.  ]\n",
      "[0.1 0.2 0.3 0.4 0.5 0.6 0.7 0.8 0.9 1.  1.1 1.2 1.3 1.4 1.5 1.6 1.7 1.8\n",
      " 1.9 2. ]\n"
     ]
    }
   ],
   "source": [
    "print(x)\n",
    "print(y)"
   ]
  },
  {
   "cell_type": "code",
   "execution_count": 7,
   "id": "24eaf5ce",
   "metadata": {},
   "outputs": [],
   "source": [
    "\n",
    "#[X1,Y1]=meshgrid(x-shift,y);\n",
    "#[X2,Y2]=meshgrid(x+shift,y);\n",
    "X, Y = np.meshgrid(x,y)\n",
    "X1, Y1 = np.meshgrid(x-shift, y)\n",
    "X2, Y2 = np.meshgrid(x+shift, y)\n",
    "\n",
    "\n"
   ]
  },
  {
   "cell_type": "code",
   "execution_count": 8,
   "id": "1e98f7f5",
   "metadata": {},
   "outputs": [],
   "source": [
    "#%bx1=-0.1*(X1./sqrt(X1.^2))-2.0.*b0*X1.*exp(-wid.*(X1.^2)./len);\n",
    "#bx1=-2.0.*b0*X1.*exp(-wid.*(X1.^2)./len);\n",
    "#by1=+b0.*exp(-wid.*(X1.^2)./len);\n",
    "\n",
    "bx1=-2.0*b0*X1*np.exp(-wid*(X1**2)/slen)\n",
    "by1=+b0*np.exp(-wid*(X1**2)/slen)\n",
    "\n",
    "\n"
   ]
  },
  {
   "cell_type": "code",
   "execution_count": 16,
   "id": "af5e2b29",
   "metadata": {},
   "outputs": [],
   "source": [
    "#%bx2=0.1*(X2./sqrt(X2.^2))+2.0.*b0*X2.*exp(-wid.*(X2.^2)./len);\n",
    "#bx2=+2.0.*b0*X2.*exp(-wid.*(X2.^2)./len);\n",
    "#by2=-b0.*exp(-wid.*(X2.^2)./len);\n",
    "\n",
    "bx2=-2.0*b0*X2*np.exp(-wid*(X2**2)/slen)\n",
    "by2=b0*np.exp(-wid*(X2**2)/slen)\n"
   ]
  },
  {
   "cell_type": "code",
   "execution_count": 17,
   "id": "ea41371b",
   "metadata": {},
   "outputs": [],
   "source": [
    "bx=bx1\n",
    "by=by1\n",
    "bmag=np.sqrt(bx**2+by**2)"
   ]
  },
  {
   "cell_type": "code",
   "execution_count": 12,
   "id": "aaffe3ea",
   "metadata": {},
   "outputs": [
    {
     "ename": "SyntaxError",
     "evalue": "invalid syntax (1444448452.py, line 1)",
     "output_type": "error",
     "traceback": [
      "\u001b[0;36m  File \u001b[0;32m\"/var/folders/jr/4mwd3hqn7lbd7vq59vqx30n80000gn/T/ipykernel_31725/1444448452.py\"\u001b[0;36m, line \u001b[0;32m1\u001b[0m\n\u001b[0;31m    bmag=sqrt(bx.^2+by.^2);\u001b[0m\n\u001b[0m                 ^\u001b[0m\n\u001b[0;31mSyntaxError\u001b[0m\u001b[0;31m:\u001b[0m invalid syntax\n"
     ]
    }
   ],
   "source": [
    "bmag=sqrt(bx.^2+by.^2);\n",
    "contour(X,Y,bmag,[0.005 0.006 0.007 0.008 0.009 0.01 0.05 0.1 0.15 0.2 0.25 0.3 .35 .4 .45 2]);\n",
    "hold on\n",
    "quiver(X(8:20,:),Y(8:20,:),bx(8:20,:),by(8:20,:),3);\n",
    "hold off"
   ]
  },
  {
   "cell_type": "code",
   "execution_count": 15,
   "id": "d08fd8d1",
   "metadata": {},
   "outputs": [],
   "source": [
    "im2 = plt.imshow(bmag, cmap=plt.cm.viridis, alpha=.9, interpolation='bilinear')\n",
    "\n",
    "plt.show()"
   ]
  },
  {
   "cell_type": "code",
   "execution_count": 19,
   "id": "2f9d70eb",
   "metadata": {},
   "outputs": [],
   "source": [
    "plt.quiver(X,Y,bx,by)\n",
    "plt.show()"
   ]
  },
  {
   "cell_type": "code",
   "execution_count": null,
   "id": "29075487",
   "metadata": {},
   "outputs": [],
   "source": []
  },
  {
   "cell_type": "code",
   "execution_count": 20,
   "id": "825fab86",
   "metadata": {},
   "outputs": [],
   "source": [
    "f=X*b0y+Y*b0x\n",
    "fs=np.power(wid*f/slen,2)\n",
    "bx1=-b0x*np.exp(-fs)\n",
    "by1=b0y*np.exp(-fs)"
   ]
  },
  {
   "cell_type": "code",
   "execution_count": 22,
   "id": "9fe18381",
   "metadata": {},
   "outputs": [],
   "source": [
    "plt.quiver(X,Y,bx1,by1)\n",
    "plt.show()"
   ]
  },
  {
   "cell_type": "code",
   "execution_count": null,
   "id": "54a5092b",
   "metadata": {},
   "outputs": [],
   "source": [
    "#prove that the field is divb zero!"
   ]
  },
  {
   "cell_type": "code",
   "execution_count": null,
   "id": "a78d1a71",
   "metadata": {},
   "outputs": [],
   "source": []
  }
 ],
 "metadata": {
  "kernelspec": {
   "display_name": "Python 3 (ipykernel)",
   "language": "python",
   "name": "python3"
  },
  "language_info": {
   "codemirror_mode": {
    "name": "ipython",
    "version": 3
   },
   "file_extension": ".py",
   "mimetype": "text/x-python",
   "name": "python",
   "nbconvert_exporter": "python",
   "pygments_lexer": "ipython3",
   "version": "3.7.9"
  }
 },
 "nbformat": 4,
 "nbformat_minor": 5
}
